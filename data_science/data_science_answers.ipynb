{
 "cells": [
  {
   "cell_type": "markdown",
   "metadata": {},
   "source": [
    "# 0. Overview\n",
    "\n",
    "### Data\n",
    "\n",
    "We will be analyzing an extract of 1994 U.S. Census data. See more on the data set [here](https://archive.ics.uci.edu/ml/datasets/census+income). First, we are going to need some help from some well-known, third-party libraries"
   ]
  },
  {
   "cell_type": "markdown",
   "metadata": {},
   "source": [
    "### Goals\n",
    "\n",
    "Work through the given data - cleaning it, exploring it, transforming it - so as to come to a point where we can build a model to predict whether or not a given citizen, based on the other available information, earns over $50K per year. Additionally, we will dive into learning the proper protocols for setting up for tuning, and evaluating, our predictive models. "
   ]
  },
  {
   "cell_type": "markdown",
   "metadata": {},
   "source": [
    "### Third-party libraries\n",
    "\n",
    "Third-party libraries are libraries (collections of code) that do not come with the core Python distribution. You can get these libraries through downloading the Anaconda distribution, which includes them all, or through installing them manually with `pip` (or `pip3`, depending on your system), which is the Python package manager.\n",
    "\n",
    "When importing a Python library, you can give it an alias, which is usually done to make something easier to type. It's good to follow standard protocol for a given library when doing this so that other people will recognize it throughout your code. \n",
    "\n",
    "`numpy` (typically abbreviated as `np`) provides the following:\n",
    "- a homogenous (read: for a single data type) array with very useful manipulation methods\n",
    "- a number of useful advanced math functions\n",
    "- other data type helpers\n",
    "- in many ways `numpy` is a collection of Python wrappers for very well-optimized C and FORTRAN math code\n",
    "\n",
    "`pandas` (typically abbreviated as `pd`) is:\n",
    "- a library that provides, amongst other things, a very nice data structure known as the `DataFrame`\n",
    "- the `DataFrame` is a relational / tabular data structure\n",
    "- i.e. it allows you to do SQL-ish analysis in Python\n",
    "- it also visualizes nicely in Jupyter notebooks\n",
    "- a good bit of Pandas is actually just user-friendly interfaces on top of `numpy`\n",
    "\n",
    "`matplotlib` (from which the `pyplot` submodule is typically imported and aliased as `plt`)\n",
    "- the old faithful data visualization library for Python\n",
    "- it definitely provides a steep learning curve\n",
    "- but it's a powerful tool once learned\n",
    "\n",
    "`indoorplants`\n",
    "- this is a library I've written to help me in my analysis workflows. You are welcome to check out and use the code, which you can find [here](https://github.com/lermana/indoorplants)\n",
    "- to get this library, run `pip install indoorplants`\n",
    "- you'll want to restart jupyter after doing this. so, you may want to go to the terminal (or cmd in Windows) where you are running this notebook, kill jupyter (`ctl` + `c`, and then `y`, then `enter`) and then install the library, and then relaunch jupyter (`jupyter notebook`). you could also just use the anaconda installer app for this\n",
    "- if you don't want the install, you can simply comment out the lines that mention that repo with a `#`; look for commands or functions that start with: `exploratory.`, `features.`, `crossvalidate.`, `curves.`"
   ]
  },
  {
   "cell_type": "code",
   "execution_count": 1,
   "metadata": {},
   "outputs": [],
   "source": [
    "import requests\n",
    "import numpy as np\n",
    "import pandas as pd\n",
    "import matplotlib.pyplot as plt\n",
    "from sklearn.feature_selection import RFE, chi2\n",
    "from sklearn.model_selection import train_test_split, cross_val_score, cross_validate, GridSearchCV\n",
    "from sklearn.ensemble import RandomForestClassifier\n",
    "from sklearn.metrics import accuracy_score, confusion_matrix, precision_score, recall_score, make_scorer\n",
    "\n",
    "from indoorplants.analysis import exploratory, features\n",
    "from indoorplants.validation import crossvalidate, curves"
   ]
  },
  {
   "cell_type": "markdown",
   "metadata": {},
   "source": [
    "### Taking notes in a `jupyter notebook`\n",
    "\n",
    "The ability to intertermix well-formatted notes with your code and charts is one of the strongest features that `jupyer` offers its users. You can write notes with [markdown syntax](https://github.com/adam-p/markdown-here/wiki/Markdown-Cheatsheet). Below is a an example markdown cell, which you can `enter` into to see how its formatting is created: "
   ]
  },
  {
   "cell_type": "markdown",
   "metadata": {},
   "source": [
    "**Example note taking**:\n",
    "> Here is a *quote* \n",
    "\n",
    "We can write `code`, too:\n",
    "```\n",
    "def fake_func():\n",
    "    return None\n",
    "```\n",
    "\n",
    "You can write math, too:\n",
    "> $\\sum n$\n",
    "\n",
    "Here's a [link](https://github.com/adam-p/markdown-here/wiki/Markdown-Cheatsheet) to more examples."
   ]
  },
  {
   "cell_type": "markdown",
   "metadata": {},
   "source": [
    "### Plots"
   ]
  },
  {
   "cell_type": "code",
   "execution_count": 2,
   "metadata": {},
   "outputs": [],
   "source": [
    "%matplotlib inline"
   ]
  },
  {
   "cell_type": "markdown",
   "metadata": {},
   "source": [
    "The above is a _magic_ Jupyter command that ensures all `matplotlib` plots will by default show in the notebook."
   ]
  },
  {
   "cell_type": "markdown",
   "metadata": {},
   "source": [
    "# 1. Get Data"
   ]
  },
  {
   "cell_type": "markdown",
   "metadata": {},
   "source": [
    "### Retrieve and quick look"
   ]
  },
  {
   "cell_type": "code",
   "execution_count": 3,
   "metadata": {},
   "outputs": [],
   "source": [
    "def get_census_data():\n",
    "    # column names\n",
    "    cols = ['age', 'workclass', 'fnlwgt', 'education', \n",
    "            'education_num', 'marital_status', 'occupation',\n",
    "            'relationship', 'race', 'sex', 'capital_gain',\n",
    "            'capital_loss', 'hours_per_week', 'native_country', \n",
    "            'over_fifty_k']\n",
    "\n",
    "    # url to retrieve data from\n",
    "    url = 'https://archive.ics.uci.edu/ml/machine-learning-databases/adult/adult.data'\n",
    "    \n",
    "    # iterate through lines of data stream, decoding and splitting each line on commas\n",
    "    print(\"Making request to get data.\")\n",
    "\n",
    "    with requests.get(url, stream=True) as r:\n",
    "        results = [l.decode().split(',') for l in r.iter_lines()]\n",
    "\n",
    "    print(\"Data retrieved.\")\n",
    "    \n",
    "    # convert data from of list of lists to DataFrame, set columns, and return\n",
    "    return pd.DataFrame(results, columns=cols)"
   ]
  },
  {
   "cell_type": "markdown",
   "metadata": {},
   "source": [
    "Let's use the above function to retrieve our data:"
   ]
  },
  {
   "cell_type": "code",
   "execution_count": 4,
   "metadata": {
    "scrolled": true
   },
   "outputs": [
    {
     "name": "stdout",
     "output_type": "stream",
     "text": [
      "Making request to get data.\n",
      "Data retrieved.\n"
     ]
    }
   ],
   "source": [
    "table = get_census_data()"
   ]
  },
  {
   "cell_type": "markdown",
   "metadata": {},
   "source": [
    "A great first step is to check out the size of your data:"
   ]
  },
  {
   "cell_type": "code",
   "execution_count": 5,
   "metadata": {
    "scrolled": true
   },
   "outputs": [
    {
     "data": {
      "text/plain": [
       "(32562, 15)"
      ]
     },
     "execution_count": 5,
     "metadata": {},
     "output_type": "execute_result"
    }
   ],
   "source": [
    "table.shape"
   ]
  },
  {
   "cell_type": "markdown",
   "metadata": {},
   "source": [
    "Next, let's look at data types. We can call the `dtypes` attribute on our `DataFrame` to see the data type for each of its columns. We'll then pass those results into the `value_counts` method, which returns all the values in the column it's called on, with the number of times that each value shows up in the column:"
   ]
  },
  {
   "cell_type": "code",
   "execution_count": 6,
   "metadata": {},
   "outputs": [
    {
     "data": {
      "text/plain": [
       "age               object\n",
       "workclass         object\n",
       "fnlwgt            object\n",
       "education         object\n",
       "education_num     object\n",
       "marital_status    object\n",
       "occupation        object\n",
       "relationship      object\n",
       "race              object\n",
       "sex               object\n",
       "capital_gain      object\n",
       "capital_loss      object\n",
       "hours_per_week    object\n",
       "native_country    object\n",
       "over_fifty_k      object\n",
       "dtype: object"
      ]
     },
     "execution_count": 6,
     "metadata": {},
     "output_type": "execute_result"
    }
   ],
   "source": [
    "table.dtypes"
   ]
  },
  {
   "cell_type": "code",
   "execution_count": 7,
   "metadata": {
    "scrolled": true
   },
   "outputs": [
    {
     "data": {
      "text/plain": [
       "object    15\n",
       "dtype: int64"
      ]
     },
     "execution_count": 7,
     "metadata": {},
     "output_type": "execute_result"
    }
   ],
   "source": [
    "table.dtypes.value_counts()"
   ]
  },
  {
   "cell_type": "markdown",
   "metadata": {},
   "source": [
    "All data columns are currently formatted as _strings_ (which `pandas` represents with the `object` type), which we will have to handle accordingly. \n",
    "\n",
    "Let's actually _look_ quickly at the top and bottom of the table. We can do this through using `iloc`, which takes the _integer location_ of rows and columns to return:"
   ]
  },
  {
   "cell_type": "code",
   "execution_count": 8,
   "metadata": {
    "scrolled": false
   },
   "outputs": [
    {
     "data": {
      "text/html": [
       "<div>\n",
       "<style scoped>\n",
       "    .dataframe tbody tr th:only-of-type {\n",
       "        vertical-align: middle;\n",
       "    }\n",
       "\n",
       "    .dataframe tbody tr th {\n",
       "        vertical-align: top;\n",
       "    }\n",
       "\n",
       "    .dataframe thead th {\n",
       "        text-align: right;\n",
       "    }\n",
       "</style>\n",
       "<table border=\"1\" class=\"dataframe\">\n",
       "  <thead>\n",
       "    <tr style=\"text-align: right;\">\n",
       "      <th></th>\n",
       "      <th>age</th>\n",
       "      <th>workclass</th>\n",
       "      <th>fnlwgt</th>\n",
       "      <th>education</th>\n",
       "      <th>education_num</th>\n",
       "      <th>marital_status</th>\n",
       "      <th>occupation</th>\n",
       "    </tr>\n",
       "  </thead>\n",
       "  <tbody>\n",
       "    <tr>\n",
       "      <th>0</th>\n",
       "      <td>39</td>\n",
       "      <td>State-gov</td>\n",
       "      <td>77516</td>\n",
       "      <td>Bachelors</td>\n",
       "      <td>13</td>\n",
       "      <td>Never-married</td>\n",
       "      <td>Adm-clerical</td>\n",
       "    </tr>\n",
       "    <tr>\n",
       "      <th>1</th>\n",
       "      <td>50</td>\n",
       "      <td>Self-emp-not-inc</td>\n",
       "      <td>83311</td>\n",
       "      <td>Bachelors</td>\n",
       "      <td>13</td>\n",
       "      <td>Married-civ-spouse</td>\n",
       "      <td>Exec-managerial</td>\n",
       "    </tr>\n",
       "    <tr>\n",
       "      <th>2</th>\n",
       "      <td>38</td>\n",
       "      <td>Private</td>\n",
       "      <td>215646</td>\n",
       "      <td>HS-grad</td>\n",
       "      <td>9</td>\n",
       "      <td>Divorced</td>\n",
       "      <td>Handlers-cleaners</td>\n",
       "    </tr>\n",
       "    <tr>\n",
       "      <th>3</th>\n",
       "      <td>53</td>\n",
       "      <td>Private</td>\n",
       "      <td>234721</td>\n",
       "      <td>11th</td>\n",
       "      <td>7</td>\n",
       "      <td>Married-civ-spouse</td>\n",
       "      <td>Handlers-cleaners</td>\n",
       "    </tr>\n",
       "    <tr>\n",
       "      <th>4</th>\n",
       "      <td>28</td>\n",
       "      <td>Private</td>\n",
       "      <td>338409</td>\n",
       "      <td>Bachelors</td>\n",
       "      <td>13</td>\n",
       "      <td>Married-civ-spouse</td>\n",
       "      <td>Prof-specialty</td>\n",
       "    </tr>\n",
       "  </tbody>\n",
       "</table>\n",
       "</div>"
      ],
      "text/plain": [
       "  age          workclass   fnlwgt   education education_num  \\\n",
       "0  39          State-gov    77516   Bachelors            13   \n",
       "1  50   Self-emp-not-inc    83311   Bachelors            13   \n",
       "2  38            Private   215646     HS-grad             9   \n",
       "3  53            Private   234721        11th             7   \n",
       "4  28            Private   338409   Bachelors            13   \n",
       "\n",
       "        marital_status          occupation  \n",
       "0        Never-married        Adm-clerical  \n",
       "1   Married-civ-spouse     Exec-managerial  \n",
       "2             Divorced   Handlers-cleaners  \n",
       "3   Married-civ-spouse   Handlers-cleaners  \n",
       "4   Married-civ-spouse      Prof-specialty  "
      ]
     },
     "execution_count": 8,
     "metadata": {},
     "output_type": "execute_result"
    }
   ],
   "source": [
    "table.iloc[:5, :7]"
   ]
  },
  {
   "cell_type": "code",
   "execution_count": 9,
   "metadata": {},
   "outputs": [
    {
     "data": {
      "text/html": [
       "<div>\n",
       "<style scoped>\n",
       "    .dataframe tbody tr th:only-of-type {\n",
       "        vertical-align: middle;\n",
       "    }\n",
       "\n",
       "    .dataframe tbody tr th {\n",
       "        vertical-align: top;\n",
       "    }\n",
       "\n",
       "    .dataframe thead th {\n",
       "        text-align: right;\n",
       "    }\n",
       "</style>\n",
       "<table border=\"1\" class=\"dataframe\">\n",
       "  <thead>\n",
       "    <tr style=\"text-align: right;\">\n",
       "      <th></th>\n",
       "      <th>race</th>\n",
       "      <th>sex</th>\n",
       "      <th>capital_gain</th>\n",
       "      <th>capital_loss</th>\n",
       "      <th>hours_per_week</th>\n",
       "      <th>native_country</th>\n",
       "      <th>over_fifty_k</th>\n",
       "    </tr>\n",
       "  </thead>\n",
       "  <tbody>\n",
       "    <tr>\n",
       "      <th>32557</th>\n",
       "      <td>White</td>\n",
       "      <td>Male</td>\n",
       "      <td>0</td>\n",
       "      <td>0</td>\n",
       "      <td>40</td>\n",
       "      <td>United-States</td>\n",
       "      <td>&gt;50K</td>\n",
       "    </tr>\n",
       "    <tr>\n",
       "      <th>32558</th>\n",
       "      <td>White</td>\n",
       "      <td>Female</td>\n",
       "      <td>0</td>\n",
       "      <td>0</td>\n",
       "      <td>40</td>\n",
       "      <td>United-States</td>\n",
       "      <td>&lt;=50K</td>\n",
       "    </tr>\n",
       "    <tr>\n",
       "      <th>32559</th>\n",
       "      <td>White</td>\n",
       "      <td>Male</td>\n",
       "      <td>0</td>\n",
       "      <td>0</td>\n",
       "      <td>20</td>\n",
       "      <td>United-States</td>\n",
       "      <td>&lt;=50K</td>\n",
       "    </tr>\n",
       "    <tr>\n",
       "      <th>32560</th>\n",
       "      <td>White</td>\n",
       "      <td>Female</td>\n",
       "      <td>15024</td>\n",
       "      <td>0</td>\n",
       "      <td>40</td>\n",
       "      <td>United-States</td>\n",
       "      <td>&gt;50K</td>\n",
       "    </tr>\n",
       "    <tr>\n",
       "      <th>32561</th>\n",
       "      <td>None</td>\n",
       "      <td>None</td>\n",
       "      <td>None</td>\n",
       "      <td>None</td>\n",
       "      <td>None</td>\n",
       "      <td>None</td>\n",
       "      <td>None</td>\n",
       "    </tr>\n",
       "  </tbody>\n",
       "</table>\n",
       "</div>"
      ],
      "text/plain": [
       "         race      sex capital_gain capital_loss hours_per_week  \\\n",
       "32557   White     Male            0            0             40   \n",
       "32558   White   Female            0            0             40   \n",
       "32559   White     Male            0            0             20   \n",
       "32560   White   Female        15024            0             40   \n",
       "32561    None     None         None         None           None   \n",
       "\n",
       "       native_country over_fifty_k  \n",
       "32557   United-States         >50K  \n",
       "32558   United-States        <=50K  \n",
       "32559   United-States        <=50K  \n",
       "32560   United-States         >50K  \n",
       "32561            None         None  "
      ]
     },
     "execution_count": 9,
     "metadata": {},
     "output_type": "execute_result"
    }
   ],
   "source": [
    "table.iloc[-5:, 8:]"
   ]
  },
  {
   "cell_type": "markdown",
   "metadata": {},
   "source": [
    "### Data cleanliness\n",
    "\n",
    "Let's check for missing values:"
   ]
  },
  {
   "cell_type": "code",
   "execution_count": 10,
   "metadata": {},
   "outputs": [
    {
     "data": {
      "text/plain": [
       "age               0\n",
       "workclass         1\n",
       "fnlwgt            1\n",
       "education         1\n",
       "education_num     1\n",
       "marital_status    1\n",
       "occupation        1\n",
       "relationship      1\n",
       "race              1\n",
       "sex               1\n",
       "capital_gain      1\n",
       "capital_loss      1\n",
       "hours_per_week    1\n",
       "native_country    1\n",
       "over_fifty_k      1\n",
       "dtype: int64"
      ]
     },
     "execution_count": 10,
     "metadata": {},
     "output_type": "execute_result"
    }
   ],
   "source": [
    "table.isnull().sum()"
   ]
  },
  {
   "cell_type": "markdown",
   "metadata": {},
   "source": [
    "`isnull()` is a method that returns `True` for every row in `data` that is `null`, in each of the columns. We can then call `sum` on the results to see the total number of `null` values in each column.\n",
    "\n",
    "We see that we have 1 missing value each, for every column except for `age` - let's see if these all these values are in the same row:"
   ]
  },
  {
   "cell_type": "code",
   "execution_count": 11,
   "metadata": {},
   "outputs": [
    {
     "data": {
      "text/plain": [
       "Int64Index([32561], dtype='int64')"
      ]
     },
     "execution_count": 11,
     "metadata": {},
     "output_type": "execute_result"
    }
   ],
   "source": [
    "table[table.isnull().any(1)].index"
   ]
  },
  {
   "cell_type": "markdown",
   "metadata": {},
   "source": [
    "One of the ways in which we can filter a `DataFrame` is to pass a condition into it using square brackets.The square bracket syntax works such that it will then return the rows in the `DataFrame` that have a value of `True`. So, `isnull` returns a whole collection of `True` or `False` values for each position in the index, and the square bracket syntax then returns the rest of the row for each `True` index value. \n",
    "\n",
    "All missing values are in the row _labeled_ `32561`. Before we delete this row, let's see if the `age` column has any useful information in this row:"
   ]
  },
  {
   "cell_type": "code",
   "execution_count": 12,
   "metadata": {
    "scrolled": true
   },
   "outputs": [
    {
     "data": {
      "text/plain": [
       "''"
      ]
     },
     "execution_count": 12,
     "metadata": {},
     "output_type": "execute_result"
    }
   ],
   "source": [
    "table.loc[32561, \"age\"]"
   ]
  },
  {
   "cell_type": "markdown",
   "metadata": {},
   "source": [
    "Nothing - so let's drop. Note that dropping missing data is, generally speaking a bad idea. In this case, we have exactly _one_ out of over 30K+ rows that's missing, so, fine to just drop it. See more on the subject [here](http://www.stat.columbia.edu/~gelman/arm/missing.pdf)."
   ]
  },
  {
   "cell_type": "code",
   "execution_count": 13,
   "metadata": {},
   "outputs": [],
   "source": [
    "table = table.dropna()"
   ]
  },
  {
   "cell_type": "markdown",
   "metadata": {},
   "source": [
    "Now, let's check for duplicates:"
   ]
  },
  {
   "cell_type": "code",
   "execution_count": 14,
   "metadata": {},
   "outputs": [
    {
     "data": {
      "text/plain": [
       "0    False\n",
       "1    False\n",
       "2    False\n",
       "3    False\n",
       "4    False\n",
       "dtype: bool"
      ]
     },
     "execution_count": 14,
     "metadata": {},
     "output_type": "execute_result"
    }
   ],
   "source": [
    "table.duplicated().head()"
   ]
  },
  {
   "cell_type": "code",
   "execution_count": 15,
   "metadata": {
    "scrolled": false
   },
   "outputs": [
    {
     "data": {
      "text/plain": [
       "24"
      ]
     },
     "execution_count": 15,
     "metadata": {},
     "output_type": "execute_result"
    }
   ],
   "source": [
    "table.duplicated().sum()"
   ]
  },
  {
   "cell_type": "code",
   "execution_count": 16,
   "metadata": {},
   "outputs": [
    {
     "data": {
      "text/html": [
       "<div>\n",
       "<style scoped>\n",
       "    .dataframe tbody tr th:only-of-type {\n",
       "        vertical-align: middle;\n",
       "    }\n",
       "\n",
       "    .dataframe tbody tr th {\n",
       "        vertical-align: top;\n",
       "    }\n",
       "\n",
       "    .dataframe thead th {\n",
       "        text-align: right;\n",
       "    }\n",
       "</style>\n",
       "<table border=\"1\" class=\"dataframe\">\n",
       "  <thead>\n",
       "    <tr style=\"text-align: right;\">\n",
       "      <th></th>\n",
       "      <th>age</th>\n",
       "      <th>workclass</th>\n",
       "      <th>fnlwgt</th>\n",
       "      <th>education</th>\n",
       "      <th>education_num</th>\n",
       "      <th>marital_status</th>\n",
       "      <th>occupation</th>\n",
       "      <th>relationship</th>\n",
       "      <th>race</th>\n",
       "      <th>sex</th>\n",
       "      <th>capital_gain</th>\n",
       "      <th>capital_loss</th>\n",
       "      <th>hours_per_week</th>\n",
       "      <th>native_country</th>\n",
       "      <th>over_fifty_k</th>\n",
       "    </tr>\n",
       "  </thead>\n",
       "  <tbody>\n",
       "    <tr>\n",
       "      <th>6990</th>\n",
       "      <td>19</td>\n",
       "      <td>Private</td>\n",
       "      <td>138153</td>\n",
       "      <td>Some-college</td>\n",
       "      <td>10</td>\n",
       "      <td>Never-married</td>\n",
       "      <td>Adm-clerical</td>\n",
       "      <td>Own-child</td>\n",
       "      <td>White</td>\n",
       "      <td>Female</td>\n",
       "      <td>0</td>\n",
       "      <td>0</td>\n",
       "      <td>10</td>\n",
       "      <td>United-States</td>\n",
       "      <td>&lt;=50K</td>\n",
       "    </tr>\n",
       "    <tr>\n",
       "      <th>21318</th>\n",
       "      <td>19</td>\n",
       "      <td>Private</td>\n",
       "      <td>138153</td>\n",
       "      <td>Some-college</td>\n",
       "      <td>10</td>\n",
       "      <td>Never-married</td>\n",
       "      <td>Adm-clerical</td>\n",
       "      <td>Own-child</td>\n",
       "      <td>White</td>\n",
       "      <td>Female</td>\n",
       "      <td>0</td>\n",
       "      <td>0</td>\n",
       "      <td>10</td>\n",
       "      <td>United-States</td>\n",
       "      <td>&lt;=50K</td>\n",
       "    </tr>\n",
       "    <tr>\n",
       "      <th>15189</th>\n",
       "      <td>19</td>\n",
       "      <td>Private</td>\n",
       "      <td>146679</td>\n",
       "      <td>Some-college</td>\n",
       "      <td>10</td>\n",
       "      <td>Never-married</td>\n",
       "      <td>Exec-managerial</td>\n",
       "      <td>Own-child</td>\n",
       "      <td>Black</td>\n",
       "      <td>Male</td>\n",
       "      <td>0</td>\n",
       "      <td>0</td>\n",
       "      <td>30</td>\n",
       "      <td>United-States</td>\n",
       "      <td>&lt;=50K</td>\n",
       "    </tr>\n",
       "    <tr>\n",
       "      <th>21490</th>\n",
       "      <td>19</td>\n",
       "      <td>Private</td>\n",
       "      <td>146679</td>\n",
       "      <td>Some-college</td>\n",
       "      <td>10</td>\n",
       "      <td>Never-married</td>\n",
       "      <td>Exec-managerial</td>\n",
       "      <td>Own-child</td>\n",
       "      <td>Black</td>\n",
       "      <td>Male</td>\n",
       "      <td>0</td>\n",
       "      <td>0</td>\n",
       "      <td>30</td>\n",
       "      <td>United-States</td>\n",
       "      <td>&lt;=50K</td>\n",
       "    </tr>\n",
       "    <tr>\n",
       "      <th>3917</th>\n",
       "      <td>19</td>\n",
       "      <td>Private</td>\n",
       "      <td>251579</td>\n",
       "      <td>Some-college</td>\n",
       "      <td>10</td>\n",
       "      <td>Never-married</td>\n",
       "      <td>Other-service</td>\n",
       "      <td>Own-child</td>\n",
       "      <td>White</td>\n",
       "      <td>Male</td>\n",
       "      <td>0</td>\n",
       "      <td>0</td>\n",
       "      <td>14</td>\n",
       "      <td>United-States</td>\n",
       "      <td>&lt;=50K</td>\n",
       "    </tr>\n",
       "  </tbody>\n",
       "</table>\n",
       "</div>"
      ],
      "text/plain": [
       "      age workclass   fnlwgt      education education_num  marital_status  \\\n",
       "6990   19   Private   138153   Some-college            10   Never-married   \n",
       "21318  19   Private   138153   Some-college            10   Never-married   \n",
       "15189  19   Private   146679   Some-college            10   Never-married   \n",
       "21490  19   Private   146679   Some-college            10   Never-married   \n",
       "3917   19   Private   251579   Some-college            10   Never-married   \n",
       "\n",
       "             occupation relationship    race      sex capital_gain  \\\n",
       "6990       Adm-clerical    Own-child   White   Female            0   \n",
       "21318      Adm-clerical    Own-child   White   Female            0   \n",
       "15189   Exec-managerial    Own-child   Black     Male            0   \n",
       "21490   Exec-managerial    Own-child   Black     Male            0   \n",
       "3917      Other-service    Own-child   White     Male            0   \n",
       "\n",
       "      capital_loss hours_per_week  native_country over_fifty_k  \n",
       "6990             0             10   United-States        <=50K  \n",
       "21318            0             10   United-States        <=50K  \n",
       "15189            0             30   United-States        <=50K  \n",
       "21490            0             30   United-States        <=50K  \n",
       "3917             0             14   United-States        <=50K  "
      ]
     },
     "execution_count": 16,
     "metadata": {},
     "output_type": "execute_result"
    }
   ],
   "source": [
    "table[table.duplicated(keep=False)].sort_values(table.columns.to_list()).head()"
   ]
  },
  {
   "cell_type": "code",
   "execution_count": 17,
   "metadata": {},
   "outputs": [
    {
     "data": {
      "text/plain": [
       "age               0\n",
       "workclass         0\n",
       "fnlwgt            0\n",
       "education         0\n",
       "education_num     0\n",
       "marital_status    0\n",
       "occupation        0\n",
       "relationship      0\n",
       "race              0\n",
       "sex               0\n",
       "capital_gain      0\n",
       "capital_loss      0\n",
       "hours_per_week    0\n",
       "native_country    0\n",
       "over_fifty_k      0\n",
       "dtype: int64"
      ]
     },
     "execution_count": 17,
     "metadata": {},
     "output_type": "execute_result"
    }
   ],
   "source": [
    "table.isnull().sum()"
   ]
  },
  {
   "cell_type": "markdown",
   "metadata": {},
   "source": [
    "The `duplicated` method works similarly to `isnull`, in that it returns a _boolean mask_. By default, it will return `True` for a row that has _already_ been seen. You can control whether it treats the _first_ or _last_ instance of a row as a duplicate, or you can also count _all_ instances of a given row (that appears more than once) as duplicates. This behavior is controlled through the `keep` _keyword argument_. \n",
    "\n",
    "Let's write _all_ duplicates to file before we drop them. We can do this using the `to_csv` method, which takes (in addition to other optional parameters that control things like the delimiter used) a _path_ to write the file to:"
   ]
  },
  {
   "cell_type": "code",
   "execution_count": 18,
   "metadata": {},
   "outputs": [],
   "source": [
    "table[table.duplicated(keep=False)].to_csv(\"duplicates.csv\")"
   ]
  },
  {
   "cell_type": "code",
   "execution_count": 19,
   "metadata": {},
   "outputs": [],
   "source": [
    "table = table.drop_duplicates()"
   ]
  },
  {
   "cell_type": "markdown",
   "metadata": {},
   "source": [
    "### Data type handling - _numeric_\n",
    "\n",
    "Let's get this data typed properly. We may have to manually make these changes using the `astype` method, but let's see what the `infer_objects` method can do for us:"
   ]
  },
  {
   "cell_type": "code",
   "execution_count": 20,
   "metadata": {
    "scrolled": true
   },
   "outputs": [
    {
     "data": {
      "text/plain": [
       "age               object\n",
       "workclass         object\n",
       "fnlwgt            object\n",
       "education         object\n",
       "education_num     object\n",
       "marital_status    object\n",
       "occupation        object\n",
       "relationship      object\n",
       "race              object\n",
       "sex               object\n",
       "capital_gain      object\n",
       "capital_loss      object\n",
       "hours_per_week    object\n",
       "native_country    object\n",
       "over_fifty_k      object\n",
       "dtype: object"
      ]
     },
     "execution_count": 20,
     "metadata": {},
     "output_type": "execute_result"
    }
   ],
   "source": [
    "table.infer_objects().dtypes"
   ]
  },
  {
   "cell_type": "markdown",
   "metadata": {},
   "source": [
    "Ok .... nothing. We'll try this manually.\n",
    "\n",
    "We know that most of these columns contain _categorical_, or _non-numeric_ data, but a few of these are numeric. Let's take a closer look. \n",
    "\n",
    "Note that we can pass multiple columns to a `DataFrame` through the use of double brackets. Also note that we can use the `head` method to return the first five rows across all columns:"
   ]
  },
  {
   "cell_type": "code",
   "execution_count": 21,
   "metadata": {},
   "outputs": [
    {
     "data": {
      "text/html": [
       "<div>\n",
       "<style scoped>\n",
       "    .dataframe tbody tr th:only-of-type {\n",
       "        vertical-align: middle;\n",
       "    }\n",
       "\n",
       "    .dataframe tbody tr th {\n",
       "        vertical-align: top;\n",
       "    }\n",
       "\n",
       "    .dataframe thead th {\n",
       "        text-align: right;\n",
       "    }\n",
       "</style>\n",
       "<table border=\"1\" class=\"dataframe\">\n",
       "  <thead>\n",
       "    <tr style=\"text-align: right;\">\n",
       "      <th></th>\n",
       "      <th>age</th>\n",
       "      <th>fnlwgt</th>\n",
       "      <th>education_num</th>\n",
       "      <th>capital_gain</th>\n",
       "      <th>capital_loss</th>\n",
       "      <th>hours_per_week</th>\n",
       "    </tr>\n",
       "  </thead>\n",
       "  <tbody>\n",
       "    <tr>\n",
       "      <th>0</th>\n",
       "      <td>39</td>\n",
       "      <td>77516</td>\n",
       "      <td>13</td>\n",
       "      <td>2174</td>\n",
       "      <td>0</td>\n",
       "      <td>40</td>\n",
       "    </tr>\n",
       "    <tr>\n",
       "      <th>1</th>\n",
       "      <td>50</td>\n",
       "      <td>83311</td>\n",
       "      <td>13</td>\n",
       "      <td>0</td>\n",
       "      <td>0</td>\n",
       "      <td>13</td>\n",
       "    </tr>\n",
       "    <tr>\n",
       "      <th>2</th>\n",
       "      <td>38</td>\n",
       "      <td>215646</td>\n",
       "      <td>9</td>\n",
       "      <td>0</td>\n",
       "      <td>0</td>\n",
       "      <td>40</td>\n",
       "    </tr>\n",
       "    <tr>\n",
       "      <th>3</th>\n",
       "      <td>53</td>\n",
       "      <td>234721</td>\n",
       "      <td>7</td>\n",
       "      <td>0</td>\n",
       "      <td>0</td>\n",
       "      <td>40</td>\n",
       "    </tr>\n",
       "    <tr>\n",
       "      <th>4</th>\n",
       "      <td>28</td>\n",
       "      <td>338409</td>\n",
       "      <td>13</td>\n",
       "      <td>0</td>\n",
       "      <td>0</td>\n",
       "      <td>40</td>\n",
       "    </tr>\n",
       "  </tbody>\n",
       "</table>\n",
       "</div>"
      ],
      "text/plain": [
       "  age   fnlwgt education_num capital_gain capital_loss hours_per_week\n",
       "0  39    77516            13         2174            0             40\n",
       "1  50    83311            13            0            0             13\n",
       "2  38   215646             9            0            0             40\n",
       "3  53   234721             7            0            0             40\n",
       "4  28   338409            13            0            0             40"
      ]
     },
     "execution_count": 21,
     "metadata": {},
     "output_type": "execute_result"
    }
   ],
   "source": [
    "table[[\"age\", \"fnlwgt\", \"education_num\", \"capital_gain\", \"capital_loss\", \"hours_per_week\"]].head()"
   ]
  },
  {
   "cell_type": "markdown",
   "metadata": {},
   "source": [
    "Let's save these columns for future use:"
   ]
  },
  {
   "cell_type": "code",
   "execution_count": 22,
   "metadata": {},
   "outputs": [],
   "source": [
    "numeric_cols = [\"age\", \"fnlwgt\", \"education_num\", \"capital_gain\", \"capital_loss\", \"hours_per_week\"]"
   ]
  },
  {
   "cell_type": "markdown",
   "metadata": {},
   "source": [
    "It would be good to know whether we have _integer_ or _real_ number data in these numeric columns. How about we see if any of these columns _contain_ a `.`? `pandas` provides classic, Python string functionality to be applied to a `Series` of `object` type through accessing the `str` attribute, which we can make use of here.\n",
    "\n",
    "A `Series` is a single column of a `DataFrame`. While there is _a lot_ of overlap between `DataFrame` and `Series` functionality, there are some differences, and we are seeing one here - the `str` attribute exists only at the column level; i.e. it doesn't exist across more than one column at a time, if that makes sense.\n",
    "\n",
    "Let's start by checking our first numeric column to see whether there is a `.` in any of its values:"
   ]
  },
  {
   "cell_type": "code",
   "execution_count": 23,
   "metadata": {},
   "outputs": [
    {
     "data": {
      "text/html": [
       "<div>\n",
       "<style scoped>\n",
       "    .dataframe tbody tr th:only-of-type {\n",
       "        vertical-align: middle;\n",
       "    }\n",
       "\n",
       "    .dataframe tbody tr th {\n",
       "        vertical-align: top;\n",
       "    }\n",
       "\n",
       "    .dataframe thead th {\n",
       "        text-align: right;\n",
       "    }\n",
       "</style>\n",
       "<table border=\"1\" class=\"dataframe\">\n",
       "  <thead>\n",
       "    <tr style=\"text-align: right;\">\n",
       "      <th></th>\n",
       "      <th>age</th>\n",
       "      <th>fnlwgt</th>\n",
       "      <th>education_num</th>\n",
       "      <th>capital_gain</th>\n",
       "      <th>capital_loss</th>\n",
       "      <th>hours_per_week</th>\n",
       "    </tr>\n",
       "  </thead>\n",
       "  <tbody>\n",
       "    <tr>\n",
       "      <th>0</th>\n",
       "      <td>39</td>\n",
       "      <td>77516</td>\n",
       "      <td>13</td>\n",
       "      <td>2174</td>\n",
       "      <td>0</td>\n",
       "      <td>40</td>\n",
       "    </tr>\n",
       "    <tr>\n",
       "      <th>1</th>\n",
       "      <td>50</td>\n",
       "      <td>83311</td>\n",
       "      <td>13</td>\n",
       "      <td>0</td>\n",
       "      <td>0</td>\n",
       "      <td>13</td>\n",
       "    </tr>\n",
       "    <tr>\n",
       "      <th>2</th>\n",
       "      <td>38</td>\n",
       "      <td>215646</td>\n",
       "      <td>9</td>\n",
       "      <td>0</td>\n",
       "      <td>0</td>\n",
       "      <td>40</td>\n",
       "    </tr>\n",
       "    <tr>\n",
       "      <th>3</th>\n",
       "      <td>53</td>\n",
       "      <td>234721</td>\n",
       "      <td>7</td>\n",
       "      <td>0</td>\n",
       "      <td>0</td>\n",
       "      <td>40</td>\n",
       "    </tr>\n",
       "    <tr>\n",
       "      <th>4</th>\n",
       "      <td>28</td>\n",
       "      <td>338409</td>\n",
       "      <td>13</td>\n",
       "      <td>0</td>\n",
       "      <td>0</td>\n",
       "      <td>40</td>\n",
       "    </tr>\n",
       "  </tbody>\n",
       "</table>\n",
       "</div>"
      ],
      "text/plain": [
       "  age   fnlwgt education_num capital_gain capital_loss hours_per_week\n",
       "0  39    77516            13         2174            0             40\n",
       "1  50    83311            13            0            0             13\n",
       "2  38   215646             9            0            0             40\n",
       "3  53   234721             7            0            0             40\n",
       "4  28   338409            13            0            0             40"
      ]
     },
     "execution_count": 23,
     "metadata": {},
     "output_type": "execute_result"
    }
   ],
   "source": [
    "table[numeric_cols].head()"
   ]
  },
  {
   "cell_type": "code",
   "execution_count": 24,
   "metadata": {},
   "outputs": [
    {
     "data": {
      "text/plain": [
       "'age'"
      ]
     },
     "execution_count": 24,
     "metadata": {},
     "output_type": "execute_result"
    }
   ],
   "source": [
    "numeric_cols[0]"
   ]
  },
  {
   "cell_type": "code",
   "execution_count": 25,
   "metadata": {},
   "outputs": [
    {
     "data": {
      "text/plain": [
       "0    39\n",
       "1    50\n",
       "2    38\n",
       "3    53\n",
       "4    28\n",
       "Name: age, dtype: object"
      ]
     },
     "execution_count": 25,
     "metadata": {},
     "output_type": "execute_result"
    }
   ],
   "source": [
    "table[numeric_cols[0]].head()"
   ]
  },
  {
   "cell_type": "code",
   "execution_count": 26,
   "metadata": {},
   "outputs": [
    {
     "data": {
      "text/plain": [
       "0    39\n",
       "1    50\n",
       "2    38\n",
       "3    53\n",
       "4    28\n",
       "Name: age, dtype: object"
      ]
     },
     "execution_count": 26,
     "metadata": {},
     "output_type": "execute_result"
    }
   ],
   "source": [
    "table[\"age\"].head()"
   ]
  },
  {
   "cell_type": "code",
   "execution_count": 27,
   "metadata": {},
   "outputs": [
    {
     "data": {
      "text/plain": [
       "0    39\n",
       "1    50\n",
       "2    38\n",
       "3    53\n",
       "4    28\n",
       "Name: age, dtype: object"
      ]
     },
     "execution_count": 27,
     "metadata": {},
     "output_type": "execute_result"
    }
   ],
   "source": [
    "table.age.head()"
   ]
  },
  {
   "cell_type": "code",
   "execution_count": 28,
   "metadata": {},
   "outputs": [
    {
     "data": {
      "text/plain": [
       "'this_is_a_string_in_python'"
      ]
     },
     "execution_count": 28,
     "metadata": {},
     "output_type": "execute_result"
    }
   ],
   "source": [
    "\"This is a string in Python.\".lower().replace(\" \", \"_\").replace(\".\", \"\")"
   ]
  },
  {
   "cell_type": "code",
   "execution_count": 29,
   "metadata": {},
   "outputs": [
    {
     "data": {
      "text/plain": [
       "0    False\n",
       "1    False\n",
       "2    False\n",
       "3    False\n",
       "4    False\n",
       "Name: age, dtype: bool"
      ]
     },
     "execution_count": 29,
     "metadata": {},
     "output_type": "execute_result"
    }
   ],
   "source": [
    "table[numeric_cols[0]].str.contains(\"\\.\").head()"
   ]
  },
  {
   "cell_type": "code",
   "execution_count": 30,
   "metadata": {
    "scrolled": true
   },
   "outputs": [
    {
     "data": {
      "text/plain": [
       "0"
      ]
     },
     "execution_count": 30,
     "metadata": {},
     "output_type": "execute_result"
    }
   ],
   "source": [
    "table[numeric_cols[0]].str.contains(\"\\.\").sum()"
   ]
  },
  {
   "cell_type": "markdown",
   "metadata": {},
   "source": [
    "A couple of things to note here:\n",
    "- you cannot use `table.column`, and must use `table[column]`, when accessing a `DataFrame` column via a variable name\n",
    "- you must _escape_ `.` with a backslash (othwerise it will be treated as a _regex_ pattern)"
   ]
  },
  {
   "cell_type": "markdown",
   "metadata": {},
   "source": [
    "### --"
   ]
  },
  {
   "cell_type": "markdown",
   "metadata": {},
   "source": [
    "### Problem\n",
    "\n",
    "Check this across _all_ of our `numeric_cols`, through leveraging _iteration_. Bonus points if you can write this check as a one-liner."
   ]
  },
  {
   "cell_type": "code",
   "execution_count": 31,
   "metadata": {},
   "outputs": [
    {
     "data": {
      "text/plain": [
       "['age',\n",
       " 'fnlwgt',\n",
       " 'education_num',\n",
       " 'capital_gain',\n",
       " 'capital_loss',\n",
       " 'hours_per_week']"
      ]
     },
     "execution_count": 31,
     "metadata": {},
     "output_type": "execute_result"
    }
   ],
   "source": [
    "numeric_cols"
   ]
  },
  {
   "cell_type": "code",
   "execution_count": 32,
   "metadata": {},
   "outputs": [
    {
     "name": "stdout",
     "output_type": "stream",
     "text": [
      "0\n",
      "0\n",
      "0\n",
      "0\n",
      "0\n",
      "0\n"
     ]
    }
   ],
   "source": [
    "for col in numeric_cols:\n",
    "    print(table[col].str.contains(\"\\.\").sum())"
   ]
  },
  {
   "cell_type": "code",
   "execution_count": 33,
   "metadata": {
    "scrolled": true
   },
   "outputs": [
    {
     "data": {
      "text/plain": [
       "[0, 0, 0, 0, 0, 0]"
      ]
     },
     "execution_count": 33,
     "metadata": {},
     "output_type": "execute_result"
    }
   ],
   "source": [
    "[table[col].str.contains(\"\\.\").sum() for col in numeric_cols]"
   ]
  },
  {
   "cell_type": "code",
   "execution_count": 34,
   "metadata": {
    "scrolled": false
   },
   "outputs": [
    {
     "data": {
      "text/plain": [
       "True"
      ]
     },
     "execution_count": 34,
     "metadata": {},
     "output_type": "execute_result"
    }
   ],
   "source": [
    "sum([table[col].str.contains(\"\\.\").sum() for col in numeric_cols]) == 0"
   ]
  },
  {
   "cell_type": "markdown",
   "metadata": {},
   "source": [
    "### --"
   ]
  },
  {
   "cell_type": "code",
   "execution_count": 35,
   "metadata": {},
   "outputs": [
    {
     "data": {
      "text/html": [
       "<div>\n",
       "<style scoped>\n",
       "    .dataframe tbody tr th:only-of-type {\n",
       "        vertical-align: middle;\n",
       "    }\n",
       "\n",
       "    .dataframe tbody tr th {\n",
       "        vertical-align: top;\n",
       "    }\n",
       "\n",
       "    .dataframe thead th {\n",
       "        text-align: right;\n",
       "    }\n",
       "</style>\n",
       "<table border=\"1\" class=\"dataframe\">\n",
       "  <thead>\n",
       "    <tr style=\"text-align: right;\">\n",
       "      <th></th>\n",
       "      <th>age</th>\n",
       "      <th>fnlwgt</th>\n",
       "      <th>education_num</th>\n",
       "      <th>capital_gain</th>\n",
       "      <th>capital_loss</th>\n",
       "      <th>hours_per_week</th>\n",
       "    </tr>\n",
       "  </thead>\n",
       "  <tbody>\n",
       "    <tr>\n",
       "      <th>0</th>\n",
       "      <td>39</td>\n",
       "      <td>77516</td>\n",
       "      <td>13</td>\n",
       "      <td>2174</td>\n",
       "      <td>0</td>\n",
       "      <td>40</td>\n",
       "    </tr>\n",
       "    <tr>\n",
       "      <th>1</th>\n",
       "      <td>50</td>\n",
       "      <td>83311</td>\n",
       "      <td>13</td>\n",
       "      <td>0</td>\n",
       "      <td>0</td>\n",
       "      <td>13</td>\n",
       "    </tr>\n",
       "    <tr>\n",
       "      <th>2</th>\n",
       "      <td>38</td>\n",
       "      <td>215646</td>\n",
       "      <td>9</td>\n",
       "      <td>0</td>\n",
       "      <td>0</td>\n",
       "      <td>40</td>\n",
       "    </tr>\n",
       "    <tr>\n",
       "      <th>3</th>\n",
       "      <td>53</td>\n",
       "      <td>234721</td>\n",
       "      <td>7</td>\n",
       "      <td>0</td>\n",
       "      <td>0</td>\n",
       "      <td>40</td>\n",
       "    </tr>\n",
       "    <tr>\n",
       "      <th>4</th>\n",
       "      <td>28</td>\n",
       "      <td>338409</td>\n",
       "      <td>13</td>\n",
       "      <td>0</td>\n",
       "      <td>0</td>\n",
       "      <td>40</td>\n",
       "    </tr>\n",
       "  </tbody>\n",
       "</table>\n",
       "</div>"
      ],
      "text/plain": [
       "  age   fnlwgt education_num capital_gain capital_loss hours_per_week\n",
       "0  39    77516            13         2174            0             40\n",
       "1  50    83311            13            0            0             13\n",
       "2  38   215646             9            0            0             40\n",
       "3  53   234721             7            0            0             40\n",
       "4  28   338409            13            0            0             40"
      ]
     },
     "execution_count": 35,
     "metadata": {},
     "output_type": "execute_result"
    }
   ],
   "source": [
    "table.loc[:, numeric_cols].head()"
   ]
  },
  {
   "cell_type": "code",
   "execution_count": 36,
   "metadata": {},
   "outputs": [
    {
     "data": {
      "text/html": [
       "<div>\n",
       "<style scoped>\n",
       "    .dataframe tbody tr th:only-of-type {\n",
       "        vertical-align: middle;\n",
       "    }\n",
       "\n",
       "    .dataframe tbody tr th {\n",
       "        vertical-align: top;\n",
       "    }\n",
       "\n",
       "    .dataframe thead th {\n",
       "        text-align: right;\n",
       "    }\n",
       "</style>\n",
       "<table border=\"1\" class=\"dataframe\">\n",
       "  <thead>\n",
       "    <tr style=\"text-align: right;\">\n",
       "      <th></th>\n",
       "      <th>age</th>\n",
       "      <th>fnlwgt</th>\n",
       "      <th>education_num</th>\n",
       "      <th>capital_gain</th>\n",
       "      <th>capital_loss</th>\n",
       "      <th>hours_per_week</th>\n",
       "    </tr>\n",
       "  </thead>\n",
       "  <tbody>\n",
       "    <tr>\n",
       "      <th>0</th>\n",
       "      <td>39</td>\n",
       "      <td>77516</td>\n",
       "      <td>13</td>\n",
       "      <td>2174</td>\n",
       "      <td>0</td>\n",
       "      <td>40</td>\n",
       "    </tr>\n",
       "    <tr>\n",
       "      <th>1</th>\n",
       "      <td>50</td>\n",
       "      <td>83311</td>\n",
       "      <td>13</td>\n",
       "      <td>0</td>\n",
       "      <td>0</td>\n",
       "      <td>13</td>\n",
       "    </tr>\n",
       "    <tr>\n",
       "      <th>2</th>\n",
       "      <td>38</td>\n",
       "      <td>215646</td>\n",
       "      <td>9</td>\n",
       "      <td>0</td>\n",
       "      <td>0</td>\n",
       "      <td>40</td>\n",
       "    </tr>\n",
       "    <tr>\n",
       "      <th>3</th>\n",
       "      <td>53</td>\n",
       "      <td>234721</td>\n",
       "      <td>7</td>\n",
       "      <td>0</td>\n",
       "      <td>0</td>\n",
       "      <td>40</td>\n",
       "    </tr>\n",
       "    <tr>\n",
       "      <th>4</th>\n",
       "      <td>28</td>\n",
       "      <td>338409</td>\n",
       "      <td>13</td>\n",
       "      <td>0</td>\n",
       "      <td>0</td>\n",
       "      <td>40</td>\n",
       "    </tr>\n",
       "  </tbody>\n",
       "</table>\n",
       "</div>"
      ],
      "text/plain": [
       "  age   fnlwgt education_num capital_gain capital_loss hours_per_week\n",
       "0  39    77516            13         2174            0             40\n",
       "1  50    83311            13            0            0             13\n",
       "2  38   215646             9            0            0             40\n",
       "3  53   234721             7            0            0             40\n",
       "4  28   338409            13            0            0             40"
      ]
     },
     "execution_count": 36,
     "metadata": {},
     "output_type": "execute_result"
    }
   ],
   "source": [
    "table[numeric_cols].head()"
   ]
  },
  {
   "cell_type": "code",
   "execution_count": 37,
   "metadata": {},
   "outputs": [],
   "source": [
    "table[numeric_cols] = table[numeric_cols].astype(int)"
   ]
  },
  {
   "cell_type": "code",
   "execution_count": 38,
   "metadata": {},
   "outputs": [
    {
     "data": {
      "text/plain": [
       "age               int64\n",
       "fnlwgt            int64\n",
       "education_num     int64\n",
       "capital_gain      int64\n",
       "capital_loss      int64\n",
       "hours_per_week    int64\n",
       "dtype: object"
      ]
     },
     "execution_count": 38,
     "metadata": {},
     "output_type": "execute_result"
    }
   ],
   "source": [
    "table[numeric_cols].head().dtypes"
   ]
  },
  {
   "cell_type": "code",
   "execution_count": 39,
   "metadata": {},
   "outputs": [],
   "source": [
    "table.loc[:, numeric_cols] = table.loc[:, numeric_cols].astype(int)"
   ]
  },
  {
   "cell_type": "code",
   "execution_count": 40,
   "metadata": {},
   "outputs": [
    {
     "data": {
      "text/plain": [
       "age                int64\n",
       "workclass         object\n",
       "fnlwgt             int64\n",
       "education         object\n",
       "education_num      int64\n",
       "marital_status    object\n",
       "occupation        object\n",
       "relationship      object\n",
       "race              object\n",
       "sex               object\n",
       "capital_gain       int64\n",
       "capital_loss       int64\n",
       "hours_per_week     int64\n",
       "native_country    object\n",
       "over_fifty_k      object\n",
       "dtype: object"
      ]
     },
     "execution_count": 40,
     "metadata": {},
     "output_type": "execute_result"
    }
   ],
   "source": [
    "table.dtypes"
   ]
  },
  {
   "cell_type": "code",
   "execution_count": 41,
   "metadata": {
    "scrolled": true
   },
   "outputs": [
    {
     "data": {
      "text/plain": [
       "age               int64\n",
       "fnlwgt            int64\n",
       "education_num     int64\n",
       "capital_gain      int64\n",
       "capital_loss      int64\n",
       "hours_per_week    int64\n",
       "dtype: object"
      ]
     },
     "execution_count": 41,
     "metadata": {},
     "output_type": "execute_result"
    }
   ],
   "source": [
    "table.loc[:, numeric_cols].astype(int).dtypes"
   ]
  },
  {
   "cell_type": "code",
   "execution_count": 42,
   "metadata": {},
   "outputs": [
    {
     "data": {
      "text/html": [
       "<div>\n",
       "<style scoped>\n",
       "    .dataframe tbody tr th:only-of-type {\n",
       "        vertical-align: middle;\n",
       "    }\n",
       "\n",
       "    .dataframe tbody tr th {\n",
       "        vertical-align: top;\n",
       "    }\n",
       "\n",
       "    .dataframe thead th {\n",
       "        text-align: right;\n",
       "    }\n",
       "</style>\n",
       "<table border=\"1\" class=\"dataframe\">\n",
       "  <thead>\n",
       "    <tr style=\"text-align: right;\">\n",
       "      <th></th>\n",
       "      <th>age</th>\n",
       "      <th>fnlwgt</th>\n",
       "      <th>education_num</th>\n",
       "      <th>capital_gain</th>\n",
       "      <th>capital_loss</th>\n",
       "      <th>hours_per_week</th>\n",
       "    </tr>\n",
       "  </thead>\n",
       "  <tbody>\n",
       "    <tr>\n",
       "      <th>0</th>\n",
       "      <td>39</td>\n",
       "      <td>77516</td>\n",
       "      <td>13</td>\n",
       "      <td>2174</td>\n",
       "      <td>0</td>\n",
       "      <td>40</td>\n",
       "    </tr>\n",
       "    <tr>\n",
       "      <th>1</th>\n",
       "      <td>50</td>\n",
       "      <td>83311</td>\n",
       "      <td>13</td>\n",
       "      <td>0</td>\n",
       "      <td>0</td>\n",
       "      <td>13</td>\n",
       "    </tr>\n",
       "    <tr>\n",
       "      <th>2</th>\n",
       "      <td>38</td>\n",
       "      <td>215646</td>\n",
       "      <td>9</td>\n",
       "      <td>0</td>\n",
       "      <td>0</td>\n",
       "      <td>40</td>\n",
       "    </tr>\n",
       "    <tr>\n",
       "      <th>3</th>\n",
       "      <td>53</td>\n",
       "      <td>234721</td>\n",
       "      <td>7</td>\n",
       "      <td>0</td>\n",
       "      <td>0</td>\n",
       "      <td>40</td>\n",
       "    </tr>\n",
       "    <tr>\n",
       "      <th>4</th>\n",
       "      <td>28</td>\n",
       "      <td>338409</td>\n",
       "      <td>13</td>\n",
       "      <td>0</td>\n",
       "      <td>0</td>\n",
       "      <td>40</td>\n",
       "    </tr>\n",
       "  </tbody>\n",
       "</table>\n",
       "</div>"
      ],
      "text/plain": [
       "   age  fnlwgt  education_num  capital_gain  capital_loss  hours_per_week\n",
       "0   39   77516             13          2174             0              40\n",
       "1   50   83311             13             0             0              13\n",
       "2   38  215646              9             0             0              40\n",
       "3   53  234721              7             0             0              40\n",
       "4   28  338409             13             0             0              40"
      ]
     },
     "execution_count": 42,
     "metadata": {},
     "output_type": "execute_result"
    }
   ],
   "source": [
    "table[numeric_cols].head()"
   ]
  },
  {
   "cell_type": "code",
   "execution_count": 43,
   "metadata": {},
   "outputs": [
    {
     "data": {
      "text/plain": [
       "age                int64\n",
       "workclass         object\n",
       "fnlwgt             int64\n",
       "education         object\n",
       "education_num      int64\n",
       "marital_status    object\n",
       "occupation        object\n",
       "relationship      object\n",
       "race              object\n",
       "sex               object\n",
       "capital_gain       int64\n",
       "capital_loss       int64\n",
       "hours_per_week     int64\n",
       "native_country    object\n",
       "over_fifty_k      object\n",
       "dtype: object"
      ]
     },
     "execution_count": 43,
     "metadata": {},
     "output_type": "execute_result"
    }
   ],
   "source": [
    "table.dtypes"
   ]
  },
  {
   "cell_type": "markdown",
   "metadata": {},
   "source": [
    "### --"
   ]
  },
  {
   "cell_type": "markdown",
   "metadata": {},
   "source": [
    "### Data type handling - _boolean_\n",
    "\n",
    "Let's take a closer look at what we're trying to predict - `over_fifty_k`:"
   ]
  },
  {
   "cell_type": "code",
   "execution_count": 44,
   "metadata": {
    "scrolled": true
   },
   "outputs": [
    {
     "data": {
      "text/plain": [
       "0     <=50K\n",
       "1     <=50K\n",
       "2     <=50K\n",
       "3     <=50K\n",
       "4     <=50K\n",
       "Name: over_fifty_k, dtype: object"
      ]
     },
     "execution_count": 44,
     "metadata": {},
     "output_type": "execute_result"
    }
   ],
   "source": [
    "table.over_fifty_k.head()"
   ]
  },
  {
   "cell_type": "markdown",
   "metadata": {},
   "source": [
    "This doesn't look very nice, does it?"
   ]
  },
  {
   "cell_type": "code",
   "execution_count": 45,
   "metadata": {
    "scrolled": false
   },
   "outputs": [
    {
     "data": {
      "text/plain": [
       " <=50K    24698\n",
       " >50K      7839\n",
       "Name: over_fifty_k, dtype: int64"
      ]
     },
     "execution_count": 45,
     "metadata": {},
     "output_type": "execute_result"
    }
   ],
   "source": [
    "table.over_fifty_k.value_counts()"
   ]
  },
  {
   "cell_type": "markdown",
   "metadata": {},
   "source": [
    "So, this is really a `bool` variable, but we currently have it represented via this _ugly_ string. Let's fix that."
   ]
  },
  {
   "cell_type": "markdown",
   "metadata": {},
   "source": [
    "### --"
   ]
  },
  {
   "cell_type": "markdown",
   "metadata": {},
   "source": [
    "### Problem\n",
    "\n",
    "Re-engineer this as a `bool` column."
   ]
  },
  {
   "cell_type": "code",
   "execution_count": 46,
   "metadata": {
    "scrolled": false
   },
   "outputs": [
    {
     "data": {
      "text/plain": [
       "array([' <=50K', ' >50K'], dtype=object)"
      ]
     },
     "execution_count": 46,
     "metadata": {},
     "output_type": "execute_result"
    }
   ],
   "source": [
    "table.over_fifty_k.unique()"
   ]
  },
  {
   "cell_type": "code",
   "execution_count": 47,
   "metadata": {},
   "outputs": [
    {
     "data": {
      "text/plain": [
       "0"
      ]
     },
     "execution_count": 47,
     "metadata": {},
     "output_type": "execute_result"
    }
   ],
   "source": [
    "(table.over_fifty_k == \">50K\").sum()"
   ]
  },
  {
   "cell_type": "code",
   "execution_count": 48,
   "metadata": {
    "scrolled": true
   },
   "outputs": [],
   "source": [
    "table.over_fifty_k = table.over_fifty_k.str.strip()"
   ]
  },
  {
   "cell_type": "code",
   "execution_count": 49,
   "metadata": {},
   "outputs": [],
   "source": [
    "table[\"over_fifty_k_bool\"] = table.over_fifty_k == '>50K'"
   ]
  },
  {
   "cell_type": "code",
   "execution_count": 50,
   "metadata": {},
   "outputs": [
    {
     "data": {
      "text/plain": [
       "False    0.759074\n",
       "True     0.240926\n",
       "Name: over_fifty_k_bool, dtype: float64"
      ]
     },
     "execution_count": 50,
     "metadata": {},
     "output_type": "execute_result"
    }
   ],
   "source": [
    "table.over_fifty_k_bool.value_counts(normalize=True)"
   ]
  },
  {
   "cell_type": "markdown",
   "metadata": {},
   "source": [
    "### --"
   ]
  },
  {
   "cell_type": "markdown",
   "metadata": {},
   "source": [
    "### Data type handling - almost done\n",
    "\n",
    "Let's take a look at what we've done so far:"
   ]
  },
  {
   "cell_type": "code",
   "execution_count": 51,
   "metadata": {
    "scrolled": false
   },
   "outputs": [
    {
     "data": {
      "text/plain": [
       "object    9\n",
       "int64     6\n",
       "bool      1\n",
       "dtype: int64"
      ]
     },
     "execution_count": 51,
     "metadata": {},
     "output_type": "execute_result"
    }
   ],
   "source": [
    "table.dtypes.value_counts()"
   ]
  },
  {
   "cell_type": "markdown",
   "metadata": {},
   "source": [
    "We can actually make sub-selections on our table, by `dtype`:"
   ]
  },
  {
   "cell_type": "code",
   "execution_count": 52,
   "metadata": {},
   "outputs": [
    {
     "data": {
      "text/html": [
       "<div>\n",
       "<style scoped>\n",
       "    .dataframe tbody tr th:only-of-type {\n",
       "        vertical-align: middle;\n",
       "    }\n",
       "\n",
       "    .dataframe tbody tr th {\n",
       "        vertical-align: top;\n",
       "    }\n",
       "\n",
       "    .dataframe thead th {\n",
       "        text-align: right;\n",
       "    }\n",
       "</style>\n",
       "<table border=\"1\" class=\"dataframe\">\n",
       "  <thead>\n",
       "    <tr style=\"text-align: right;\">\n",
       "      <th></th>\n",
       "      <th>age</th>\n",
       "      <th>fnlwgt</th>\n",
       "      <th>education_num</th>\n",
       "      <th>capital_gain</th>\n",
       "      <th>capital_loss</th>\n",
       "      <th>hours_per_week</th>\n",
       "    </tr>\n",
       "  </thead>\n",
       "  <tbody>\n",
       "    <tr>\n",
       "      <th>0</th>\n",
       "      <td>39</td>\n",
       "      <td>77516</td>\n",
       "      <td>13</td>\n",
       "      <td>2174</td>\n",
       "      <td>0</td>\n",
       "      <td>40</td>\n",
       "    </tr>\n",
       "    <tr>\n",
       "      <th>1</th>\n",
       "      <td>50</td>\n",
       "      <td>83311</td>\n",
       "      <td>13</td>\n",
       "      <td>0</td>\n",
       "      <td>0</td>\n",
       "      <td>13</td>\n",
       "    </tr>\n",
       "    <tr>\n",
       "      <th>2</th>\n",
       "      <td>38</td>\n",
       "      <td>215646</td>\n",
       "      <td>9</td>\n",
       "      <td>0</td>\n",
       "      <td>0</td>\n",
       "      <td>40</td>\n",
       "    </tr>\n",
       "    <tr>\n",
       "      <th>3</th>\n",
       "      <td>53</td>\n",
       "      <td>234721</td>\n",
       "      <td>7</td>\n",
       "      <td>0</td>\n",
       "      <td>0</td>\n",
       "      <td>40</td>\n",
       "    </tr>\n",
       "    <tr>\n",
       "      <th>4</th>\n",
       "      <td>28</td>\n",
       "      <td>338409</td>\n",
       "      <td>13</td>\n",
       "      <td>0</td>\n",
       "      <td>0</td>\n",
       "      <td>40</td>\n",
       "    </tr>\n",
       "  </tbody>\n",
       "</table>\n",
       "</div>"
      ],
      "text/plain": [
       "   age  fnlwgt  education_num  capital_gain  capital_loss  hours_per_week\n",
       "0   39   77516             13          2174             0              40\n",
       "1   50   83311             13             0             0              13\n",
       "2   38  215646              9             0             0              40\n",
       "3   53  234721              7             0             0              40\n",
       "4   28  338409             13             0             0              40"
      ]
     },
     "execution_count": 52,
     "metadata": {},
     "output_type": "execute_result"
    }
   ],
   "source": [
    "table.select_dtypes(include=[int]).head()"
   ]
  },
  {
   "cell_type": "code",
   "execution_count": 53,
   "metadata": {},
   "outputs": [
    {
     "data": {
      "text/html": [
       "<div>\n",
       "<style scoped>\n",
       "    .dataframe tbody tr th:only-of-type {\n",
       "        vertical-align: middle;\n",
       "    }\n",
       "\n",
       "    .dataframe tbody tr th {\n",
       "        vertical-align: top;\n",
       "    }\n",
       "\n",
       "    .dataframe thead th {\n",
       "        text-align: right;\n",
       "    }\n",
       "</style>\n",
       "<table border=\"1\" class=\"dataframe\">\n",
       "  <thead>\n",
       "    <tr style=\"text-align: right;\">\n",
       "      <th></th>\n",
       "      <th>over_fifty_k_bool</th>\n",
       "    </tr>\n",
       "  </thead>\n",
       "  <tbody>\n",
       "    <tr>\n",
       "      <th>0</th>\n",
       "      <td>False</td>\n",
       "    </tr>\n",
       "    <tr>\n",
       "      <th>1</th>\n",
       "      <td>False</td>\n",
       "    </tr>\n",
       "    <tr>\n",
       "      <th>2</th>\n",
       "      <td>False</td>\n",
       "    </tr>\n",
       "    <tr>\n",
       "      <th>3</th>\n",
       "      <td>False</td>\n",
       "    </tr>\n",
       "    <tr>\n",
       "      <th>4</th>\n",
       "      <td>False</td>\n",
       "    </tr>\n",
       "  </tbody>\n",
       "</table>\n",
       "</div>"
      ],
      "text/plain": [
       "   over_fifty_k_bool\n",
       "0              False\n",
       "1              False\n",
       "2              False\n",
       "3              False\n",
       "4              False"
      ]
     },
     "execution_count": 53,
     "metadata": {},
     "output_type": "execute_result"
    }
   ],
   "source": [
    "table.select_dtypes(exclude=[object, int]).head()"
   ]
  },
  {
   "cell_type": "markdown",
   "metadata": {},
   "source": [
    "Wait... before we progress - should we check all the other `object` columns to make sure they don't have the same issue as `over_fifty_k` did?"
   ]
  },
  {
   "cell_type": "markdown",
   "metadata": {},
   "source": [
    "### --"
   ]
  },
  {
   "cell_type": "markdown",
   "metadata": {},
   "source": [
    "### Problem\n",
    "\n",
    "Check whether other `object` column values have issues with trailing and / or leading spaces, and try to make use of iteration and / or group selection."
   ]
  },
  {
   "cell_type": "code",
   "execution_count": 54,
   "metadata": {},
   "outputs": [],
   "source": [
    "object_cols = table.select_dtypes(include=[object]).columns"
   ]
  },
  {
   "cell_type": "code",
   "execution_count": 55,
   "metadata": {},
   "outputs": [
    {
     "data": {
      "text/plain": [
       "Index(['workclass', 'education', 'marital_status', 'occupation',\n",
       "       'relationship', 'race', 'sex', 'native_country', 'over_fifty_k'],\n",
       "      dtype='object')"
      ]
     },
     "execution_count": 55,
     "metadata": {},
     "output_type": "execute_result"
    }
   ],
   "source": [
    "object_cols"
   ]
  },
  {
   "cell_type": "code",
   "execution_count": 56,
   "metadata": {},
   "outputs": [
    {
     "name": "stdout",
     "output_type": "stream",
     "text": [
      "32537\n",
      "32537\n",
      "32537\n",
      "32537\n",
      "32537\n",
      "32537\n",
      "32537\n",
      "32537\n",
      "0\n"
     ]
    }
   ],
   "source": [
    "for col in object_cols:\n",
    "    print(table[col].str.startswith(\" \").sum())"
   ]
  },
  {
   "cell_type": "code",
   "execution_count": 57,
   "metadata": {},
   "outputs": [
    {
     "name": "stdout",
     "output_type": "stream",
     "text": [
      "0\n",
      "0\n",
      "0\n",
      "0\n",
      "0\n",
      "0\n",
      "0\n",
      "0\n",
      "0\n"
     ]
    }
   ],
   "source": [
    "for col in object_cols:\n",
    "    print(table[col].str.endswith(\" \").sum())"
   ]
  },
  {
   "cell_type": "code",
   "execution_count": 58,
   "metadata": {},
   "outputs": [],
   "source": [
    "for col in object_cols:\n",
    "    table[col] = table[col].str.strip()"
   ]
  },
  {
   "cell_type": "code",
   "execution_count": 59,
   "metadata": {},
   "outputs": [
    {
     "name": "stdout",
     "output_type": "stream",
     "text": [
      "0\n",
      "0\n",
      "0\n",
      "0\n",
      "0\n",
      "0\n",
      "0\n",
      "0\n",
      "0\n"
     ]
    }
   ],
   "source": [
    "for col in object_cols:\n",
    "    print(table[col].str.startswith(\" \").sum())"
   ]
  },
  {
   "cell_type": "markdown",
   "metadata": {},
   "source": [
    "### --"
   ]
  },
  {
   "cell_type": "markdown",
   "metadata": {},
   "source": [
    "# 2. Exploratory Data Analysis\n",
    "\n",
    "Exploratory data analysis (EDA) is key to understanding your data - this is where you poke around and see how things work."
   ]
  },
  {
   "cell_type": "markdown",
   "metadata": {},
   "source": [
    "### Numeric columns - _distributional analysis_\n",
    "\n",
    "With numeric data, we often want to understand how it's _distributed_, i.e. the frequencies associated with different values in the data.\n",
    "\n",
    "Let's start with `age`. We can see the number of unique values with the `nunique` method:"
   ]
  },
  {
   "cell_type": "code",
   "execution_count": 60,
   "metadata": {
    "scrolled": false
   },
   "outputs": [
    {
     "data": {
      "text/plain": [
       "73"
      ]
     },
     "execution_count": 60,
     "metadata": {},
     "output_type": "execute_result"
    }
   ],
   "source": [
    "table.age.nunique()"
   ]
  },
  {
   "cell_type": "markdown",
   "metadata": {},
   "source": [
    "We have a good number of values here, but this is still _discrete_ data, so we can actually use `value_counts` to analyze it.\n",
    "\n",
    "In the following cell, we're going to go into `table`, get the `age` column, call `value_counts`, sort the index with the `sort_index` method (so that the ages are presented in _numerical_ order, as opposed order of frequency, which is how `value_counts` will return its results) and then we're going to call `plot`.\n",
    "\n",
    "You can call (i.e. put parantheses after the function name) `plot` directly, which will produce a _line_ plot, or you can specify other types of plots. In this case, we're calling the `bar` method, which will give us a _bar graph_. I've passed some additional arguments to `bar` to control the _size_ of the figure, as well as the _color_ of the plot, and, finally, the rotation of the _x-axis_ labels.\n",
    "\n",
    "The results of this procedure are the _axes_ of the plot, which can be used to further modify the plot. I'm using these _axes_ (stored in the variable `ax`) to set a title."
   ]
  },
  {
   "cell_type": "code",
   "execution_count": 61,
   "metadata": {},
   "outputs": [
    {
     "data": {
      "image/png": "[encoded data removed]",
      "text/plain": [
       "<Figure size 1080x576 with 1 Axes>"
      ]
     },
     "metadata": {
      "needs_background": "light"
     },
     "output_type": "display_data"
    }
   ],
   "source": [
    "ax = table.age.value_counts().sort_index().plot.bar(figsize=(15, 8), color=\"steelblue\", rot=80)\n",
    "ax.title.set_text('age: counts by age')"
   ]
  },
  {
   "cell_type": "markdown",
   "metadata": {},
   "source": [
    "They say a picture's worth a thousand words, and I think that adage undoubtedly holds true in data analysis.\n",
    "\n",
    "Right off the bat, we can see here that there's an unusual spike at 90, which could indicate that all ages greater than or equal to 90 were simply bucketed.Additionally, we can that the 30s are probably the most well-represented decade in this data. \n",
    "\n",
    "Let's put some numbers behind these observations."
   ]
  },
  {
   "cell_type": "code",
   "execution_count": 62,
   "metadata": {},
   "outputs": [
    {
     "data": {
      "text/html": [
       "<div>\n",
       "<style scoped>\n",
       "    .dataframe tbody tr th:only-of-type {\n",
       "        vertical-align: middle;\n",
       "    }\n",
       "\n",
       "    .dataframe tbody tr th {\n",
       "        vertical-align: top;\n",
       "    }\n",
       "\n",
       "    .dataframe thead th {\n",
       "        text-align: right;\n",
       "    }\n",
       "</style>\n",
       "<table border=\"1\" class=\"dataframe\">\n",
       "  <thead>\n",
       "    <tr style=\"text-align: right;\">\n",
       "      <th></th>\n",
       "      <th>age</th>\n",
       "    </tr>\n",
       "  </thead>\n",
       "  <tbody>\n",
       "    <tr>\n",
       "      <th>count</th>\n",
       "      <td>32537.000000</td>\n",
       "    </tr>\n",
       "    <tr>\n",
       "      <th>mean</th>\n",
       "      <td>38.585549</td>\n",
       "    </tr>\n",
       "    <tr>\n",
       "      <th>std</th>\n",
       "      <td>13.637984</td>\n",
       "    </tr>\n",
       "    <tr>\n",
       "      <th>min</th>\n",
       "      <td>17.000000</td>\n",
       "    </tr>\n",
       "    <tr>\n",
       "      <th>25%</th>\n",
       "      <td>28.000000</td>\n",
       "    </tr>\n",
       "    <tr>\n",
       "      <th>50%</th>\n",
       "      <td>37.000000</td>\n",
       "    </tr>\n",
       "    <tr>\n",
       "      <th>75%</th>\n",
       "      <td>48.000000</td>\n",
       "    </tr>\n",
       "    <tr>\n",
       "      <th>max</th>\n",
       "      <td>90.000000</td>\n",
       "    </tr>\n",
       "  </tbody>\n",
       "</table>\n",
       "</div>"
      ],
      "text/plain": [
       "                age\n",
       "count  32537.000000\n",
       "mean      38.585549\n",
       "std       13.637984\n",
       "min       17.000000\n",
       "25%       28.000000\n",
       "50%       37.000000\n",
       "75%       48.000000\n",
       "max       90.000000"
      ]
     },
     "execution_count": 62,
     "metadata": {},
     "output_type": "execute_result"
    }
   ],
   "source": [
    "table.age.describe().to_frame()"
   ]
  },
  {
   "cell_type": "markdown",
   "metadata": {},
   "source": [
    "The `describe` method gives us a number of descriptive stats. In order of appearance:\n",
    "- number of non-null rows\n",
    "- mean\n",
    "- standard deviation\n",
    "- minumum value in the data\n",
    "- 25th percentile\n",
    "- median\n",
    "- 75th percentile\n",
    "- maximum value in the data\n",
    "\n",
    "Note that you can also call these functions individually:"
   ]
  },
  {
   "cell_type": "code",
   "execution_count": 63,
   "metadata": {},
   "outputs": [
    {
     "data": {
      "text/plain": [
       "38.585548759873376"
      ]
     },
     "execution_count": 63,
     "metadata": {},
     "output_type": "execute_result"
    }
   ],
   "source": [
    "table.age.mean()"
   ]
  },
  {
   "cell_type": "code",
   "execution_count": 64,
   "metadata": {},
   "outputs": [
    {
     "data": {
      "text/plain": [
       "0.90000    58.0\n",
       "0.95000    63.0\n",
       "0.99000    74.0\n",
       "0.99900    90.0\n",
       "0.99990    90.0\n",
       "0.99999    90.0\n",
       "Name: age, dtype: float64"
      ]
     },
     "execution_count": 64,
     "metadata": {},
     "output_type": "execute_result"
    }
   ],
   "source": [
    "table.age.quantile([.9, .95, .99, .999, .9999, .99999])"
   ]
  },
  {
   "cell_type": "markdown",
   "metadata": {},
   "source": [
    "We can see that the average age (noting that this is not a _true_ average, due to binning at 90) is around 39. The fact that the median is a little bit lower than the average is a nod to this data's _positive- or right-skew_. We can also see that this data goes neither below 17 nor above 90.\n",
    "\n",
    "`matploliblib` is a very powerful, if difficult-to-learn, tool. A deep dive into its functionality is outside the scope of this seminar, but to give you a sense of what it can do:"
   ]
  },
  {
   "cell_type": "code",
   "execution_count": 65,
   "metadata": {
    "scrolled": false
   },
   "outputs": [
    {
     "data": {
      "image/png": "[encoded data removed]",
      "text/plain": [
       "<Figure size 792x576 with 1 Axes>"
      ]
     },
     "metadata": {
      "needs_background": "light"
     },
     "output_type": "display_data"
    }
   ],
   "source": [
    "ax = exploratory.center_scale_plot(table.age, np.mean, np.std, bins=73)"
   ]
  },
  {
   "cell_type": "code",
   "execution_count": 66,
   "metadata": {},
   "outputs": [],
   "source": [
    "def custom_round(x, base=5):\n",
    "    return (base * round(x.astype(float)/base)).astype(int)"
   ]
  },
  {
   "cell_type": "code",
   "execution_count": 67,
   "metadata": {},
   "outputs": [
    {
     "data": {
      "text/plain": [
       "0    40\n",
       "1    50\n",
       "2    40\n",
       "3    55\n",
       "4    30\n",
       "5    35\n",
       "6    50\n",
       "7    50\n",
       "8    30\n",
       "9    40\n",
       "Name: age, dtype: int64"
      ]
     },
     "execution_count": 67,
     "metadata": {},
     "output_type": "execute_result"
    }
   ],
   "source": [
    "custom_round(table.age).head(10)"
   ]
  },
  {
   "cell_type": "code",
   "execution_count": 68,
   "metadata": {},
   "outputs": [
    {
     "data": {
      "text/plain": [
       "<matplotlib.axes._subplots.AxesSubplot at 0x117030ed0>"
      ]
     },
     "execution_count": 68,
     "metadata": {},
     "output_type": "execute_result"
    },
    {
     "data": {
      "image/png": "[encoded data removed]",
      "text/plain": [
       "<Figure size 432x288 with 1 Axes>"
      ]
     },
     "metadata": {
      "needs_background": "light"
     },
     "output_type": "display_data"
    }
   ],
   "source": [
    "custom_round(table.age).value_counts().sort_index().plot.bar(rot=0)"
   ]
  },
  {
   "cell_type": "markdown",
   "metadata": {},
   "source": [
    "This is interesting data, as it's got a hard cutoff at 17. Sometimes, when we see data that is very skewed, it can be helpful to take a transform of it. Taking the _logarithm_ of data will strongly reduce data. The _square root_ will reduce skew more gently. The _cube root_ transform works well when dealing with negative values.\n",
    "\n",
    "Let's try the `log` function from `numpy`:"
   ]
  },
  {
   "cell_type": "code",
   "execution_count": 69,
   "metadata": {
    "scrolled": false
   },
   "outputs": [
    {
     "data": {
      "image/png": "[encoded data removed]",
      "text/plain": [
       "<Figure size 792x576 with 1 Axes>"
      ]
     },
     "metadata": {
      "needs_background": "light"
     },
     "output_type": "display_data"
    }
   ],
   "source": [
    "ax = exploratory.center_scale_plot(np.log(table.age), np.mean, np.std, bins=73)"
   ]
  },
  {
   "cell_type": "code",
   "execution_count": 70,
   "metadata": {
    "scrolled": false
   },
   "outputs": [
    {
     "data": {
      "image/png": "[encoded data removed]",
      "text/plain": [
       "<Figure size 792x576 with 1 Axes>"
      ]
     },
     "metadata": {
      "needs_background": "light"
     },
     "output_type": "display_data"
    }
   ],
   "source": [
    "ax = exploratory.center_scale_plot(table.fnlwgt, np.mean, np.std, bins=73)"
   ]
  },
  {
   "cell_type": "code",
   "execution_count": 71,
   "metadata": {
    "scrolled": false
   },
   "outputs": [
    {
     "data": {
      "image/png": "[encoded data removed]",
      "text/plain": [
       "<Figure size 792x576 with 1 Axes>"
      ]
     },
     "metadata": {
      "needs_background": "light"
     },
     "output_type": "display_data"
    }
   ],
   "source": [
    "ax = exploratory.center_scale_plot(np.log(table.fnlwgt), np.mean, np.std, bins=73)"
   ]
  },
  {
   "cell_type": "markdown",
   "metadata": {},
   "source": [
    "I don't know that we'll need this column, but let's go ahead and retain it anyway. Note that when creating a _new_ column, you must use the `table[\"column_name\"]` notation and _not_ `table.column_name` notation:"
   ]
  },
  {
   "cell_type": "code",
   "execution_count": 72,
   "metadata": {},
   "outputs": [],
   "source": [
    "table[\"age_log\"] = np.log(table.age)"
   ]
  },
  {
   "cell_type": "markdown",
   "metadata": {},
   "source": [
    "Let's take a look at a continuous column, `capital_gain`. We will do this through plotting a _histogram_, which we can do through the `DataFrame`'s `hist` method. Similar to before, I will set figure size, color, and a title. I will also tell it how many _bins_ to create."
   ]
  },
  {
   "cell_type": "code",
   "execution_count": 73,
   "metadata": {},
   "outputs": [
    {
     "data": {
      "image/png": "[encoded data removed]",
      "text/plain": [
       "<Figure size 792x576 with 1 Axes>"
      ]
     },
     "metadata": {
      "needs_background": "light"
     },
     "output_type": "display_data"
    }
   ],
   "source": [
    "ax = table.capital_gain.hist(figsize=(11, 8), color=\"steelblue\", bins=100)\n",
    "ax.title.set_text(\"histogram: capital gain\")"
   ]
  },
  {
   "cell_type": "markdown",
   "metadata": {},
   "source": [
    "Wowza! How many people in this data set even have a non-zero capital_gain?"
   ]
  },
  {
   "cell_type": "code",
   "execution_count": 74,
   "metadata": {},
   "outputs": [
    {
     "data": {
      "text/plain": [
       "2712"
      ]
     },
     "execution_count": 74,
     "metadata": {},
     "output_type": "execute_result"
    }
   ],
   "source": [
    "(table.capital_gain > 0).sum()"
   ]
  },
  {
   "cell_type": "markdown",
   "metadata": {},
   "source": [
    "So, less than 10% of the data. I wonder if a similar situation exists for `capital_loss`?"
   ]
  },
  {
   "cell_type": "markdown",
   "metadata": {},
   "source": [
    "### --"
   ]
  },
  {
   "cell_type": "markdown",
   "metadata": {},
   "source": [
    "### Problem\n",
    "\n",
    "Determine the percentage of people in the data who have a non-zero value for `capital_loss`.\n",
    "\n",
    "Then, confirm whether or not there is overlap between `capital_gain` and `capital_loss`. Hint: to check multiple conditions, each must be wrapped in its own set of paranetheses; you can use `|` for _or_ and `&` for _and_, depending on how you'd like to structure the conditions.\n",
    "\n",
    "Next, create a new column, `capital_gain_net`, that combines the values in `capital_gain` and `capital_loss`. Visualize the results and do a quick write-up on what you have found. Feel free to home in on particular sections of the chart. "
   ]
  },
  {
   "cell_type": "code",
   "execution_count": 75,
   "metadata": {},
   "outputs": [
    {
     "data": {
      "text/html": [
       "<div>\n",
       "<style scoped>\n",
       "    .dataframe tbody tr th:only-of-type {\n",
       "        vertical-align: middle;\n",
       "    }\n",
       "\n",
       "    .dataframe tbody tr th {\n",
       "        vertical-align: top;\n",
       "    }\n",
       "\n",
       "    .dataframe thead th {\n",
       "        text-align: right;\n",
       "    }\n",
       "</style>\n",
       "<table border=\"1\" class=\"dataframe\">\n",
       "  <thead>\n",
       "    <tr style=\"text-align: right;\">\n",
       "      <th></th>\n",
       "      <th>capital_gain</th>\n",
       "      <th>capital_loss</th>\n",
       "    </tr>\n",
       "  </thead>\n",
       "  <tbody>\n",
       "    <tr>\n",
       "      <th>count</th>\n",
       "      <td>32537.000000</td>\n",
       "      <td>32537.000000</td>\n",
       "    </tr>\n",
       "    <tr>\n",
       "      <th>mean</th>\n",
       "      <td>1078.443741</td>\n",
       "      <td>87.368227</td>\n",
       "    </tr>\n",
       "    <tr>\n",
       "      <th>std</th>\n",
       "      <td>7387.957424</td>\n",
       "      <td>403.101833</td>\n",
       "    </tr>\n",
       "    <tr>\n",
       "      <th>min</th>\n",
       "      <td>0.000000</td>\n",
       "      <td>0.000000</td>\n",
       "    </tr>\n",
       "    <tr>\n",
       "      <th>25%</th>\n",
       "      <td>0.000000</td>\n",
       "      <td>0.000000</td>\n",
       "    </tr>\n",
       "    <tr>\n",
       "      <th>50%</th>\n",
       "      <td>0.000000</td>\n",
       "      <td>0.000000</td>\n",
       "    </tr>\n",
       "    <tr>\n",
       "      <th>75%</th>\n",
       "      <td>0.000000</td>\n",
       "      <td>0.000000</td>\n",
       "    </tr>\n",
       "    <tr>\n",
       "      <th>max</th>\n",
       "      <td>99999.000000</td>\n",
       "      <td>4356.000000</td>\n",
       "    </tr>\n",
       "  </tbody>\n",
       "</table>\n",
       "</div>"
      ],
      "text/plain": [
       "       capital_gain  capital_loss\n",
       "count  32537.000000  32537.000000\n",
       "mean    1078.443741     87.368227\n",
       "std     7387.957424    403.101833\n",
       "min        0.000000      0.000000\n",
       "25%        0.000000      0.000000\n",
       "50%        0.000000      0.000000\n",
       "75%        0.000000      0.000000\n",
       "max    99999.000000   4356.000000"
      ]
     },
     "execution_count": 75,
     "metadata": {},
     "output_type": "execute_result"
    }
   ],
   "source": [
    "table[[\"capital_gain\", \"capital_loss\"]].describe()"
   ]
  },
  {
   "cell_type": "code",
   "execution_count": 76,
   "metadata": {
    "scrolled": true
   },
   "outputs": [
    {
     "data": {
      "text/plain": [
       "0"
      ]
     },
     "execution_count": 76,
     "metadata": {},
     "output_type": "execute_result"
    }
   ],
   "source": [
    "((table.capital_gain > 0) & (table.capital_loss > 0)).sum()"
   ]
  },
  {
   "cell_type": "code",
   "execution_count": 77,
   "metadata": {},
   "outputs": [],
   "source": [
    "table[\"capital_gain_net\"] = table.capital_gain - table.capital_loss"
   ]
  },
  {
   "cell_type": "code",
   "execution_count": 78,
   "metadata": {},
   "outputs": [
    {
     "data": {
      "text/plain": [
       "<matplotlib.axes._subplots.AxesSubplot at 0x116ae3290>"
      ]
     },
     "execution_count": 78,
     "metadata": {},
     "output_type": "execute_result"
    },
    {
     "data": {
      "image/png": "[encoded data removed]",
      "text/plain": [
       "<Figure size 792x576 with 1 Axes>"
      ]
     },
     "metadata": {
      "needs_background": "light"
     },
     "output_type": "display_data"
    }
   ],
   "source": [
    "table.capital_gain_net.hist(bins=100, figsize=(11, 8))"
   ]
  },
  {
   "cell_type": "code",
   "execution_count": 79,
   "metadata": {
    "scrolled": false
   },
   "outputs": [
    {
     "data": {
      "text/plain": [
       "<matplotlib.axes._subplots.AxesSubplot at 0x11c8bddd0>"
      ]
     },
     "execution_count": 79,
     "metadata": {},
     "output_type": "execute_result"
    },
    {
     "data": {
      "image/png": "[encoded data removed]",
      "text/plain": [
       "<Figure size 792x576 with 1 Axes>"
      ]
     },
     "metadata": {
      "needs_background": "light"
     },
     "output_type": "display_data"
    }
   ],
   "source": [
    "table.loc[table.capital_gain_net != 0, \"capital_gain_net\"].hist(bins=100, figsize=(11, 8))"
   ]
  },
  {
   "cell_type": "markdown",
   "metadata": {},
   "source": [
    "**Notes**\n",
    "\n",
    "- we see positive skewness in the data, i.e. people are making more in capital gains than they are losing in capital losses"
   ]
  },
  {
   "cell_type": "markdown",
   "metadata": {},
   "source": [
    "### --"
   ]
  },
  {
   "cell_type": "markdown",
   "metadata": {},
   "source": [
    "### Relational data analysis: the _group by_\n",
    "\n",
    "Anyone who's done SQL before knows how valuable the _group by_ can be. \n",
    "\n",
    "For those unfamiliar, the basic idea is that you take column of categorical data, and group another column of data around it. Or, put differently, you bucket the other column's data based on what values that row takes for the first column. And then you apply some sort of aggregation function. \n",
    "\n",
    "Let's look at an example. Here, we'll look at average `capital_gain` when income is over $50K vs. when it's not:"
   ]
  },
  {
   "cell_type": "code",
   "execution_count": 80,
   "metadata": {},
   "outputs": [
    {
     "data": {
      "text/html": [
       "<div>\n",
       "<style scoped>\n",
       "    .dataframe tbody tr th:only-of-type {\n",
       "        vertical-align: middle;\n",
       "    }\n",
       "\n",
       "    .dataframe tbody tr th {\n",
       "        vertical-align: top;\n",
       "    }\n",
       "\n",
       "    .dataframe thead th {\n",
       "        text-align: right;\n",
       "    }\n",
       "</style>\n",
       "<table border=\"1\" class=\"dataframe\">\n",
       "  <thead>\n",
       "    <tr style=\"text-align: right;\">\n",
       "      <th></th>\n",
       "      <th>capital_gain</th>\n",
       "    </tr>\n",
       "    <tr>\n",
       "      <th>over_fifty_k_bool</th>\n",
       "      <th></th>\n",
       "    </tr>\n",
       "  </thead>\n",
       "  <tbody>\n",
       "    <tr>\n",
       "      <th>False</th>\n",
       "      <td>148.884970</td>\n",
       "    </tr>\n",
       "    <tr>\n",
       "      <th>True</th>\n",
       "      <td>4007.164562</td>\n",
       "    </tr>\n",
       "  </tbody>\n",
       "</table>\n",
       "</div>"
      ],
      "text/plain": [
       "                   capital_gain\n",
       "over_fifty_k_bool              \n",
       "False                148.884970\n",
       "True                4007.164562"
      ]
     },
     "execution_count": 80,
     "metadata": {},
     "output_type": "execute_result"
    }
   ],
   "source": [
    "table[[\"over_fifty_k_bool\", \"capital_gain\"]\n",
    "      ].groupby(\"over_fifty_k_bool\"\n",
    "      ).mean()"
   ]
  },
  {
   "cell_type": "markdown",
   "metadata": {},
   "source": [
    "Interesting, or maybe, not? Folks earning over $50K per year had, on average, much higher capital gains. \n",
    "\n",
    "Let's throw standard deviation into the mix. First, we'll save our previous result into a new variable (I'm prefixing the variable name with an underscore so as to avoid cluttering the namespace):"
   ]
  },
  {
   "cell_type": "code",
   "execution_count": 81,
   "metadata": {},
   "outputs": [],
   "source": [
    "_cap_gains_means = table[[\"over_fifty_k_bool\", \"capital_gain\"]\n",
    "                        ].groupby(\"over_fifty_k_bool\").mean()"
   ]
  },
  {
   "cell_type": "markdown",
   "metadata": {},
   "source": [
    "Next, let's rename the column so as to avoid ambiguity:"
   ]
  },
  {
   "cell_type": "code",
   "execution_count": 82,
   "metadata": {},
   "outputs": [],
   "source": [
    "_cap_gains_means = _cap_gains_means.rename(\n",
    "                            columns={\"capital_gain\": \"capital_gain_mean\"})"
   ]
  },
  {
   "cell_type": "code",
   "execution_count": 83,
   "metadata": {},
   "outputs": [
    {
     "data": {
      "text/plain": [
       "Index(['capital_gain_mean'], dtype='object')"
      ]
     },
     "execution_count": 83,
     "metadata": {},
     "output_type": "execute_result"
    }
   ],
   "source": [
    "_cap_gains_means.columns"
   ]
  },
  {
   "cell_type": "markdown",
   "metadata": {},
   "source": [
    "Note that we could have achieved the same result by running: `_cap_gains_means.columns = [\"capital_gain_mean\"]`"
   ]
  },
  {
   "cell_type": "markdown",
   "metadata": {},
   "source": [
    "Next, let's create the standard deviation result:"
   ]
  },
  {
   "cell_type": "code",
   "execution_count": 84,
   "metadata": {},
   "outputs": [],
   "source": [
    "_cap_gains_std = table[[\"over_fifty_k_bool\", \"capital_gain\"]\n",
    "                        ].groupby(\"over_fifty_k_bool\").std()"
   ]
  },
  {
   "cell_type": "code",
   "execution_count": 85,
   "metadata": {},
   "outputs": [],
   "source": [
    "_cap_gains_std = _cap_gains_std.rename(\n",
    "    columns={\"capital_gain\": \"capital_gain_std\"})"
   ]
  },
  {
   "cell_type": "markdown",
   "metadata": {},
   "source": [
    "Finally, we can _join_ these tables together. For those unfamiliar, this is another important SQL concept in which we, using a common column (in this case, the row index), concatenate the columns of two (or more) tables together."
   ]
  },
  {
   "cell_type": "code",
   "execution_count": 86,
   "metadata": {},
   "outputs": [
    {
     "data": {
      "text/html": [
       "<div>\n",
       "<style scoped>\n",
       "    .dataframe tbody tr th:only-of-type {\n",
       "        vertical-align: middle;\n",
       "    }\n",
       "\n",
       "    .dataframe tbody tr th {\n",
       "        vertical-align: top;\n",
       "    }\n",
       "\n",
       "    .dataframe thead th {\n",
       "        text-align: right;\n",
       "    }\n",
       "</style>\n",
       "<table border=\"1\" class=\"dataframe\">\n",
       "  <thead>\n",
       "    <tr style=\"text-align: right;\">\n",
       "      <th></th>\n",
       "      <th>capital_gain_mean</th>\n",
       "      <th>capital_gain_std</th>\n",
       "    </tr>\n",
       "    <tr>\n",
       "      <th>over_fifty_k_bool</th>\n",
       "      <th></th>\n",
       "      <th></th>\n",
       "    </tr>\n",
       "  </thead>\n",
       "  <tbody>\n",
       "    <tr>\n",
       "      <th>False</th>\n",
       "      <td>148.884970</td>\n",
       "      <td>963.557955</td>\n",
       "    </tr>\n",
       "    <tr>\n",
       "      <th>True</th>\n",
       "      <td>4007.164562</td>\n",
       "      <td>14572.097223</td>\n",
       "    </tr>\n",
       "  </tbody>\n",
       "</table>\n",
       "</div>"
      ],
      "text/plain": [
       "                   capital_gain_mean  capital_gain_std\n",
       "over_fifty_k_bool                                     \n",
       "False                     148.884970        963.557955\n",
       "True                     4007.164562      14572.097223"
      ]
     },
     "execution_count": 86,
     "metadata": {},
     "output_type": "execute_result"
    }
   ],
   "source": [
    "_cap_gains_means.join(_cap_gains_std)"
   ]
  },
  {
   "cell_type": "markdown",
   "metadata": {},
   "source": [
    "So, we have a much higher _average_ `capital_gain` with higher income, but also much more _volatility_. Let's quanitfy that on a relative basis."
   ]
  },
  {
   "cell_type": "code",
   "execution_count": 87,
   "metadata": {},
   "outputs": [],
   "source": [
    "_cap_gains_joined = _cap_gains_means.join(_cap_gains_std)"
   ]
  },
  {
   "cell_type": "code",
   "execution_count": 88,
   "metadata": {},
   "outputs": [],
   "source": [
    "_cap_gains_joined[\"cap_gains_ratio\"] = (\n",
    "                                _cap_gains_joined.capital_gain_std /\n",
    "                                _cap_gains_joined.capital_gain_mean\n",
    "                            )"
   ]
  },
  {
   "cell_type": "code",
   "execution_count": 89,
   "metadata": {},
   "outputs": [
    {
     "data": {
      "text/html": [
       "<div>\n",
       "<style scoped>\n",
       "    .dataframe tbody tr th:only-of-type {\n",
       "        vertical-align: middle;\n",
       "    }\n",
       "\n",
       "    .dataframe tbody tr th {\n",
       "        vertical-align: top;\n",
       "    }\n",
       "\n",
       "    .dataframe thead th {\n",
       "        text-align: right;\n",
       "    }\n",
       "</style>\n",
       "<table border=\"1\" class=\"dataframe\">\n",
       "  <thead>\n",
       "    <tr style=\"text-align: right;\">\n",
       "      <th></th>\n",
       "      <th>capital_gain_mean</th>\n",
       "      <th>capital_gain_std</th>\n",
       "      <th>cap_gains_ratio</th>\n",
       "    </tr>\n",
       "    <tr>\n",
       "      <th>over_fifty_k_bool</th>\n",
       "      <th></th>\n",
       "      <th></th>\n",
       "      <th></th>\n",
       "    </tr>\n",
       "  </thead>\n",
       "  <tbody>\n",
       "    <tr>\n",
       "      <th>False</th>\n",
       "      <td>148.884970</td>\n",
       "      <td>963.557955</td>\n",
       "      <td>6.471828</td>\n",
       "    </tr>\n",
       "    <tr>\n",
       "      <th>True</th>\n",
       "      <td>4007.164562</td>\n",
       "      <td>14572.097223</td>\n",
       "      <td>3.636511</td>\n",
       "    </tr>\n",
       "  </tbody>\n",
       "</table>\n",
       "</div>"
      ],
      "text/plain": [
       "                   capital_gain_mean  capital_gain_std  cap_gains_ratio\n",
       "over_fifty_k_bool                                                      \n",
       "False                     148.884970        963.557955         6.471828\n",
       "True                     4007.164562      14572.097223         3.636511"
      ]
     },
     "execution_count": 89,
     "metadata": {},
     "output_type": "execute_result"
    }
   ],
   "source": [
    "_cap_gains_joined"
   ]
  },
  {
   "cell_type": "markdown",
   "metadata": {},
   "source": [
    "Interesting - *proportionately*, the low-income folks have more volatility.\n",
    "\n",
    "Some **important** takeaways:\n",
    "- always consider a mean alongside standard deviation\n",
    "- thinking relatively (and thinking carefully about what your denominator is) can be very important\n",
    "\n",
    "Do you think we could replicate this anlysis for our other numeric columns? Now, before we do that ... based on our knowledge of the data, we've (hopefully) noticed that `education` and `education_num` are, for all intents and purposes, identical - so let's kill one from `table`:"
   ]
  },
  {
   "cell_type": "code",
   "execution_count": 90,
   "metadata": {},
   "outputs": [
    {
     "data": {
      "text/html": [
       "<div>\n",
       "<style scoped>\n",
       "    .dataframe tbody tr th:only-of-type {\n",
       "        vertical-align: middle;\n",
       "    }\n",
       "\n",
       "    .dataframe tbody tr th {\n",
       "        vertical-align: top;\n",
       "    }\n",
       "\n",
       "    .dataframe thead tr th {\n",
       "        text-align: left;\n",
       "    }\n",
       "\n",
       "    .dataframe thead tr:last-of-type th {\n",
       "        text-align: right;\n",
       "    }\n",
       "</style>\n",
       "<table border=\"1\" class=\"dataframe\">\n",
       "  <thead>\n",
       "    <tr>\n",
       "      <th></th>\n",
       "      <th colspan=\"2\" halign=\"left\">capital_gain</th>\n",
       "    </tr>\n",
       "    <tr>\n",
       "      <th></th>\n",
       "      <th>mean</th>\n",
       "      <th>std</th>\n",
       "    </tr>\n",
       "    <tr>\n",
       "      <th>over_fifty_k_bool</th>\n",
       "      <th></th>\n",
       "      <th></th>\n",
       "    </tr>\n",
       "  </thead>\n",
       "  <tbody>\n",
       "    <tr>\n",
       "      <th>False</th>\n",
       "      <td>148.884970</td>\n",
       "      <td>963.557955</td>\n",
       "    </tr>\n",
       "    <tr>\n",
       "      <th>True</th>\n",
       "      <td>4007.164562</td>\n",
       "      <td>14572.097223</td>\n",
       "    </tr>\n",
       "  </tbody>\n",
       "</table>\n",
       "</div>"
      ],
      "text/plain": [
       "                  capital_gain              \n",
       "                          mean           std\n",
       "over_fifty_k_bool                           \n",
       "False               148.884970    963.557955\n",
       "True               4007.164562  14572.097223"
      ]
     },
     "execution_count": 90,
     "metadata": {},
     "output_type": "execute_result"
    }
   ],
   "source": [
    "table[[\"over_fifty_k_bool\", \"capital_gain\"]\n",
    "      ].groupby(\"over_fifty_k_bool\"\n",
    "      ).agg([\"mean\", \"std\"])"
   ]
  },
  {
   "cell_type": "code",
   "execution_count": 91,
   "metadata": {},
   "outputs": [],
   "source": [
    "table = table.drop(\"education_num\", axis=1)"
   ]
  },
  {
   "cell_type": "markdown",
   "metadata": {},
   "source": [
    "### --"
   ]
  },
  {
   "cell_type": "markdown",
   "metadata": {},
   "source": [
    "### Problem\n",
    "\n",
    "Replicate the above group-by analysis, which we performed on `capital_gain`, on the other numeric columns in the data. Do this as programmatically as you can. Bonus points if you can figure out a way to measure the disparity between the results where `over_fifty_k` is `True`, and where it's `False`"
   ]
  },
  {
   "cell_type": "code",
   "execution_count": 92,
   "metadata": {
    "scrolled": true
   },
   "outputs": [
    {
     "data": {
      "text/plain": [
       "Index(['age', 'fnlwgt', 'capital_gain', 'capital_loss', 'hours_per_week',\n",
       "       'age_log', 'capital_gain_net'],\n",
       "      dtype='object')"
      ]
     },
     "execution_count": 92,
     "metadata": {},
     "output_type": "execute_result"
    }
   ],
   "source": [
    "table.select_dtypes(include=[int, float]).columns"
   ]
  },
  {
   "cell_type": "code",
   "execution_count": 93,
   "metadata": {},
   "outputs": [],
   "source": [
    "numeric_cols = table.select_dtypes(include=[int, float]).columns"
   ]
  },
  {
   "cell_type": "code",
   "execution_count": 94,
   "metadata": {},
   "outputs": [
    {
     "data": {
      "text/html": [
       "<div>\n",
       "<style scoped>\n",
       "    .dataframe tbody tr th:only-of-type {\n",
       "        vertical-align: middle;\n",
       "    }\n",
       "\n",
       "    .dataframe tbody tr th {\n",
       "        vertical-align: top;\n",
       "    }\n",
       "\n",
       "    .dataframe thead tr th {\n",
       "        text-align: left;\n",
       "    }\n",
       "</style>\n",
       "<table border=\"1\" class=\"dataframe\">\n",
       "  <thead>\n",
       "    <tr>\n",
       "      <th>over_fifty_k_bool</th>\n",
       "      <th colspan=\"2\" halign=\"left\">False</th>\n",
       "      <th colspan=\"2\" halign=\"left\">True</th>\n",
       "    </tr>\n",
       "    <tr>\n",
       "      <th></th>\n",
       "      <th>mean</th>\n",
       "      <th>std</th>\n",
       "      <th>mean</th>\n",
       "      <th>std</th>\n",
       "    </tr>\n",
       "  </thead>\n",
       "  <tbody>\n",
       "    <tr>\n",
       "      <th>age</th>\n",
       "      <td>36.787392</td>\n",
       "      <td>14.017335</td>\n",
       "      <td>44.250925</td>\n",
       "      <td>10.520102</td>\n",
       "    </tr>\n",
       "    <tr>\n",
       "      <th>fnlwgt</th>\n",
       "      <td>190345.926796</td>\n",
       "      <td>106487.413197</td>\n",
       "      <td>188000.480674</td>\n",
       "      <td>102554.464101</td>\n",
       "    </tr>\n",
       "    <tr>\n",
       "      <th>capital_gain</th>\n",
       "      <td>148.884970</td>\n",
       "      <td>963.557955</td>\n",
       "      <td>4007.164562</td>\n",
       "      <td>14572.097223</td>\n",
       "    </tr>\n",
       "    <tr>\n",
       "      <th>capital_loss</th>\n",
       "      <td>53.190258</td>\n",
       "      <td>310.890099</td>\n",
       "      <td>195.051282</td>\n",
       "      <td>595.555395</td>\n",
       "    </tr>\n",
       "    <tr>\n",
       "      <th>hours_per_week</th>\n",
       "      <td>38.842862</td>\n",
       "      <td>12.318286</td>\n",
       "      <td>45.473402</td>\n",
       "      <td>11.014165</td>\n",
       "    </tr>\n",
       "    <tr>\n",
       "      <th>age_log</th>\n",
       "      <td>3.534869</td>\n",
       "      <td>0.374787</td>\n",
       "      <td>3.761570</td>\n",
       "      <td>0.239388</td>\n",
       "    </tr>\n",
       "    <tr>\n",
       "      <th>capital_gain_net</th>\n",
       "      <td>95.694712</td>\n",
       "      <td>1020.262558</td>\n",
       "      <td>3812.113280</td>\n",
       "      <td>14637.763091</td>\n",
       "    </tr>\n",
       "  </tbody>\n",
       "</table>\n",
       "</div>"
      ],
      "text/plain": [
       "over_fifty_k_bool          False                         True                \n",
       "                            mean            std           mean            std\n",
       "age                    36.787392      14.017335      44.250925      10.520102\n",
       "fnlwgt             190345.926796  106487.413197  188000.480674  102554.464101\n",
       "capital_gain          148.884970     963.557955    4007.164562   14572.097223\n",
       "capital_loss           53.190258     310.890099     195.051282     595.555395\n",
       "hours_per_week         38.842862      12.318286      45.473402      11.014165\n",
       "age_log                 3.534869       0.374787       3.761570       0.239388\n",
       "capital_gain_net       95.694712    1020.262558    3812.113280   14637.763091"
      ]
     },
     "execution_count": 94,
     "metadata": {},
     "output_type": "execute_result"
    }
   ],
   "source": [
    "table.groupby(\"over_fifty_k_bool\")[numeric_cols].agg([\"mean\", \"std\"]).T.unstack(1)"
   ]
  },
  {
   "cell_type": "markdown",
   "metadata": {},
   "source": [
    "### --"
   ]
  },
  {
   "cell_type": "markdown",
   "metadata": {},
   "source": [
    "### Relational data analysis: _cross tabulations_\n",
    "\n",
    "Can we do something similar for categorical data?"
   ]
  },
  {
   "cell_type": "code",
   "execution_count": 95,
   "metadata": {},
   "outputs": [
    {
     "data": {
      "text/html": [
       "<div>\n",
       "<style scoped>\n",
       "    .dataframe tbody tr th:only-of-type {\n",
       "        vertical-align: middle;\n",
       "    }\n",
       "\n",
       "    .dataframe tbody tr th {\n",
       "        vertical-align: top;\n",
       "    }\n",
       "\n",
       "    .dataframe thead th {\n",
       "        text-align: right;\n",
       "    }\n",
       "</style>\n",
       "<table border=\"1\" class=\"dataframe\">\n",
       "  <thead>\n",
       "    <tr style=\"text-align: right;\">\n",
       "      <th>over_fifty_k_bool</th>\n",
       "      <th>False</th>\n",
       "      <th>True</th>\n",
       "    </tr>\n",
       "    <tr>\n",
       "      <th>marital_status</th>\n",
       "      <th></th>\n",
       "      <th></th>\n",
       "    </tr>\n",
       "  </thead>\n",
       "  <tbody>\n",
       "    <tr>\n",
       "      <th>Divorced</th>\n",
       "      <td>3978</td>\n",
       "      <td>463</td>\n",
       "    </tr>\n",
       "    <tr>\n",
       "      <th>Married-AF-spouse</th>\n",
       "      <td>13</td>\n",
       "      <td>10</td>\n",
       "    </tr>\n",
       "    <tr>\n",
       "      <th>Married-civ-spouse</th>\n",
       "      <td>8280</td>\n",
       "      <td>6690</td>\n",
       "    </tr>\n",
       "    <tr>\n",
       "      <th>Married-spouse-absent</th>\n",
       "      <td>384</td>\n",
       "      <td>34</td>\n",
       "    </tr>\n",
       "    <tr>\n",
       "      <th>Never-married</th>\n",
       "      <td>10176</td>\n",
       "      <td>491</td>\n",
       "    </tr>\n",
       "    <tr>\n",
       "      <th>Separated</th>\n",
       "      <td>959</td>\n",
       "      <td>66</td>\n",
       "    </tr>\n",
       "    <tr>\n",
       "      <th>Widowed</th>\n",
       "      <td>908</td>\n",
       "      <td>85</td>\n",
       "    </tr>\n",
       "  </tbody>\n",
       "</table>\n",
       "</div>"
      ],
      "text/plain": [
       "over_fifty_k_bool      False  True \n",
       "marital_status                     \n",
       "Divorced                3978    463\n",
       "Married-AF-spouse         13     10\n",
       "Married-civ-spouse      8280   6690\n",
       "Married-spouse-absent    384     34\n",
       "Never-married          10176    491\n",
       "Separated                959     66\n",
       "Widowed                  908     85"
      ]
     },
     "execution_count": 95,
     "metadata": {},
     "output_type": "execute_result"
    }
   ],
   "source": [
    "pd.crosstab(table.over_fifty_k_bool, table.marital_status).T"
   ]
  },
  {
   "cell_type": "markdown",
   "metadata": {},
   "source": [
    "The `pd.crosstab` function allows us to break down data into groups, based on the values the passed rows take for each of two columns, and returns the count for each group."
   ]
  },
  {
   "cell_type": "markdown",
   "metadata": {},
   "source": [
    "Let's save these results:"
   ]
  },
  {
   "cell_type": "code",
   "execution_count": 96,
   "metadata": {},
   "outputs": [],
   "source": [
    "_cross_tabs = pd.crosstab(table.over_fifty_k_bool, table.marital_status).T"
   ]
  },
  {
   "cell_type": "markdown",
   "metadata": {},
   "source": [
    "Get relative counts:"
   ]
  },
  {
   "cell_type": "code",
   "execution_count": 97,
   "metadata": {},
   "outputs": [],
   "source": [
    "_cross_tabs = _cross_tabs / len(table)"
   ]
  },
  {
   "cell_type": "markdown",
   "metadata": {},
   "source": [
    "Confirm our counts make sense:"
   ]
  },
  {
   "cell_type": "code",
   "execution_count": 98,
   "metadata": {},
   "outputs": [
    {
     "data": {
      "text/html": [
       "<div>\n",
       "<style scoped>\n",
       "    .dataframe tbody tr th:only-of-type {\n",
       "        vertical-align: middle;\n",
       "    }\n",
       "\n",
       "    .dataframe tbody tr th {\n",
       "        vertical-align: top;\n",
       "    }\n",
       "\n",
       "    .dataframe thead th {\n",
       "        text-align: right;\n",
       "    }\n",
       "</style>\n",
       "<table border=\"1\" class=\"dataframe\">\n",
       "  <thead>\n",
       "    <tr style=\"text-align: right;\">\n",
       "      <th>over_fifty_k_bool</th>\n",
       "      <th>False</th>\n",
       "      <th>True</th>\n",
       "    </tr>\n",
       "    <tr>\n",
       "      <th>marital_status</th>\n",
       "      <th></th>\n",
       "      <th></th>\n",
       "    </tr>\n",
       "  </thead>\n",
       "  <tbody>\n",
       "    <tr>\n",
       "      <th>Divorced</th>\n",
       "      <td>0.122261</td>\n",
       "      <td>0.014230</td>\n",
       "    </tr>\n",
       "    <tr>\n",
       "      <th>Married-AF-spouse</th>\n",
       "      <td>0.000400</td>\n",
       "      <td>0.000307</td>\n",
       "    </tr>\n",
       "    <tr>\n",
       "      <th>Married-civ-spouse</th>\n",
       "      <td>0.254480</td>\n",
       "      <td>0.205612</td>\n",
       "    </tr>\n",
       "    <tr>\n",
       "      <th>Married-spouse-absent</th>\n",
       "      <td>0.011802</td>\n",
       "      <td>0.001045</td>\n",
       "    </tr>\n",
       "    <tr>\n",
       "      <th>Never-married</th>\n",
       "      <td>0.312752</td>\n",
       "      <td>0.015091</td>\n",
       "    </tr>\n",
       "    <tr>\n",
       "      <th>Separated</th>\n",
       "      <td>0.029474</td>\n",
       "      <td>0.002028</td>\n",
       "    </tr>\n",
       "    <tr>\n",
       "      <th>Widowed</th>\n",
       "      <td>0.027907</td>\n",
       "      <td>0.002612</td>\n",
       "    </tr>\n",
       "  </tbody>\n",
       "</table>\n",
       "</div>"
      ],
      "text/plain": [
       "over_fifty_k_bool         False     True \n",
       "marital_status                           \n",
       "Divorced               0.122261  0.014230\n",
       "Married-AF-spouse      0.000400  0.000307\n",
       "Married-civ-spouse     0.254480  0.205612\n",
       "Married-spouse-absent  0.011802  0.001045\n",
       "Never-married          0.312752  0.015091\n",
       "Separated              0.029474  0.002028\n",
       "Widowed                0.027907  0.002612"
      ]
     },
     "execution_count": 98,
     "metadata": {},
     "output_type": "execute_result"
    }
   ],
   "source": [
    "_cross_tabs"
   ]
  },
  {
   "cell_type": "code",
   "execution_count": 99,
   "metadata": {},
   "outputs": [
    {
     "data": {
      "text/plain": [
       "1.0"
      ]
     },
     "execution_count": 99,
     "metadata": {},
     "output_type": "execute_result"
    }
   ],
   "source": [
    "_cross_tabs.sum().sum()"
   ]
  },
  {
   "cell_type": "markdown",
   "metadata": {},
   "source": [
    "Visualize results:"
   ]
  },
  {
   "cell_type": "code",
   "execution_count": 100,
   "metadata": {},
   "outputs": [
    {
     "data": {
      "image/png": "[encoded data removed]",
      "text/plain": [
       "<Figure size 792x576 with 1 Axes>"
      ]
     },
     "metadata": {
      "needs_background": "light"
     },
     "output_type": "display_data"
    }
   ],
   "source": [
    "ax = _cross_tabs.plot.barh(figsize=(11, 8), color=[\"steelblue\", \"violet\"])"
   ]
  },
  {
   "cell_type": "markdown",
   "metadata": {},
   "source": [
    "Can we go even further, tabulating more than two columns? In fact, we can:"
   ]
  },
  {
   "cell_type": "code",
   "execution_count": 101,
   "metadata": {},
   "outputs": [
    {
     "data": {
      "text/html": [
       "<div>\n",
       "<style scoped>\n",
       "    .dataframe tbody tr th:only-of-type {\n",
       "        vertical-align: middle;\n",
       "    }\n",
       "\n",
       "    .dataframe tbody tr th {\n",
       "        vertical-align: top;\n",
       "    }\n",
       "\n",
       "    .dataframe thead th {\n",
       "        text-align: right;\n",
       "    }\n",
       "</style>\n",
       "<table border=\"1\" class=\"dataframe\">\n",
       "  <thead>\n",
       "    <tr style=\"text-align: right;\">\n",
       "      <th></th>\n",
       "      <th></th>\n",
       "      <th></th>\n",
       "      <th>0</th>\n",
       "    </tr>\n",
       "    <tr>\n",
       "      <th>over_fifty_k_bool</th>\n",
       "      <th>marital_status</th>\n",
       "      <th>sex</th>\n",
       "      <th></th>\n",
       "    </tr>\n",
       "  </thead>\n",
       "  <tbody>\n",
       "    <tr>\n",
       "      <th rowspan=\"14\" valign=\"top\">False</th>\n",
       "      <th rowspan=\"2\" valign=\"top\">Divorced</th>\n",
       "      <th>Female</th>\n",
       "      <td>2491</td>\n",
       "    </tr>\n",
       "    <tr>\n",
       "      <th>Male</th>\n",
       "      <td>1487</td>\n",
       "    </tr>\n",
       "    <tr>\n",
       "      <th rowspan=\"2\" valign=\"top\">Married-AF-spouse</th>\n",
       "      <th>Female</th>\n",
       "      <td>8</td>\n",
       "    </tr>\n",
       "    <tr>\n",
       "      <th>Male</th>\n",
       "      <td>5</td>\n",
       "    </tr>\n",
       "    <tr>\n",
       "      <th rowspan=\"2\" valign=\"top\">Married-civ-spouse</th>\n",
       "      <th>Female</th>\n",
       "      <td>903</td>\n",
       "    </tr>\n",
       "    <tr>\n",
       "      <th>Male</th>\n",
       "      <td>7377</td>\n",
       "    </tr>\n",
       "    <tr>\n",
       "      <th rowspan=\"2\" valign=\"top\">Married-spouse-absent</th>\n",
       "      <th>Female</th>\n",
       "      <td>194</td>\n",
       "    </tr>\n",
       "    <tr>\n",
       "      <th>Male</th>\n",
       "      <td>190</td>\n",
       "    </tr>\n",
       "    <tr>\n",
       "      <th rowspan=\"2\" valign=\"top\">Never-married</th>\n",
       "      <th>Female</th>\n",
       "      <td>4594</td>\n",
       "    </tr>\n",
       "    <tr>\n",
       "      <th>Male</th>\n",
       "      <td>5582</td>\n",
       "    </tr>\n",
       "    <tr>\n",
       "      <th rowspan=\"2\" valign=\"top\">Separated</th>\n",
       "      <th>Female</th>\n",
       "      <td>614</td>\n",
       "    </tr>\n",
       "    <tr>\n",
       "      <th>Male</th>\n",
       "      <td>345</td>\n",
       "    </tr>\n",
       "    <tr>\n",
       "      <th rowspan=\"2\" valign=\"top\">Widowed</th>\n",
       "      <th>Female</th>\n",
       "      <td>779</td>\n",
       "    </tr>\n",
       "    <tr>\n",
       "      <th>Male</th>\n",
       "      <td>129</td>\n",
       "    </tr>\n",
       "    <tr>\n",
       "      <th rowspan=\"14\" valign=\"top\">True</th>\n",
       "      <th rowspan=\"2\" valign=\"top\">Divorced</th>\n",
       "      <th>Female</th>\n",
       "      <td>179</td>\n",
       "    </tr>\n",
       "    <tr>\n",
       "      <th>Male</th>\n",
       "      <td>284</td>\n",
       "    </tr>\n",
       "    <tr>\n",
       "      <th rowspan=\"2\" valign=\"top\">Married-AF-spouse</th>\n",
       "      <th>Female</th>\n",
       "      <td>6</td>\n",
       "    </tr>\n",
       "    <tr>\n",
       "      <th>Male</th>\n",
       "      <td>4</td>\n",
       "    </tr>\n",
       "    <tr>\n",
       "      <th rowspan=\"2\" valign=\"top\">Married-civ-spouse</th>\n",
       "      <th>Female</th>\n",
       "      <td>754</td>\n",
       "    </tr>\n",
       "    <tr>\n",
       "      <th>Male</th>\n",
       "      <td>5936</td>\n",
       "    </tr>\n",
       "    <tr>\n",
       "      <th rowspan=\"2\" valign=\"top\">Married-spouse-absent</th>\n",
       "      <th>Female</th>\n",
       "      <td>11</td>\n",
       "    </tr>\n",
       "    <tr>\n",
       "      <th>Male</th>\n",
       "      <td>23</td>\n",
       "    </tr>\n",
       "    <tr>\n",
       "      <th rowspan=\"2\" valign=\"top\">Never-married</th>\n",
       "      <th>Female</th>\n",
       "      <td>166</td>\n",
       "    </tr>\n",
       "    <tr>\n",
       "      <th>Male</th>\n",
       "      <td>325</td>\n",
       "    </tr>\n",
       "    <tr>\n",
       "      <th rowspan=\"2\" valign=\"top\">Separated</th>\n",
       "      <th>Female</th>\n",
       "      <td>17</td>\n",
       "    </tr>\n",
       "    <tr>\n",
       "      <th>Male</th>\n",
       "      <td>49</td>\n",
       "    </tr>\n",
       "    <tr>\n",
       "      <th rowspan=\"2\" valign=\"top\">Widowed</th>\n",
       "      <th>Female</th>\n",
       "      <td>46</td>\n",
       "    </tr>\n",
       "    <tr>\n",
       "      <th>Male</th>\n",
       "      <td>39</td>\n",
       "    </tr>\n",
       "  </tbody>\n",
       "</table>\n",
       "</div>"
      ],
      "text/plain": [
       "                                                   0\n",
       "over_fifty_k_bool marital_status        sex         \n",
       "False             Divorced              Female  2491\n",
       "                                        Male    1487\n",
       "                  Married-AF-spouse     Female     8\n",
       "                                        Male       5\n",
       "                  Married-civ-spouse    Female   903\n",
       "                                        Male    7377\n",
       "                  Married-spouse-absent Female   194\n",
       "                                        Male     190\n",
       "                  Never-married         Female  4594\n",
       "                                        Male    5582\n",
       "                  Separated             Female   614\n",
       "                                        Male     345\n",
       "                  Widowed               Female   779\n",
       "                                        Male     129\n",
       "True              Divorced              Female   179\n",
       "                                        Male     284\n",
       "                  Married-AF-spouse     Female     6\n",
       "                                        Male       4\n",
       "                  Married-civ-spouse    Female   754\n",
       "                                        Male    5936\n",
       "                  Married-spouse-absent Female    11\n",
       "                                        Male      23\n",
       "                  Never-married         Female   166\n",
       "                                        Male     325\n",
       "                  Separated             Female    17\n",
       "                                        Male      49\n",
       "                  Widowed               Female    46\n",
       "                                        Male      39"
      ]
     },
     "execution_count": 101,
     "metadata": {},
     "output_type": "execute_result"
    }
   ],
   "source": [
    "table[[\"over_fifty_k_bool\", \"marital_status\", \"sex\"]\n",
    "     ].groupby([\"over_fifty_k_bool\", \"marital_status\", \"sex\"]\n",
    "     ).size().to_frame()"
   ]
  },
  {
   "cell_type": "markdown",
   "metadata": {},
   "source": [
    "Look at that monstrosity! Can we make it make a little more sense? Let's save it and give it a name:"
   ]
  },
  {
   "cell_type": "code",
   "execution_count": 102,
   "metadata": {},
   "outputs": [],
   "source": [
    "_multi_tab = table[[\"over_fifty_k\", \"marital_status\", \"sex\"]\n",
    "                     ].groupby([\"over_fifty_k\", \"marital_status\", \"sex\"]\n",
    "                     ).size().rename(\"size\")"
   ]
  },
  {
   "cell_type": "markdown",
   "metadata": {},
   "source": [
    "Using the `unstack` method, we can pop one of our row-level breakdowns into a columnar breakdown:"
   ]
  },
  {
   "cell_type": "code",
   "execution_count": 103,
   "metadata": {},
   "outputs": [
    {
     "data": {
      "text/html": [
       "<div>\n",
       "<style scoped>\n",
       "    .dataframe tbody tr th:only-of-type {\n",
       "        vertical-align: middle;\n",
       "    }\n",
       "\n",
       "    .dataframe tbody tr th {\n",
       "        vertical-align: top;\n",
       "    }\n",
       "\n",
       "    .dataframe thead th {\n",
       "        text-align: right;\n",
       "    }\n",
       "</style>\n",
       "<table border=\"1\" class=\"dataframe\">\n",
       "  <thead>\n",
       "    <tr style=\"text-align: right;\">\n",
       "      <th></th>\n",
       "      <th>sex</th>\n",
       "      <th>Female</th>\n",
       "      <th>Male</th>\n",
       "    </tr>\n",
       "    <tr>\n",
       "      <th>over_fifty_k</th>\n",
       "      <th>marital_status</th>\n",
       "      <th></th>\n",
       "      <th></th>\n",
       "    </tr>\n",
       "  </thead>\n",
       "  <tbody>\n",
       "    <tr>\n",
       "      <th rowspan=\"7\" valign=\"top\">&lt;=50K</th>\n",
       "      <th>Divorced</th>\n",
       "      <td>2491</td>\n",
       "      <td>1487</td>\n",
       "    </tr>\n",
       "    <tr>\n",
       "      <th>Married-AF-spouse</th>\n",
       "      <td>8</td>\n",
       "      <td>5</td>\n",
       "    </tr>\n",
       "    <tr>\n",
       "      <th>Married-civ-spouse</th>\n",
       "      <td>903</td>\n",
       "      <td>7377</td>\n",
       "    </tr>\n",
       "    <tr>\n",
       "      <th>Married-spouse-absent</th>\n",
       "      <td>194</td>\n",
       "      <td>190</td>\n",
       "    </tr>\n",
       "    <tr>\n",
       "      <th>Never-married</th>\n",
       "      <td>4594</td>\n",
       "      <td>5582</td>\n",
       "    </tr>\n",
       "    <tr>\n",
       "      <th>Separated</th>\n",
       "      <td>614</td>\n",
       "      <td>345</td>\n",
       "    </tr>\n",
       "    <tr>\n",
       "      <th>Widowed</th>\n",
       "      <td>779</td>\n",
       "      <td>129</td>\n",
       "    </tr>\n",
       "    <tr>\n",
       "      <th rowspan=\"7\" valign=\"top\">&gt;50K</th>\n",
       "      <th>Divorced</th>\n",
       "      <td>179</td>\n",
       "      <td>284</td>\n",
       "    </tr>\n",
       "    <tr>\n",
       "      <th>Married-AF-spouse</th>\n",
       "      <td>6</td>\n",
       "      <td>4</td>\n",
       "    </tr>\n",
       "    <tr>\n",
       "      <th>Married-civ-spouse</th>\n",
       "      <td>754</td>\n",
       "      <td>5936</td>\n",
       "    </tr>\n",
       "    <tr>\n",
       "      <th>Married-spouse-absent</th>\n",
       "      <td>11</td>\n",
       "      <td>23</td>\n",
       "    </tr>\n",
       "    <tr>\n",
       "      <th>Never-married</th>\n",
       "      <td>166</td>\n",
       "      <td>325</td>\n",
       "    </tr>\n",
       "    <tr>\n",
       "      <th>Separated</th>\n",
       "      <td>17</td>\n",
       "      <td>49</td>\n",
       "    </tr>\n",
       "    <tr>\n",
       "      <th>Widowed</th>\n",
       "      <td>46</td>\n",
       "      <td>39</td>\n",
       "    </tr>\n",
       "  </tbody>\n",
       "</table>\n",
       "</div>"
      ],
      "text/plain": [
       "sex                                 Female  Male\n",
       "over_fifty_k marital_status                     \n",
       "<=50K        Divorced                 2491  1487\n",
       "             Married-AF-spouse           8     5\n",
       "             Married-civ-spouse        903  7377\n",
       "             Married-spouse-absent     194   190\n",
       "             Never-married            4594  5582\n",
       "             Separated                 614   345\n",
       "             Widowed                   779   129\n",
       ">50K         Divorced                  179   284\n",
       "             Married-AF-spouse           6     4\n",
       "             Married-civ-spouse        754  5936\n",
       "             Married-spouse-absent      11    23\n",
       "             Never-married             166   325\n",
       "             Separated                  17    49\n",
       "             Widowed                    46    39"
      ]
     },
     "execution_count": 103,
     "metadata": {},
     "output_type": "execute_result"
    }
   ],
   "source": [
    "_multi_tab.unstack()"
   ]
  },
  {
   "cell_type": "markdown",
   "metadata": {},
   "source": [
    "We can pick which level we pop out, too:"
   ]
  },
  {
   "cell_type": "code",
   "execution_count": 104,
   "metadata": {},
   "outputs": [
    {
     "data": {
      "text/html": [
       "<div>\n",
       "<style scoped>\n",
       "    .dataframe tbody tr th:only-of-type {\n",
       "        vertical-align: middle;\n",
       "    }\n",
       "\n",
       "    .dataframe tbody tr th {\n",
       "        vertical-align: top;\n",
       "    }\n",
       "\n",
       "    .dataframe thead th {\n",
       "        text-align: right;\n",
       "    }\n",
       "</style>\n",
       "<table border=\"1\" class=\"dataframe\">\n",
       "  <thead>\n",
       "    <tr style=\"text-align: right;\">\n",
       "      <th></th>\n",
       "      <th>over_fifty_k</th>\n",
       "      <th>&lt;=50K</th>\n",
       "      <th>&gt;50K</th>\n",
       "    </tr>\n",
       "    <tr>\n",
       "      <th>marital_status</th>\n",
       "      <th>sex</th>\n",
       "      <th></th>\n",
       "      <th></th>\n",
       "    </tr>\n",
       "  </thead>\n",
       "  <tbody>\n",
       "    <tr>\n",
       "      <th rowspan=\"2\" valign=\"top\">Divorced</th>\n",
       "      <th>Female</th>\n",
       "      <td>2491</td>\n",
       "      <td>179</td>\n",
       "    </tr>\n",
       "    <tr>\n",
       "      <th>Male</th>\n",
       "      <td>1487</td>\n",
       "      <td>284</td>\n",
       "    </tr>\n",
       "    <tr>\n",
       "      <th rowspan=\"2\" valign=\"top\">Married-AF-spouse</th>\n",
       "      <th>Female</th>\n",
       "      <td>8</td>\n",
       "      <td>6</td>\n",
       "    </tr>\n",
       "    <tr>\n",
       "      <th>Male</th>\n",
       "      <td>5</td>\n",
       "      <td>4</td>\n",
       "    </tr>\n",
       "    <tr>\n",
       "      <th rowspan=\"2\" valign=\"top\">Married-civ-spouse</th>\n",
       "      <th>Female</th>\n",
       "      <td>903</td>\n",
       "      <td>754</td>\n",
       "    </tr>\n",
       "    <tr>\n",
       "      <th>Male</th>\n",
       "      <td>7377</td>\n",
       "      <td>5936</td>\n",
       "    </tr>\n",
       "    <tr>\n",
       "      <th rowspan=\"2\" valign=\"top\">Married-spouse-absent</th>\n",
       "      <th>Female</th>\n",
       "      <td>194</td>\n",
       "      <td>11</td>\n",
       "    </tr>\n",
       "    <tr>\n",
       "      <th>Male</th>\n",
       "      <td>190</td>\n",
       "      <td>23</td>\n",
       "    </tr>\n",
       "    <tr>\n",
       "      <th rowspan=\"2\" valign=\"top\">Never-married</th>\n",
       "      <th>Female</th>\n",
       "      <td>4594</td>\n",
       "      <td>166</td>\n",
       "    </tr>\n",
       "    <tr>\n",
       "      <th>Male</th>\n",
       "      <td>5582</td>\n",
       "      <td>325</td>\n",
       "    </tr>\n",
       "    <tr>\n",
       "      <th rowspan=\"2\" valign=\"top\">Separated</th>\n",
       "      <th>Female</th>\n",
       "      <td>614</td>\n",
       "      <td>17</td>\n",
       "    </tr>\n",
       "    <tr>\n",
       "      <th>Male</th>\n",
       "      <td>345</td>\n",
       "      <td>49</td>\n",
       "    </tr>\n",
       "    <tr>\n",
       "      <th rowspan=\"2\" valign=\"top\">Widowed</th>\n",
       "      <th>Female</th>\n",
       "      <td>779</td>\n",
       "      <td>46</td>\n",
       "    </tr>\n",
       "    <tr>\n",
       "      <th>Male</th>\n",
       "      <td>129</td>\n",
       "      <td>39</td>\n",
       "    </tr>\n",
       "  </tbody>\n",
       "</table>\n",
       "</div>"
      ],
      "text/plain": [
       "over_fifty_k                  <=50K  >50K\n",
       "marital_status        sex                \n",
       "Divorced              Female   2491   179\n",
       "                      Male     1487   284\n",
       "Married-AF-spouse     Female      8     6\n",
       "                      Male        5     4\n",
       "Married-civ-spouse    Female    903   754\n",
       "                      Male     7377  5936\n",
       "Married-spouse-absent Female    194    11\n",
       "                      Male      190    23\n",
       "Never-married         Female   4594   166\n",
       "                      Male     5582   325\n",
       "Separated             Female    614    17\n",
       "                      Male      345    49\n",
       "Widowed               Female    779    46\n",
       "                      Male      129    39"
      ]
     },
     "execution_count": 104,
     "metadata": {},
     "output_type": "execute_result"
    }
   ],
   "source": [
    "_multi_tab.unstack(0)"
   ]
  },
  {
   "cell_type": "markdown",
   "metadata": {},
   "source": [
    "And if we'd like to pop it back in:"
   ]
  },
  {
   "cell_type": "code",
   "execution_count": 105,
   "metadata": {},
   "outputs": [
    {
     "data": {
      "text/plain": [
       "marital_status         sex     over_fifty_k\n",
       "Divorced               Female  <=50K           2491\n",
       "                               >50K             179\n",
       "                       Male    <=50K           1487\n",
       "                               >50K             284\n",
       "Married-AF-spouse      Female  <=50K              8\n",
       "                               >50K               6\n",
       "                       Male    <=50K              5\n",
       "                               >50K               4\n",
       "Married-civ-spouse     Female  <=50K            903\n",
       "                               >50K             754\n",
       "                       Male    <=50K           7377\n",
       "                               >50K            5936\n",
       "Married-spouse-absent  Female  <=50K            194\n",
       "                               >50K              11\n",
       "                       Male    <=50K            190\n",
       "                               >50K              23\n",
       "Never-married          Female  <=50K           4594\n",
       "                               >50K             166\n",
       "                       Male    <=50K           5582\n",
       "                               >50K             325\n",
       "Separated              Female  <=50K            614\n",
       "                               >50K              17\n",
       "                       Male    <=50K            345\n",
       "                               >50K              49\n",
       "Widowed                Female  <=50K            779\n",
       "                               >50K              46\n",
       "                       Male    <=50K            129\n",
       "                               >50K              39\n",
       "dtype: int64"
      ]
     },
     "execution_count": 105,
     "metadata": {},
     "output_type": "execute_result"
    }
   ],
   "source": [
    "_multi_tab.unstack(0).stack()"
   ]
  },
  {
   "cell_type": "markdown",
   "metadata": {},
   "source": [
    "So, we could do this _all_ day (for many, many days...), but let's move on to feature selection. Before we go..."
   ]
  },
  {
   "cell_type": "markdown",
   "metadata": {},
   "source": [
    "### --"
   ]
  },
  {
   "cell_type": "markdown",
   "metadata": {},
   "source": [
    "### Problem\n",
    "\n",
    "Think about the analyses we've performed and whether you wish we'd given any of them more time. Think about some more columns you might engineer out of the data we've got, and add _at least two_ new columns to `table`."
   ]
  },
  {
   "cell_type": "code",
   "execution_count": 106,
   "metadata": {},
   "outputs": [
    {
     "data": {
      "text/plain": [
       "73"
      ]
     },
     "execution_count": 106,
     "metadata": {},
     "output_type": "execute_result"
    }
   ],
   "source": [
    "custom_round(table.capital_gain, 100).nunique()"
   ]
  },
  {
   "cell_type": "code",
   "execution_count": 107,
   "metadata": {},
   "outputs": [
    {
     "data": {
      "text/plain": [
       "<matplotlib.axes._subplots.AxesSubplot at 0x11c5404d0>"
      ]
     },
     "execution_count": 107,
     "metadata": {},
     "output_type": "execute_result"
    },
    {
     "data": {
      "image/png": "[encoded data removed]",
      "text/plain": [
       "<Figure size 792x576 with 1 Axes>"
      ]
     },
     "metadata": {
      "needs_background": "light"
     },
     "output_type": "display_data"
    }
   ],
   "source": [
    "custom_round(table.capital_gain, 1000).value_counts().sort_index().plot.bar(figsize=(11, 8), rot=20)"
   ]
  },
  {
   "cell_type": "markdown",
   "metadata": {},
   "source": [
    "**Notes**\n",
    "\n",
    "- so, maybe if we had reason to believe that `capital_gain` was _noisy_ we could bin its values as we've done above and retain this representation of the data\n",
    "- in this case, I am just going to keep it as is"
   ]
  },
  {
   "cell_type": "markdown",
   "metadata": {},
   "source": [
    "### --"
   ]
  },
  {
   "cell_type": "markdown",
   "metadata": {},
   "source": [
    "# 3. Feature Selection\n",
    "\n",
    "Choosing the right set of features can bring many benefits.\n",
    "\n",
    "Some models don't work well with redundancy, so you'll want to choose features that are not too inter-related. Additionally, some datasets contain many, many columns, and reducing the amount of inputs to your model can drastically reduce the time it takes to prep your data and train your model. \n",
    "\n",
    "The benefits go on. In this case, we have a pretty simple feature set, but it will still help us to get a sense of what's the most predictive, which features overlap the most with other features, etc.\n",
    "\n",
    "It should be noted that, when developing predictive models, you always need to be careful to *not base your performance benchmarks off of what you're training your models on*, and that goes even for feature selection - it's one thing to look at the entire dataset when you're exploring and looking for problems, but it's another to be programmatically making decisions around what to include in a model.\n",
    "\n",
    "So we will start by taking 10% of our data out and putting it on the back burner - only for use at the very end, once we've already decided what our model and feature set are and once we're ready to just report performance estimates. We will take this 10% out _randomly_ and with respect to the _natural stratification_ of our target's clases (i.e. with respect for the balance of `True` / `False` in `over_fifty_k_bool`)."
   ]
  },
  {
   "cell_type": "code",
   "execution_count": 108,
   "metadata": {},
   "outputs": [
    {
     "data": {
      "text/plain": [
       "False    0.759074\n",
       "True     0.240926\n",
       "Name: over_fifty_k_bool, dtype: float64"
      ]
     },
     "execution_count": 108,
     "metadata": {},
     "output_type": "execute_result"
    }
   ],
   "source": [
    "table.over_fifty_k_bool.value_counts(normalize=True)"
   ]
  },
  {
   "cell_type": "markdown",
   "metadata": {},
   "source": [
    "Here, we lean on `sklearn` for the random, stratified sampling:"
   ]
  },
  {
   "cell_type": "code",
   "execution_count": 109,
   "metadata": {},
   "outputs": [],
   "source": [
    "train_inds, test_inds = train_test_split(table.index, test_size=.1, stratify=table.over_fifty_k_bool)"
   ]
  },
  {
   "cell_type": "markdown",
   "metadata": {},
   "source": [
    "Next, we filter out any columns starting with `\"over_fifty_k\"` as we want to remove those from our feature set:"
   ]
  },
  {
   "cell_type": "code",
   "execution_count": 110,
   "metadata": {},
   "outputs": [],
   "source": [
    "table_train = table.loc[train_inds, [c for c in table.columns if not c.startswith(\"over_fifty_k\")]]"
   ]
  },
  {
   "cell_type": "code",
   "execution_count": 111,
   "metadata": {
    "scrolled": true
   },
   "outputs": [
    {
     "data": {
      "text/plain": [
       "Index(['age', 'workclass', 'fnlwgt', 'education', 'marital_status',\n",
       "       'occupation', 'relationship', 'race', 'sex', 'capital_gain',\n",
       "       'capital_loss', 'hours_per_week', 'native_country', 'age_log',\n",
       "       'capital_gain_net'],\n",
       "      dtype='object')"
      ]
     },
     "execution_count": 111,
     "metadata": {},
     "output_type": "execute_result"
    }
   ],
   "source": [
    "table_train.columns"
   ]
  },
  {
   "cell_type": "markdown",
   "metadata": {},
   "source": [
    "We'll keep this as our `y`:"
   ]
  },
  {
   "cell_type": "code",
   "execution_count": 112,
   "metadata": {},
   "outputs": [],
   "source": [
    "fifty_k_train = table.loc[train_inds, \"over_fifty_k_bool\"]"
   ]
  },
  {
   "cell_type": "markdown",
   "metadata": {},
   "source": [
    "### Feature redundancy\n",
    "\n",
    "Let's start with looking at feature redundancy. There are many ways to do this, and one approach is to leverage *Euclidean distance*, which, between two vectors $p$ and $q$ is $\\sqrt{ \\sum_{i}^n (q_{i} - p_{i})^2}$\n",
    "\n",
    "You might recognize this from the Pythagorean Theorem and this is a generalization of that idea. We are solving for the distance of the straight line that exists between each of the pairwise combinations of features in the data, where each row represents a \"dimension\" of measurement.\n",
    "\n",
    "See more [here](https://en.wikipedia.org/wiki/Euclidean_distance). \n",
    "\n",
    "I wrote my own function for this, and I thought we could try it out, even if only for conceptual purposes (you can see the code for this [here](https://github.com/lermana/indoorplants/blob/master/indoorplants/analysis/features.py)). The way this function works is: you pass it a DataFrame, and a selection of columns, and it computes pairwise distances between all the columns:"
   ]
  },
  {
   "cell_type": "code",
   "execution_count": 113,
   "metadata": {},
   "outputs": [],
   "source": [
    "euclideans = features.euclidean_distances(table_train, \n",
    "                                         table_train.select_dtypes(include=[int, float, bool]).columns)"
   ]
  },
  {
   "cell_type": "code",
   "execution_count": 114,
   "metadata": {
    "scrolled": true
   },
   "outputs": [
    {
     "data": {
      "text/plain": [
       "(21, 1)"
      ]
     },
     "execution_count": 114,
     "metadata": {},
     "output_type": "execute_result"
    }
   ],
   "source": [
    "euclideans.shape"
   ]
  },
  {
   "cell_type": "markdown",
   "metadata": {},
   "source": [
    "So what are we looking for here? We want to find the features that are too \"close\" together (i.e. the value for `euclidean_distances` is small):"
   ]
  },
  {
   "cell_type": "code",
   "execution_count": 115,
   "metadata": {},
   "outputs": [
    {
     "data": {
      "text/html": [
       "<div>\n",
       "<style scoped>\n",
       "    .dataframe tbody tr th:only-of-type {\n",
       "        vertical-align: middle;\n",
       "    }\n",
       "\n",
       "    .dataframe tbody tr th {\n",
       "        vertical-align: top;\n",
       "    }\n",
       "\n",
       "    .dataframe thead th {\n",
       "        text-align: right;\n",
       "    }\n",
       "</style>\n",
       "<table border=\"1\" class=\"dataframe\">\n",
       "  <thead>\n",
       "    <tr style=\"text-align: right;\">\n",
       "      <th></th>\n",
       "      <th></th>\n",
       "      <th>euclidean_distances</th>\n",
       "    </tr>\n",
       "    <tr>\n",
       "      <th>feature_one</th>\n",
       "      <th>feature_two</th>\n",
       "      <th></th>\n",
       "    </tr>\n",
       "  </thead>\n",
       "  <tbody>\n",
       "    <tr>\n",
       "      <th>capital_gain</th>\n",
       "      <th>age_log</th>\n",
       "      <td>84.872728</td>\n",
       "    </tr>\n",
       "    <tr>\n",
       "      <th>capital_loss</th>\n",
       "      <th>age_log</th>\n",
       "      <td>83.994809</td>\n",
       "    </tr>\n",
       "    <tr>\n",
       "      <th>age_log</th>\n",
       "      <th>capital_gain_net</th>\n",
       "      <td>78.716478</td>\n",
       "    </tr>\n",
       "    <tr>\n",
       "      <th>capital_gain</th>\n",
       "      <th>hours_per_week</th>\n",
       "      <td>71.171903</td>\n",
       "    </tr>\n",
       "    <tr>\n",
       "      <th>capital_loss</th>\n",
       "      <th>hours_per_week</th>\n",
       "      <td>70.374786</td>\n",
       "    </tr>\n",
       "    <tr>\n",
       "      <th>fnlwgt</th>\n",
       "      <th>age_log</th>\n",
       "      <td>69.299014</td>\n",
       "    </tr>\n",
       "    <tr>\n",
       "      <th>hours_per_week</th>\n",
       "      <th>capital_gain_net</th>\n",
       "      <td>64.635496</td>\n",
       "    </tr>\n",
       "    <tr>\n",
       "      <th rowspan=\"2\" valign=\"top\">age</th>\n",
       "      <th>capital_gain</th>\n",
       "      <td>59.194857</td>\n",
       "    </tr>\n",
       "    <tr>\n",
       "      <th>capital_loss</th>\n",
       "      <td>58.664838</td>\n",
       "    </tr>\n",
       "    <tr>\n",
       "      <th>fnlwgt</th>\n",
       "      <th>hours_per_week</th>\n",
       "      <td>53.974279</td>\n",
       "    </tr>\n",
       "    <tr>\n",
       "      <th rowspan=\"3\" valign=\"top\">age</th>\n",
       "      <th>capital_gain_net</th>\n",
       "      <td>53.572150</td>\n",
       "    </tr>\n",
       "    <tr>\n",
       "      <th>fnlwgt</th>\n",
       "      <td>46.016356</td>\n",
       "    </tr>\n",
       "    <tr>\n",
       "      <th>hours_per_week</th>\n",
       "      <td>41.515403</td>\n",
       "    </tr>\n",
       "    <tr>\n",
       "      <th>hours_per_week</th>\n",
       "      <th>age_log</th>\n",
       "      <td>41.069635</td>\n",
       "    </tr>\n",
       "    <tr>\n",
       "      <th>age</th>\n",
       "      <th>age_log</th>\n",
       "      <td>28.347531</td>\n",
       "    </tr>\n",
       "    <tr>\n",
       "      <th rowspan=\"2\" valign=\"top\">fnlwgt</th>\n",
       "      <th>capital_loss</th>\n",
       "      <td>26.913690</td>\n",
       "    </tr>\n",
       "    <tr>\n",
       "      <th>capital_gain</th>\n",
       "      <td>26.296293</td>\n",
       "    </tr>\n",
       "    <tr>\n",
       "      <th>capital_loss</th>\n",
       "      <th>capital_gain_net</th>\n",
       "      <td>21.679578</td>\n",
       "    </tr>\n",
       "    <tr>\n",
       "      <th>fnlwgt</th>\n",
       "      <th>capital_gain_net</th>\n",
       "      <td>21.479598</td>\n",
       "    </tr>\n",
       "    <tr>\n",
       "      <th rowspan=\"2\" valign=\"top\">capital_gain</th>\n",
       "      <th>capital_loss</th>\n",
       "      <td>20.875443</td>\n",
       "    </tr>\n",
       "    <tr>\n",
       "      <th>capital_gain_net</th>\n",
       "      <td>6.970974</td>\n",
       "    </tr>\n",
       "  </tbody>\n",
       "</table>\n",
       "</div>"
      ],
      "text/plain": [
       "                                 euclidean_distances\n",
       "feature_one    feature_two                          \n",
       "capital_gain   age_log                     84.872728\n",
       "capital_loss   age_log                     83.994809\n",
       "age_log        capital_gain_net            78.716478\n",
       "capital_gain   hours_per_week              71.171903\n",
       "capital_loss   hours_per_week              70.374786\n",
       "fnlwgt         age_log                     69.299014\n",
       "hours_per_week capital_gain_net            64.635496\n",
       "age            capital_gain                59.194857\n",
       "               capital_loss                58.664838\n",
       "fnlwgt         hours_per_week              53.974279\n",
       "age            capital_gain_net            53.572150\n",
       "               fnlwgt                      46.016356\n",
       "               hours_per_week              41.515403\n",
       "hours_per_week age_log                     41.069635\n",
       "age            age_log                     28.347531\n",
       "fnlwgt         capital_loss                26.913690\n",
       "               capital_gain                26.296293\n",
       "capital_loss   capital_gain_net            21.679578\n",
       "fnlwgt         capital_gain_net            21.479598\n",
       "capital_gain   capital_loss                20.875443\n",
       "               capital_gain_net             6.970974"
      ]
     },
     "execution_count": 115,
     "metadata": {},
     "output_type": "execute_result"
    }
   ],
   "source": [
    "euclideans"
   ]
  },
  {
   "cell_type": "code",
   "execution_count": 116,
   "metadata": {
    "scrolled": true
   },
   "outputs": [
    {
     "data": {
      "text/html": [
       "<div>\n",
       "<style scoped>\n",
       "    .dataframe tbody tr th:only-of-type {\n",
       "        vertical-align: middle;\n",
       "    }\n",
       "\n",
       "    .dataframe tbody tr th {\n",
       "        vertical-align: top;\n",
       "    }\n",
       "\n",
       "    .dataframe thead th {\n",
       "        text-align: right;\n",
       "    }\n",
       "</style>\n",
       "<table border=\"1\" class=\"dataframe\">\n",
       "  <thead>\n",
       "    <tr style=\"text-align: right;\">\n",
       "      <th></th>\n",
       "      <th>euclidean_distances</th>\n",
       "    </tr>\n",
       "  </thead>\n",
       "  <tbody>\n",
       "    <tr>\n",
       "      <th>count</th>\n",
       "      <td>21.000000</td>\n",
       "    </tr>\n",
       "    <tr>\n",
       "      <th>mean</th>\n",
       "      <td>49.030278</td>\n",
       "    </tr>\n",
       "    <tr>\n",
       "      <th>std</th>\n",
       "      <td>23.303790</td>\n",
       "    </tr>\n",
       "    <tr>\n",
       "      <th>min</th>\n",
       "      <td>6.970974</td>\n",
       "    </tr>\n",
       "    <tr>\n",
       "      <th>25%</th>\n",
       "      <td>26.913690</td>\n",
       "    </tr>\n",
       "    <tr>\n",
       "      <th>50%</th>\n",
       "      <td>53.572150</td>\n",
       "    </tr>\n",
       "    <tr>\n",
       "      <th>75%</th>\n",
       "      <td>69.299014</td>\n",
       "    </tr>\n",
       "    <tr>\n",
       "      <th>max</th>\n",
       "      <td>84.872728</td>\n",
       "    </tr>\n",
       "  </tbody>\n",
       "</table>\n",
       "</div>"
      ],
      "text/plain": [
       "       euclidean_distances\n",
       "count            21.000000\n",
       "mean             49.030278\n",
       "std              23.303790\n",
       "min               6.970974\n",
       "25%              26.913690\n",
       "50%              53.572150\n",
       "75%              69.299014\n",
       "max              84.872728"
      ]
     },
     "execution_count": 116,
     "metadata": {},
     "output_type": "execute_result"
    }
   ],
   "source": [
    "euclideans.describe()"
   ]
  },
  {
   "cell_type": "markdown",
   "metadata": {},
   "source": [
    "There are diffrent approaches we could take in deciding what is too small:\n",
    "- pick some statistic (e.g. the `mean`, or the `25th percentile`) and use that as a cutoff\n",
    "- create a histogram, and look for upper bound of the first \"chunk\"\n",
    "- look at the data and take a more heuristic approach\n",
    "\n",
    "I'm going to start by cutting a little above the mean and looking at everything below that value:"
   ]
  },
  {
   "cell_type": "code",
   "execution_count": 117,
   "metadata": {},
   "outputs": [
    {
     "data": {
      "text/html": [
       "<div>\n",
       "<style scoped>\n",
       "    .dataframe tbody tr th:only-of-type {\n",
       "        vertical-align: middle;\n",
       "    }\n",
       "\n",
       "    .dataframe tbody tr th {\n",
       "        vertical-align: top;\n",
       "    }\n",
       "\n",
       "    .dataframe thead th {\n",
       "        text-align: right;\n",
       "    }\n",
       "</style>\n",
       "<table border=\"1\" class=\"dataframe\">\n",
       "  <thead>\n",
       "    <tr style=\"text-align: right;\">\n",
       "      <th></th>\n",
       "      <th></th>\n",
       "      <th>euclidean_distances</th>\n",
       "    </tr>\n",
       "    <tr>\n",
       "      <th>feature_one</th>\n",
       "      <th>feature_two</th>\n",
       "      <th></th>\n",
       "    </tr>\n",
       "  </thead>\n",
       "  <tbody>\n",
       "    <tr>\n",
       "      <th rowspan=\"2\" valign=\"top\">age</th>\n",
       "      <th>capital_gain</th>\n",
       "      <td>59.194857</td>\n",
       "    </tr>\n",
       "    <tr>\n",
       "      <th>capital_loss</th>\n",
       "      <td>58.664838</td>\n",
       "    </tr>\n",
       "    <tr>\n",
       "      <th>fnlwgt</th>\n",
       "      <th>hours_per_week</th>\n",
       "      <td>53.974279</td>\n",
       "    </tr>\n",
       "    <tr>\n",
       "      <th rowspan=\"3\" valign=\"top\">age</th>\n",
       "      <th>capital_gain_net</th>\n",
       "      <td>53.572150</td>\n",
       "    </tr>\n",
       "    <tr>\n",
       "      <th>fnlwgt</th>\n",
       "      <td>46.016356</td>\n",
       "    </tr>\n",
       "    <tr>\n",
       "      <th>hours_per_week</th>\n",
       "      <td>41.515403</td>\n",
       "    </tr>\n",
       "    <tr>\n",
       "      <th>hours_per_week</th>\n",
       "      <th>age_log</th>\n",
       "      <td>41.069635</td>\n",
       "    </tr>\n",
       "    <tr>\n",
       "      <th>age</th>\n",
       "      <th>age_log</th>\n",
       "      <td>28.347531</td>\n",
       "    </tr>\n",
       "    <tr>\n",
       "      <th rowspan=\"2\" valign=\"top\">fnlwgt</th>\n",
       "      <th>capital_loss</th>\n",
       "      <td>26.913690</td>\n",
       "    </tr>\n",
       "    <tr>\n",
       "      <th>capital_gain</th>\n",
       "      <td>26.296293</td>\n",
       "    </tr>\n",
       "    <tr>\n",
       "      <th>capital_loss</th>\n",
       "      <th>capital_gain_net</th>\n",
       "      <td>21.679578</td>\n",
       "    </tr>\n",
       "    <tr>\n",
       "      <th>fnlwgt</th>\n",
       "      <th>capital_gain_net</th>\n",
       "      <td>21.479598</td>\n",
       "    </tr>\n",
       "    <tr>\n",
       "      <th rowspan=\"2\" valign=\"top\">capital_gain</th>\n",
       "      <th>capital_loss</th>\n",
       "      <td>20.875443</td>\n",
       "    </tr>\n",
       "    <tr>\n",
       "      <th>capital_gain_net</th>\n",
       "      <td>6.970974</td>\n",
       "    </tr>\n",
       "  </tbody>\n",
       "</table>\n",
       "</div>"
      ],
      "text/plain": [
       "                                 euclidean_distances\n",
       "feature_one    feature_two                          \n",
       "age            capital_gain                59.194857\n",
       "               capital_loss                58.664838\n",
       "fnlwgt         hours_per_week              53.974279\n",
       "age            capital_gain_net            53.572150\n",
       "               fnlwgt                      46.016356\n",
       "               hours_per_week              41.515403\n",
       "hours_per_week age_log                     41.069635\n",
       "age            age_log                     28.347531\n",
       "fnlwgt         capital_loss                26.913690\n",
       "               capital_gain                26.296293\n",
       "capital_loss   capital_gain_net            21.679578\n",
       "fnlwgt         capital_gain_net            21.479598\n",
       "capital_gain   capital_loss                20.875443\n",
       "               capital_gain_net             6.970974"
      ]
     },
     "execution_count": 117,
     "metadata": {},
     "output_type": "execute_result"
    }
   ],
   "source": [
    "euclideans[euclideans.euclidean_distances < 60]"
   ]
  },
  {
   "cell_type": "markdown",
   "metadata": {},
   "source": [
    "There are a couple of places that might make for a good cutoff point. Let's get a nice, pairwise view of everything under 50:"
   ]
  },
  {
   "cell_type": "code",
   "execution_count": 118,
   "metadata": {},
   "outputs": [
    {
     "data": {
      "text/plain": [
       "[('age', 'fnlwgt'),\n",
       " ('age', 'hours_per_week'),\n",
       " ('hours_per_week', 'age_log'),\n",
       " ('age', 'age_log'),\n",
       " ('fnlwgt', 'capital_loss'),\n",
       " ('fnlwgt', 'capital_gain'),\n",
       " ('capital_loss', 'capital_gain_net'),\n",
       " ('fnlwgt', 'capital_gain_net'),\n",
       " ('capital_gain', 'capital_loss'),\n",
       " ('capital_gain', 'capital_gain_net')]"
      ]
     },
     "execution_count": 118,
     "metadata": {},
     "output_type": "execute_result"
    }
   ],
   "source": [
    "list(euclideans[euclideans.euclidean_distances < 50].index)"
   ]
  },
  {
   "cell_type": "markdown",
   "metadata": {},
   "source": [
    "There exist some more automated mechanisms we could use for choosing a cutoff point. But, based on the above analysis, I'd definitely consider killing:\n",
    "- `capital_gain`\n",
    "- `capital_loss`\n",
    "- either `age` or `age_log`\n",
    "- the boolean re-representations of `capital_loss`\n",
    "- `fnlwgt`\n",
    "\n",
    "`fnlwgt` is a statistical demographic measure that the government calculates, so it obviously shows up as related to a number of features. It seems close enough to `capital_gain_net` that I would kill it for now, especially since we don't really know what it is.\n",
    "\n",
    "We can always add these columns back in later. (Let's preserve a copy with all columns before we start eliminating anything.)"
   ]
  },
  {
   "cell_type": "code",
   "execution_count": 119,
   "metadata": {},
   "outputs": [],
   "source": [
    "table_train_copy = table_train.copy()"
   ]
  },
  {
   "cell_type": "code",
   "execution_count": 120,
   "metadata": {},
   "outputs": [],
   "source": [
    "table_train = table_train.drop([\"capital_gain\", \"capital_loss\", \"age_log\", \"fnlwgt\"], axis=1)"
   ]
  },
  {
   "cell_type": "code",
   "execution_count": 121,
   "metadata": {},
   "outputs": [
    {
     "data": {
      "text/plain": [
       "(29283, 11)"
      ]
     },
     "execution_count": 121,
     "metadata": {},
     "output_type": "execute_result"
    }
   ],
   "source": [
    "table_train.shape"
   ]
  },
  {
   "cell_type": "markdown",
   "metadata": {},
   "source": [
    "Now, why would one choose Euclidean distance to help with finding and eliminating redundant features? For one, the concept of \"distance\" works well when you have a combination of numeric and categorical data (as we do) and you're looking for a one-stop shop for eliminating redundant features.\n",
    "\n",
    "Correlation is maybe a more commonly used measure, and it makes for a great fit for measuring the relatedness of numeric data. For categorical data, correlation doesn't really fit - even when categorical data does have a \"direction\" (e.g. `education_num` in our data) it might lack a proper sense of \"magnitude\" and what correlation measures is of course the strength _and_ direction of a relationship.\n",
    "\n",
    "That said, let's work through how we would use correlation to eliminate certain features, as this could make for a good exercise:"
   ]
  },
  {
   "cell_type": "code",
   "execution_count": 122,
   "metadata": {},
   "outputs": [],
   "source": [
    "corrs = table_train_copy.corr()"
   ]
  },
  {
   "cell_type": "code",
   "execution_count": 123,
   "metadata": {},
   "outputs": [
    {
     "data": {
      "text/html": [
       "<div>\n",
       "<style scoped>\n",
       "    .dataframe tbody tr th:only-of-type {\n",
       "        vertical-align: middle;\n",
       "    }\n",
       "\n",
       "    .dataframe tbody tr th {\n",
       "        vertical-align: top;\n",
       "    }\n",
       "\n",
       "    .dataframe thead th {\n",
       "        text-align: right;\n",
       "    }\n",
       "</style>\n",
       "<table border=\"1\" class=\"dataframe\">\n",
       "  <thead>\n",
       "    <tr style=\"text-align: right;\">\n",
       "      <th></th>\n",
       "      <th>age</th>\n",
       "      <th>fnlwgt</th>\n",
       "      <th>capital_gain</th>\n",
       "      <th>capital_loss</th>\n",
       "      <th>hours_per_week</th>\n",
       "      <th>age_log</th>\n",
       "      <th>capital_gain_net</th>\n",
       "    </tr>\n",
       "  </thead>\n",
       "  <tbody>\n",
       "    <tr>\n",
       "      <th>age</th>\n",
       "      <td>1.000000</td>\n",
       "      <td>-0.075381</td>\n",
       "      <td>0.076077</td>\n",
       "      <td>0.060630</td>\n",
       "      <td>0.069258</td>\n",
       "      <td>0.980162</td>\n",
       "      <td>0.072609</td>\n",
       "    </tr>\n",
       "    <tr>\n",
       "      <th>fnlwgt</th>\n",
       "      <td>-0.075381</td>\n",
       "      <td>1.000000</td>\n",
       "      <td>0.001891</td>\n",
       "      <td>-0.011020</td>\n",
       "      <td>-0.020190</td>\n",
       "      <td>-0.073325</td>\n",
       "      <td>0.002472</td>\n",
       "    </tr>\n",
       "    <tr>\n",
       "      <th>capital_gain</th>\n",
       "      <td>0.076077</td>\n",
       "      <td>0.001891</td>\n",
       "      <td>1.000000</td>\n",
       "      <td>-0.031788</td>\n",
       "      <td>0.079022</td>\n",
       "      <td>0.080367</td>\n",
       "      <td>0.998581</td>\n",
       "    </tr>\n",
       "    <tr>\n",
       "      <th>capital_loss</th>\n",
       "      <td>0.060630</td>\n",
       "      <td>-0.011020</td>\n",
       "      <td>-0.031788</td>\n",
       "      <td>1.000000</td>\n",
       "      <td>0.053516</td>\n",
       "      <td>0.065949</td>\n",
       "      <td>-0.084976</td>\n",
       "    </tr>\n",
       "    <tr>\n",
       "      <th>hours_per_week</th>\n",
       "      <td>0.069258</td>\n",
       "      <td>-0.020190</td>\n",
       "      <td>0.079022</td>\n",
       "      <td>0.053516</td>\n",
       "      <td>1.000000</td>\n",
       "      <td>0.141692</td>\n",
       "      <td>0.075925</td>\n",
       "    </tr>\n",
       "    <tr>\n",
       "      <th>age_log</th>\n",
       "      <td>0.980162</td>\n",
       "      <td>-0.073325</td>\n",
       "      <td>0.080367</td>\n",
       "      <td>0.065949</td>\n",
       "      <td>0.141692</td>\n",
       "      <td>1.000000</td>\n",
       "      <td>0.076603</td>\n",
       "    </tr>\n",
       "    <tr>\n",
       "      <th>capital_gain_net</th>\n",
       "      <td>0.072609</td>\n",
       "      <td>0.002472</td>\n",
       "      <td>0.998581</td>\n",
       "      <td>-0.084976</td>\n",
       "      <td>0.075925</td>\n",
       "      <td>0.076603</td>\n",
       "      <td>1.000000</td>\n",
       "    </tr>\n",
       "  </tbody>\n",
       "</table>\n",
       "</div>"
      ],
      "text/plain": [
       "                       age    fnlwgt  capital_gain  capital_loss  \\\n",
       "age               1.000000 -0.075381      0.076077      0.060630   \n",
       "fnlwgt           -0.075381  1.000000      0.001891     -0.011020   \n",
       "capital_gain      0.076077  0.001891      1.000000     -0.031788   \n",
       "capital_loss      0.060630 -0.011020     -0.031788      1.000000   \n",
       "hours_per_week    0.069258 -0.020190      0.079022      0.053516   \n",
       "age_log           0.980162 -0.073325      0.080367      0.065949   \n",
       "capital_gain_net  0.072609  0.002472      0.998581     -0.084976   \n",
       "\n",
       "                  hours_per_week   age_log  capital_gain_net  \n",
       "age                     0.069258  0.980162          0.072609  \n",
       "fnlwgt                 -0.020190 -0.073325          0.002472  \n",
       "capital_gain            0.079022  0.080367          0.998581  \n",
       "capital_loss            0.053516  0.065949         -0.084976  \n",
       "hours_per_week          1.000000  0.141692          0.075925  \n",
       "age_log                 0.141692  1.000000          0.076603  \n",
       "capital_gain_net        0.075925  0.076603          1.000000  "
      ]
     },
     "execution_count": 123,
     "metadata": {},
     "output_type": "execute_result"
    }
   ],
   "source": [
    "corrs"
   ]
  },
  {
   "cell_type": "markdown",
   "metadata": {},
   "source": [
    "The correlation matrix above obviously contains redundant information, so let's grab a distinct set of correlation values, which we can achieve through some `numpy` magic. Let's get a representation of our row indices:"
   ]
  },
  {
   "cell_type": "code",
   "execution_count": 124,
   "metadata": {},
   "outputs": [],
   "source": [
    "corr_rows = np.arange(corrs.shape[0])[:,None] "
   ]
  },
  {
   "cell_type": "code",
   "execution_count": 125,
   "metadata": {},
   "outputs": [
    {
     "data": {
      "text/plain": [
       "array([[0],\n",
       "       [1],\n",
       "       [2],\n",
       "       [3],\n",
       "       [4],\n",
       "       [5],\n",
       "       [6]])"
      ]
     },
     "execution_count": 125,
     "metadata": {},
     "output_type": "execute_result"
    }
   ],
   "source": [
    "corr_rows"
   ]
  },
  {
   "cell_type": "markdown",
   "metadata": {},
   "source": [
    "Now, let's get a representation of our column indices:"
   ]
  },
  {
   "cell_type": "code",
   "execution_count": 126,
   "metadata": {},
   "outputs": [],
   "source": [
    "corr_cols = np.arange(corrs.shape[1])"
   ]
  },
  {
   "cell_type": "code",
   "execution_count": 127,
   "metadata": {},
   "outputs": [
    {
     "data": {
      "text/plain": [
       "array([0, 1, 2, 3, 4, 5, 6])"
      ]
     },
     "execution_count": 127,
     "metadata": {},
     "output_type": "execute_result"
    }
   ],
   "source": [
    "corr_cols"
   ]
  },
  {
   "cell_type": "markdown",
   "metadata": {},
   "source": [
    "Now, we can create a boolean mask (as we've done above with thing like `table.duplicated()` or `table.age > 30`) through checking to see whether each value in `corr_rows` is greater than the corresponding value in `corr_cols`.\n",
    "\n",
    "This mask will select only the *lower triangle* (so redundant values above are eliminated) and even further will not select the diagonal of the matrix. You'll see, shortly, why that's important.\n",
    "\n",
    "Based on how we've set this up, `numpy` will automatically blow this out into a matrix represenation:"
   ]
  },
  {
   "cell_type": "code",
   "execution_count": 128,
   "metadata": {},
   "outputs": [],
   "source": [
    "corr_mask = corr_rows <= corr_cols"
   ]
  },
  {
   "cell_type": "code",
   "execution_count": 129,
   "metadata": {
    "scrolled": true
   },
   "outputs": [
    {
     "data": {
      "text/plain": [
       "array([[ True,  True,  True,  True,  True,  True,  True],\n",
       "       [False,  True,  True,  True,  True,  True,  True],\n",
       "       [False, False,  True,  True,  True,  True,  True],\n",
       "       [False, False, False,  True,  True,  True,  True],\n",
       "       [False, False, False, False,  True,  True,  True],\n",
       "       [False, False, False, False, False,  True,  True],\n",
       "       [False, False, False, False, False, False,  True]])"
      ]
     },
     "execution_count": 129,
     "metadata": {},
     "output_type": "execute_result"
    }
   ],
   "source": [
    "corr_mask"
   ]
  },
  {
   "cell_type": "markdown",
   "metadata": {},
   "source": [
    "Now, why do we have `False` in the area that (as per the above description) we actually want to select? To be honest, I can't give you a great answer here, but this representation will get us to where we want to be."
   ]
  },
  {
   "cell_type": "code",
   "execution_count": 130,
   "metadata": {
    "scrolled": true
   },
   "outputs": [
    {
     "data": {
      "text/plain": [
       "(7, 7)"
      ]
     },
     "execution_count": 130,
     "metadata": {},
     "output_type": "execute_result"
    }
   ],
   "source": [
    "corr_mask.shape"
   ]
  },
  {
   "cell_type": "code",
   "execution_count": 131,
   "metadata": {
    "scrolled": true
   },
   "outputs": [],
   "source": [
    "corrs_unique = corrs.mask(corr_mask)"
   ]
  },
  {
   "cell_type": "code",
   "execution_count": 132,
   "metadata": {},
   "outputs": [
    {
     "data": {
      "text/html": [
       "<div>\n",
       "<style scoped>\n",
       "    .dataframe tbody tr th:only-of-type {\n",
       "        vertical-align: middle;\n",
       "    }\n",
       "\n",
       "    .dataframe tbody tr th {\n",
       "        vertical-align: top;\n",
       "    }\n",
       "\n",
       "    .dataframe thead th {\n",
       "        text-align: right;\n",
       "    }\n",
       "</style>\n",
       "<table border=\"1\" class=\"dataframe\">\n",
       "  <thead>\n",
       "    <tr style=\"text-align: right;\">\n",
       "      <th></th>\n",
       "      <th>age</th>\n",
       "      <th>fnlwgt</th>\n",
       "      <th>capital_gain</th>\n",
       "      <th>capital_loss</th>\n",
       "      <th>hours_per_week</th>\n",
       "      <th>age_log</th>\n",
       "      <th>capital_gain_net</th>\n",
       "    </tr>\n",
       "  </thead>\n",
       "  <tbody>\n",
       "    <tr>\n",
       "      <th>age</th>\n",
       "      <td>NaN</td>\n",
       "      <td>NaN</td>\n",
       "      <td>NaN</td>\n",
       "      <td>NaN</td>\n",
       "      <td>NaN</td>\n",
       "      <td>NaN</td>\n",
       "      <td>NaN</td>\n",
       "    </tr>\n",
       "    <tr>\n",
       "      <th>fnlwgt</th>\n",
       "      <td>-0.075381</td>\n",
       "      <td>NaN</td>\n",
       "      <td>NaN</td>\n",
       "      <td>NaN</td>\n",
       "      <td>NaN</td>\n",
       "      <td>NaN</td>\n",
       "      <td>NaN</td>\n",
       "    </tr>\n",
       "    <tr>\n",
       "      <th>capital_gain</th>\n",
       "      <td>0.076077</td>\n",
       "      <td>0.001891</td>\n",
       "      <td>NaN</td>\n",
       "      <td>NaN</td>\n",
       "      <td>NaN</td>\n",
       "      <td>NaN</td>\n",
       "      <td>NaN</td>\n",
       "    </tr>\n",
       "    <tr>\n",
       "      <th>capital_loss</th>\n",
       "      <td>0.060630</td>\n",
       "      <td>-0.011020</td>\n",
       "      <td>-0.031788</td>\n",
       "      <td>NaN</td>\n",
       "      <td>NaN</td>\n",
       "      <td>NaN</td>\n",
       "      <td>NaN</td>\n",
       "    </tr>\n",
       "    <tr>\n",
       "      <th>hours_per_week</th>\n",
       "      <td>0.069258</td>\n",
       "      <td>-0.020190</td>\n",
       "      <td>0.079022</td>\n",
       "      <td>0.053516</td>\n",
       "      <td>NaN</td>\n",
       "      <td>NaN</td>\n",
       "      <td>NaN</td>\n",
       "    </tr>\n",
       "    <tr>\n",
       "      <th>age_log</th>\n",
       "      <td>0.980162</td>\n",
       "      <td>-0.073325</td>\n",
       "      <td>0.080367</td>\n",
       "      <td>0.065949</td>\n",
       "      <td>0.141692</td>\n",
       "      <td>NaN</td>\n",
       "      <td>NaN</td>\n",
       "    </tr>\n",
       "    <tr>\n",
       "      <th>capital_gain_net</th>\n",
       "      <td>0.072609</td>\n",
       "      <td>0.002472</td>\n",
       "      <td>0.998581</td>\n",
       "      <td>-0.084976</td>\n",
       "      <td>0.075925</td>\n",
       "      <td>0.076603</td>\n",
       "      <td>NaN</td>\n",
       "    </tr>\n",
       "  </tbody>\n",
       "</table>\n",
       "</div>"
      ],
      "text/plain": [
       "                       age    fnlwgt  capital_gain  capital_loss  \\\n",
       "age                    NaN       NaN           NaN           NaN   \n",
       "fnlwgt           -0.075381       NaN           NaN           NaN   \n",
       "capital_gain      0.076077  0.001891           NaN           NaN   \n",
       "capital_loss      0.060630 -0.011020     -0.031788           NaN   \n",
       "hours_per_week    0.069258 -0.020190      0.079022      0.053516   \n",
       "age_log           0.980162 -0.073325      0.080367      0.065949   \n",
       "capital_gain_net  0.072609  0.002472      0.998581     -0.084976   \n",
       "\n",
       "                  hours_per_week   age_log  capital_gain_net  \n",
       "age                          NaN       NaN               NaN  \n",
       "fnlwgt                       NaN       NaN               NaN  \n",
       "capital_gain                 NaN       NaN               NaN  \n",
       "capital_loss                 NaN       NaN               NaN  \n",
       "hours_per_week               NaN       NaN               NaN  \n",
       "age_log                 0.141692       NaN               NaN  \n",
       "capital_gain_net        0.075925  0.076603               NaN  "
      ]
     },
     "execution_count": 132,
     "metadata": {},
     "output_type": "execute_result"
    }
   ],
   "source": [
    "corrs_unique"
   ]
  },
  {
   "cell_type": "markdown",
   "metadata": {},
   "source": [
    "Now we have a correlation matrix with no redeundant values and no diagonal. Why? So that we can get an ordered view that allows us to remove the most-correlated features."
   ]
  },
  {
   "cell_type": "code",
   "execution_count": 133,
   "metadata": {
    "scrolled": true
   },
   "outputs": [
    {
     "data": {
      "text/html": [
       "<div>\n",
       "<style scoped>\n",
       "    .dataframe tbody tr th:only-of-type {\n",
       "        vertical-align: middle;\n",
       "    }\n",
       "\n",
       "    .dataframe tbody tr th {\n",
       "        vertical-align: top;\n",
       "    }\n",
       "\n",
       "    .dataframe thead th {\n",
       "        text-align: right;\n",
       "    }\n",
       "</style>\n",
       "<table border=\"1\" class=\"dataframe\">\n",
       "  <thead>\n",
       "    <tr style=\"text-align: right;\">\n",
       "      <th></th>\n",
       "      <th></th>\n",
       "      <th>correlation</th>\n",
       "    </tr>\n",
       "  </thead>\n",
       "  <tbody>\n",
       "    <tr>\n",
       "      <th>capital_gain</th>\n",
       "      <th>capital_gain_net</th>\n",
       "      <td>0.998581</td>\n",
       "    </tr>\n",
       "    <tr>\n",
       "      <th>age</th>\n",
       "      <th>age_log</th>\n",
       "      <td>0.980162</td>\n",
       "    </tr>\n",
       "    <tr>\n",
       "      <th>hours_per_week</th>\n",
       "      <th>age_log</th>\n",
       "      <td>0.141692</td>\n",
       "    </tr>\n",
       "    <tr>\n",
       "      <th>capital_loss</th>\n",
       "      <th>capital_gain_net</th>\n",
       "      <td>0.084976</td>\n",
       "    </tr>\n",
       "    <tr>\n",
       "      <th rowspan=\"2\" valign=\"top\">capital_gain</th>\n",
       "      <th>age_log</th>\n",
       "      <td>0.080367</td>\n",
       "    </tr>\n",
       "    <tr>\n",
       "      <th>hours_per_week</th>\n",
       "      <td>0.079022</td>\n",
       "    </tr>\n",
       "    <tr>\n",
       "      <th>age_log</th>\n",
       "      <th>capital_gain_net</th>\n",
       "      <td>0.076603</td>\n",
       "    </tr>\n",
       "    <tr>\n",
       "      <th>age</th>\n",
       "      <th>capital_gain</th>\n",
       "      <td>0.076077</td>\n",
       "    </tr>\n",
       "    <tr>\n",
       "      <th>hours_per_week</th>\n",
       "      <th>capital_gain_net</th>\n",
       "      <td>0.075925</td>\n",
       "    </tr>\n",
       "    <tr>\n",
       "      <th>age</th>\n",
       "      <th>fnlwgt</th>\n",
       "      <td>0.075381</td>\n",
       "    </tr>\n",
       "  </tbody>\n",
       "</table>\n",
       "</div>"
      ],
      "text/plain": [
       "                                 correlation\n",
       "capital_gain   capital_gain_net     0.998581\n",
       "age            age_log              0.980162\n",
       "hours_per_week age_log              0.141692\n",
       "capital_loss   capital_gain_net     0.084976\n",
       "capital_gain   age_log              0.080367\n",
       "               hours_per_week       0.079022\n",
       "age_log        capital_gain_net     0.076603\n",
       "age            capital_gain         0.076077\n",
       "hours_per_week capital_gain_net     0.075925\n",
       "age            fnlwgt               0.075381"
      ]
     },
     "execution_count": 133,
     "metadata": {},
     "output_type": "execute_result"
    }
   ],
   "source": [
    "corrs_unique.unstack().rename(\"correlation\").abs().to_frame().sort_values(\"correlation\", ascending=False).head(10)"
   ]
  },
  {
   "cell_type": "markdown",
   "metadata": {},
   "source": [
    "To compare this to the above Euclidean distance method, notice that our very-correlated features line up with what we'd already slated for removal. But, note that some features that we found to be \"close\" are not necessarily *correlated* - interesting, isn't it?\n",
    "\n",
    "Remember that when people say \"correlation\" they are generally referring to *Pearson's correlation coefficient* ([wikipedia](https://en.wikipedia.org/wiki/Correlation_and_dependence#Pearson's_product-moment_coefficient)). To understand how that works, let's first look at [covariance](https://en.wikipedia.org/wiki/Covariance):\n",
    "\n",
    "$$ cov(X, Y) = E[(X - E[X])(Y - E[Y])] $$\n",
    "\n",
    "In English, that's:\n",
    "1. take `X`, and subtract its mean from each of its value\n",
    "2. take `Y`, and subtract its mean from each of its value\n",
    "3. take the product of 1. and 2.\n",
    "4. take the mean of 3.\n",
    "\n",
    "Let's think about how that works ...\n",
    "\n",
    "If $X_{1} - E[X]$ is negative, but $Y_{1} - E[Y]$ is positive, the product of that will be negative. If they're both positive, the product is positive; same for if they're both negative. That's how \"direction\" plays in here. As for \"magnitude\", the bigger the difference between `X` and its mean tends to be, the bigger the *covariance* between X and anything else; ditto for `Y`.\n",
    "\n",
    "Finally, to get correlation from covariance, we scale by the product of the standard deviations of `X` and `Y`, which keeps the result between -1 and 1:\n",
    "\n",
    "$$ corr(X, Y) = \\frac {cov(X, Y)}{\\sigma_X \\sigma_Y}$$"
   ]
  },
  {
   "cell_type": "markdown",
   "metadata": {},
   "source": [
    "### Feature Selection\n",
    "\n",
    "Now, let's get into picking the _good_ features. \n",
    "\n",
    "To do this, we're going to need to do a little data prep. This data prep entails _one-hot_ (or *dummy*) encoding our `object` columns. \n",
    "\n",
    "What this entails is taking a single column of categorical data and converting it into a number of columns - as many columns as there are values for the categorical variable - of boolean data, with a each column representing a particular categorical value.\n",
    "\n",
    "Let's look at an example:"
   ]
  },
  {
   "cell_type": "code",
   "execution_count": 134,
   "metadata": {},
   "outputs": [
    {
     "data": {
      "text/plain": [
       "13222      Male\n",
       "19389      Male\n",
       "27346      Male\n",
       "816      Female\n",
       "31643      Male\n",
       "Name: sex, dtype: object"
      ]
     },
     "execution_count": 134,
     "metadata": {},
     "output_type": "execute_result"
    }
   ],
   "source": [
    "table_train.sex.head()"
   ]
  },
  {
   "cell_type": "code",
   "execution_count": 135,
   "metadata": {},
   "outputs": [
    {
     "data": {
      "text/html": [
       "<div>\n",
       "<style scoped>\n",
       "    .dataframe tbody tr th:only-of-type {\n",
       "        vertical-align: middle;\n",
       "    }\n",
       "\n",
       "    .dataframe tbody tr th {\n",
       "        vertical-align: top;\n",
       "    }\n",
       "\n",
       "    .dataframe thead th {\n",
       "        text-align: right;\n",
       "    }\n",
       "</style>\n",
       "<table border=\"1\" class=\"dataframe\">\n",
       "  <thead>\n",
       "    <tr style=\"text-align: right;\">\n",
       "      <th></th>\n",
       "      <th>Female</th>\n",
       "      <th>Male</th>\n",
       "    </tr>\n",
       "  </thead>\n",
       "  <tbody>\n",
       "    <tr>\n",
       "      <th>13222</th>\n",
       "      <td>0</td>\n",
       "      <td>1</td>\n",
       "    </tr>\n",
       "    <tr>\n",
       "      <th>19389</th>\n",
       "      <td>0</td>\n",
       "      <td>1</td>\n",
       "    </tr>\n",
       "    <tr>\n",
       "      <th>27346</th>\n",
       "      <td>0</td>\n",
       "      <td>1</td>\n",
       "    </tr>\n",
       "    <tr>\n",
       "      <th>816</th>\n",
       "      <td>1</td>\n",
       "      <td>0</td>\n",
       "    </tr>\n",
       "    <tr>\n",
       "      <th>31643</th>\n",
       "      <td>0</td>\n",
       "      <td>1</td>\n",
       "    </tr>\n",
       "  </tbody>\n",
       "</table>\n",
       "</div>"
      ],
      "text/plain": [
       "       Female  Male\n",
       "13222       0     1\n",
       "19389       0     1\n",
       "27346       0     1\n",
       "816         1     0\n",
       "31643       0     1"
      ]
     },
     "execution_count": 135,
     "metadata": {},
     "output_type": "execute_result"
    }
   ],
   "source": [
    "pd.get_dummies(table_train.sex.head())"
   ]
  },
  {
   "cell_type": "markdown",
   "metadata": {},
   "source": [
    "So instead of five rows, each containing `\"Female`\" or `\"Male\"` we now have five rows, each containing a `1` in the `Male` and `0` in the `Female` column if `sex=\"Male\"`, or vice versa if  `sex=\"Female\"`.\n",
    "\n",
    "Note that there does not have to be mutual exclusivity between the columns that result from a one-hot encoding. If there _is_ mutual exlusivity, it is good practice to drop one of your resulting columns, lest you introduce some redundancy into your feature set. E.g. we wouldn't want to represent `over_fifty_k` with two columns `over_fifty_k` and `equal_to_or_under_fifty_k`, right?\n",
    "\n",
    "In this case, we're going to quickly iterate through each `object` column, perform the encoding, and drop one of the resulting columns. We're also going to prefix each of our resulting columns with the name of the column that the value originall came from, to avoid possible name collisions:"
   ]
  },
  {
   "cell_type": "code",
   "execution_count": 136,
   "metadata": {},
   "outputs": [],
   "source": [
    "_one_hots = [\n",
    "                pd.get_dummies(\n",
    "                    table_train[col],\n",
    "                    drop_first=True,\n",
    "                    prefix=col\n",
    "                )\n",
    "             for col in table_train.select_dtypes(include=object).columns]"
   ]
  },
  {
   "cell_type": "markdown",
   "metadata": {},
   "source": [
    "Now we have a list of `pd.DataFrame` objects - let's spot-check the first one:"
   ]
  },
  {
   "cell_type": "code",
   "execution_count": 137,
   "metadata": {},
   "outputs": [
    {
     "data": {
      "text/html": [
       "<div>\n",
       "<style scoped>\n",
       "    .dataframe tbody tr th:only-of-type {\n",
       "        vertical-align: middle;\n",
       "    }\n",
       "\n",
       "    .dataframe tbody tr th {\n",
       "        vertical-align: top;\n",
       "    }\n",
       "\n",
       "    .dataframe thead th {\n",
       "        text-align: right;\n",
       "    }\n",
       "</style>\n",
       "<table border=\"1\" class=\"dataframe\">\n",
       "  <thead>\n",
       "    <tr style=\"text-align: right;\">\n",
       "      <th></th>\n",
       "      <th>workclass_Federal-gov</th>\n",
       "      <th>workclass_Local-gov</th>\n",
       "      <th>workclass_Never-worked</th>\n",
       "    </tr>\n",
       "  </thead>\n",
       "  <tbody>\n",
       "    <tr>\n",
       "      <th>13222</th>\n",
       "      <td>0</td>\n",
       "      <td>0</td>\n",
       "      <td>0</td>\n",
       "    </tr>\n",
       "    <tr>\n",
       "      <th>19389</th>\n",
       "      <td>0</td>\n",
       "      <td>0</td>\n",
       "      <td>0</td>\n",
       "    </tr>\n",
       "    <tr>\n",
       "      <th>27346</th>\n",
       "      <td>0</td>\n",
       "      <td>0</td>\n",
       "      <td>0</td>\n",
       "    </tr>\n",
       "  </tbody>\n",
       "</table>\n",
       "</div>"
      ],
      "text/plain": [
       "       workclass_Federal-gov  workclass_Local-gov  workclass_Never-worked\n",
       "13222                      0                    0                       0\n",
       "19389                      0                    0                       0\n",
       "27346                      0                    0                       0"
      ]
     },
     "execution_count": 137,
     "metadata": {},
     "output_type": "execute_result"
    }
   ],
   "source": [
    "_one_hots[0].iloc[:3, :3]"
   ]
  },
  {
   "cell_type": "markdown",
   "metadata": {},
   "source": [
    "How do we join these dataframes together? One way to do that is through joining the first to the rest:"
   ]
  },
  {
   "cell_type": "code",
   "execution_count": 138,
   "metadata": {},
   "outputs": [],
   "source": [
    "one_hot_df = _one_hots[0].join(_one_hots[1:])"
   ]
  },
  {
   "cell_type": "code",
   "execution_count": 139,
   "metadata": {},
   "outputs": [
    {
     "data": {
      "text/plain": [
       "(29283, 94)"
      ]
     },
     "execution_count": 139,
     "metadata": {},
     "output_type": "execute_result"
    }
   ],
   "source": [
    "one_hot_df.shape"
   ]
  },
  {
   "cell_type": "code",
   "execution_count": 140,
   "metadata": {},
   "outputs": [
    {
     "data": {
      "text/html": [
       "<div>\n",
       "<style scoped>\n",
       "    .dataframe tbody tr th:only-of-type {\n",
       "        vertical-align: middle;\n",
       "    }\n",
       "\n",
       "    .dataframe tbody tr th {\n",
       "        vertical-align: top;\n",
       "    }\n",
       "\n",
       "    .dataframe thead th {\n",
       "        text-align: right;\n",
       "    }\n",
       "</style>\n",
       "<table border=\"1\" class=\"dataframe\">\n",
       "  <thead>\n",
       "    <tr style=\"text-align: right;\">\n",
       "      <th></th>\n",
       "      <th>workclass_Federal-gov</th>\n",
       "      <th>workclass_Local-gov</th>\n",
       "      <th>workclass_Never-worked</th>\n",
       "      <th>workclass_Private</th>\n",
       "      <th>workclass_Self-emp-inc</th>\n",
       "    </tr>\n",
       "  </thead>\n",
       "  <tbody>\n",
       "    <tr>\n",
       "      <th>13222</th>\n",
       "      <td>0</td>\n",
       "      <td>0</td>\n",
       "      <td>0</td>\n",
       "      <td>1</td>\n",
       "      <td>0</td>\n",
       "    </tr>\n",
       "    <tr>\n",
       "      <th>19389</th>\n",
       "      <td>0</td>\n",
       "      <td>0</td>\n",
       "      <td>0</td>\n",
       "      <td>1</td>\n",
       "      <td>0</td>\n",
       "    </tr>\n",
       "    <tr>\n",
       "      <th>27346</th>\n",
       "      <td>0</td>\n",
       "      <td>0</td>\n",
       "      <td>0</td>\n",
       "      <td>1</td>\n",
       "      <td>0</td>\n",
       "    </tr>\n",
       "    <tr>\n",
       "      <th>816</th>\n",
       "      <td>0</td>\n",
       "      <td>0</td>\n",
       "      <td>0</td>\n",
       "      <td>1</td>\n",
       "      <td>0</td>\n",
       "    </tr>\n",
       "    <tr>\n",
       "      <th>31643</th>\n",
       "      <td>0</td>\n",
       "      <td>0</td>\n",
       "      <td>0</td>\n",
       "      <td>0</td>\n",
       "      <td>0</td>\n",
       "    </tr>\n",
       "  </tbody>\n",
       "</table>\n",
       "</div>"
      ],
      "text/plain": [
       "       workclass_Federal-gov  workclass_Local-gov  workclass_Never-worked  \\\n",
       "13222                      0                    0                       0   \n",
       "19389                      0                    0                       0   \n",
       "27346                      0                    0                       0   \n",
       "816                        0                    0                       0   \n",
       "31643                      0                    0                       0   \n",
       "\n",
       "       workclass_Private  workclass_Self-emp-inc  \n",
       "13222                  1                       0  \n",
       "19389                  1                       0  \n",
       "27346                  1                       0  \n",
       "816                    1                       0  \n",
       "31643                  0                       0  "
      ]
     },
     "execution_count": 140,
     "metadata": {},
     "output_type": "execute_result"
    }
   ],
   "source": [
    "one_hot_df.iloc[:5, :5]"
   ]
  },
  {
   "cell_type": "markdown",
   "metadata": {},
   "source": [
    "Now we can create our `X` and `y` variables. For `X`, we'll join the one-hot columns to our numeric data: "
   ]
  },
  {
   "cell_type": "code",
   "execution_count": 141,
   "metadata": {},
   "outputs": [],
   "source": [
    "X = one_hot_df.join(table_train.select_dtypes(include=[int, float]))"
   ]
  },
  {
   "cell_type": "code",
   "execution_count": 142,
   "metadata": {},
   "outputs": [
    {
     "data": {
      "text/plain": [
       "(29283, 97)"
      ]
     },
     "execution_count": 142,
     "metadata": {},
     "output_type": "execute_result"
    }
   ],
   "source": [
    "X.shape"
   ]
  },
  {
   "cell_type": "code",
   "execution_count": 143,
   "metadata": {},
   "outputs": [
    {
     "data": {
      "text/plain": [
       "object    8\n",
       "int64     3\n",
       "dtype: int64"
      ]
     },
     "execution_count": 143,
     "metadata": {},
     "output_type": "execute_result"
    }
   ],
   "source": [
    "table_train.dtypes.value_counts()"
   ]
  },
  {
   "cell_type": "markdown",
   "metadata": {},
   "source": [
    "You can see that we have no more `object` columns:"
   ]
  },
  {
   "cell_type": "code",
   "execution_count": 144,
   "metadata": {
    "scrolled": false
   },
   "outputs": [
    {
     "data": {
      "text/plain": [
       "uint8    94\n",
       "int64     3\n",
       "dtype: int64"
      ]
     },
     "execution_count": 144,
     "metadata": {},
     "output_type": "execute_result"
    }
   ],
   "source": [
    "X.dtypes.value_counts()"
   ]
  },
  {
   "cell_type": "markdown",
   "metadata": {},
   "source": [
    "For `y` (which we typically lowercase to indicate that it is not a matrix but a vector), we don't have to do any prep:"
   ]
  },
  {
   "cell_type": "code",
   "execution_count": 145,
   "metadata": {},
   "outputs": [],
   "source": [
    "y = fifty_k_train"
   ]
  },
  {
   "cell_type": "markdown",
   "metadata": {},
   "source": [
    "Next, we're going to create a _Random Forest Classifier_. What's that mean? Let's break it down.\n",
    "\n",
    "--\n",
    "\n",
    "### Some Theory\n",
    "\n",
    "**Classification**\n",
    "\n",
    "For starters, a [classifier](https://en.wikipedia.org/wiki/Statistical_classification) is a model that predicts a class or label, as opposed to a numeric value - i.e. it's built for predicting categorical data. In this case, we're going to, for all intents, restrict our definitions to [binary classification](https://en.wikipedia.org/wiki/Binary_classification) (where our target, what we're predicting, can only take one of two values). \n",
    "\n",
    "**Decision Tree Learning**\n",
    "\n",
    "A _Decision Tree_ [is](https://en.wikipedia.org/wiki/Decision_tree_learning) a model that builds a series of rules, kind of like the game _twenty questions_. E.g is `age >= 15`? It typically does this repeatedly until it has created a number of *pure* (or close to it) \"leaves\" or terminal nodes such that each of these nodes strongly represents a particular class value. In more detail, we train a decision tree through, basically:\n",
    "- iterating through the available features and the available values for each of those features\n",
    "- evaluating the effectiveness of each of those feature values when it comes to splitting the data into groups that represent a particular class\n",
    "- selecting the most effective feature-value rule (e.g. `age >= 30`) or \"splitting rule\" and splitting the data based on that rule\n",
    "- we then apply the same process to each of the resultant groups (e.g. `age >= 30` and `age < 30`) and continue doing so until we have found our \"pure\" nodes\n",
    "\n",
    "What is a pure node? The idea is that, once our tree is built (i.e. trained), we can make a prediction through propagating a data point through the rules in the tree (e.g. `age >= 30`, `sex == Female`) until we've reached a partition of the data that, in our training, we found to be associated with one particular class. We then return the class associated with our final partition as our \"prediction.\"\n",
    "\n",
    "What's been described has been maybe a little bit simplified but should provide a good idea of the foundational concepts.\n",
    "\n",
    "**Splitting Rule Evaluation**\n",
    "\n",
    "Purity here refers to the distributional concentration of the data towards a particular class. Put differently, we can think about the probability of how often a randomly chosen item would be mislabeled, if all we had to go off was the class probabilities across the entirety of the given data. To calculate this number, we must account for the following:\n",
    "- probability of drawing a random item with a certain class label (let's call this `p`)\n",
    "- probability that this data will have come from another class (this is in fact `1 - p`)\n",
    "\n",
    "(this is of course assuming that a given data point can belong to exactly one class.) Since these two conditions are independent, we simply multiply them together, yielding:\n",
    "\n",
    "$$ p \\cdot (1 - p) $$\n",
    "\n",
    "and at a given node, we can sum this result across all classes to get what's called [Gini impurity](https://en.wikipedia.org/wiki/Decision_tree_learning#Gini_impurity), which provides a good measure for the effectiveness of a given splitting rule in partitioning the data according to its class labels. Now that we have a good measure for splitting rule effectiveness, we can choose our splitting rule such that it provides the greatest reduction in impurity from the previous node.\n",
    "\n",
    "Note that our impurity function is concave, with a maximum when class probabilities are equal, and a minimum when all except for one class's probabilities are zero. I.e. nodes are the least pure when they consist of an equal proportion for each class, and nodes are the purest when they contain only one class, and the more a rule leads us to more pure nodes, the better the rule.\n",
    "\n",
    "**Tree Depth**\n",
    "\n",
    "If we let a decision tree grow, uninhibited, until all of its leaves are pure, we will likely end up with a tree that has *overfit*, i.e. it is so tightly coupled to the data it was trained on that it won't generalize well. Thus, we will often implement something to prevent the tree from becoming too deep, through setting something like a specific number of levels that a tree can't exceed, or a minimum number of items that can end up in a leaf / terminal node.\n",
    "\n",
    "**Random Forest**\n",
    "\n",
    "So what's a *Random Forest*? The idea is that, in trying to prevent overfitting, we build a whole bunch of decision trees, such that each tree is a little bit different, and take the average across all these trees' votes to produce a prediction.\n",
    "\n",
    "In a little more detail, a [random forest](https://en.wikipedia.org/wiki/Random_forest) generally relies on the following procedures in order to ensure that there is *variance* across its trees' structures:\n",
    "- each tree is based off its own [bootstrap sample](https://en.wikipedia.org/wiki/Random_forest#Bagging), or random resampling with replacement, of the underlying data\n",
    "- a random subset of the available features will be used each time a new splitting rule is to be defined\n",
    "\n",
    "It's worth noting that random forests are models for which it is desirable to limit redundancy in features, as redundant features will limit the effectiveness of creating a number of different trees using random subsets of the feature space.\n",
    "\n",
    "--\n",
    "\n",
    "So, what are going to use a random forest for? We're actually going to build a machine learning model, and retrain it to different subsets of the feature space, and use feature contributions to help us determine what our most useful features are.\n",
    "\n",
    "We're going to set this forest to build 10 trees (in practice, it's good to use 100), and pass another argument for `class_weight`, which we'll get to in a bit:"
   ]
  },
  {
   "cell_type": "code",
   "execution_count": 146,
   "metadata": {},
   "outputs": [],
   "source": [
    "rf = RandomForestClassifier(n_estimators=10, class_weight=\"balanced\")"
   ]
  },
  {
   "cell_type": "markdown",
   "metadata": {},
   "source": [
    "Now, we'll use something called the *recursive feature eliminator* (`RFE`) to help us determine which features are worth keeping. In practice, [permutation importance](https://scikit-learn.org/stable/modules/permutation_importance.html) is the preferred method for this, but the `RFE` is kind of an intuitive and interesting trick to see.\n",
    "\n",
    "The way the `RFE` works is as follows:\n",
    "- we pass it a model to use (in our case, `rf`) as well as the number of features we're looking to keep (in our case, `10`)\n",
    "- then, we fit it to some data\n",
    "- from there, it will evaluate the effectiveness of each feature, and it will eliminate the least effective feature\n",
    "- it will then continue this process, [recursively](https://en.wikipedia.org/wiki/Recursion_(computer_science)) (hence its name), until the desired number of features remain\n",
    "\n",
    "How does it determine the effectiveness of each feature? It actually leans on the inputted model for that, and what the random forest uses is Gini impurity - it will look across each split in each of its trees, sum up the reductions to impurity, by feature, and return these results.\n",
    "\n",
    "Now, why is *permutation importance* preferred? Because relying on Gini to interpret features can lead to results that favor features with a high [cardinality](https://en.wikipedia.org/wiki/Cardinality). But, the interpretability of tree-based models is interesting and is worth learning about, and we'll work with that method here."
   ]
  },
  {
   "cell_type": "code",
   "execution_count": 147,
   "metadata": {},
   "outputs": [],
   "source": [
    "selector = RFE(rf, 10)"
   ]
  },
  {
   "cell_type": "code",
   "execution_count": 148,
   "metadata": {},
   "outputs": [
    {
     "data": {
      "text/plain": [
       "RFE(estimator=RandomForestClassifier(bootstrap=True, ccp_alpha=0.0,\n",
       "                                     class_weight='balanced', criterion='gini',\n",
       "                                     max_depth=None, max_features='auto',\n",
       "                                     max_leaf_nodes=None, max_samples=None,\n",
       "                                     min_impurity_decrease=0.0,\n",
       "                                     min_impurity_split=None,\n",
       "                                     min_samples_leaf=1, min_samples_split=2,\n",
       "                                     min_weight_fraction_leaf=0.0,\n",
       "                                     n_estimators=10, n_jobs=None,\n",
       "                                     oob_score=False, random_state=None,\n",
       "                                     verbose=0, warm_start=False),\n",
       "    n_features_to_select=10, step=1, verbose=0)"
      ]
     },
     "execution_count": 148,
     "metadata": {},
     "output_type": "execute_result"
    }
   ],
   "source": [
    "selector.fit(X, y)"
   ]
  },
  {
   "cell_type": "markdown",
   "metadata": {},
   "source": [
    "These are the top 10 columns that were selected:"
   ]
  },
  {
   "cell_type": "code",
   "execution_count": 149,
   "metadata": {
    "scrolled": true
   },
   "outputs": [
    {
     "data": {
      "text/plain": [
       "['age',\n",
       " 'capital_gain_net',\n",
       " 'education_Bachelors',\n",
       " 'education_HS-grad',\n",
       " 'hours_per_week',\n",
       " 'marital_status_Married-civ-spouse',\n",
       " 'marital_status_Never-married',\n",
       " 'occupation_Exec-managerial',\n",
       " 'occupation_Prof-specialty',\n",
       " 'sex_Male']"
      ]
     },
     "execution_count": 149,
     "metadata": {},
     "output_type": "execute_result"
    }
   ],
   "source": [
    "sorted(list(X.columns[selector.support_]))"
   ]
  },
  {
   "cell_type": "code",
   "execution_count": 150,
   "metadata": {
    "scrolled": true
   },
   "outputs": [],
   "source": [
    "good_cols = sorted(list(X.columns[selector.support_]))"
   ]
  },
  {
   "cell_type": "code",
   "execution_count": 151,
   "metadata": {},
   "outputs": [],
   "source": [
    "ranks = pd.DataFrame(\n",
    "    list(zip(X.columns, selector.ranking_)), \n",
    "    columns=[\"column_name\", \"rank_survived_until\"]\n",
    "                     ).sort_values(\"rank_survived_until\")"
   ]
  },
  {
   "cell_type": "markdown",
   "metadata": {},
   "source": [
    "Let's look at the 10 worst:"
   ]
  },
  {
   "cell_type": "code",
   "execution_count": 152,
   "metadata": {},
   "outputs": [
    {
     "data": {
      "text/html": [
       "<div>\n",
       "<style scoped>\n",
       "    .dataframe tbody tr th:only-of-type {\n",
       "        vertical-align: middle;\n",
       "    }\n",
       "\n",
       "    .dataframe tbody tr th {\n",
       "        vertical-align: top;\n",
       "    }\n",
       "\n",
       "    .dataframe thead th {\n",
       "        text-align: right;\n",
       "    }\n",
       "</style>\n",
       "<table border=\"1\" class=\"dataframe\">\n",
       "  <thead>\n",
       "    <tr style=\"text-align: right;\">\n",
       "      <th></th>\n",
       "      <th>column_name</th>\n",
       "      <th>rank_survived_until</th>\n",
       "    </tr>\n",
       "  </thead>\n",
       "  <tbody>\n",
       "    <tr>\n",
       "      <th>7</th>\n",
       "      <td>workclass_Without-pay</td>\n",
       "      <td>79</td>\n",
       "    </tr>\n",
       "    <tr>\n",
       "      <th>59</th>\n",
       "      <td>native_country_Ecuador</td>\n",
       "      <td>80</td>\n",
       "    </tr>\n",
       "    <tr>\n",
       "      <th>81</th>\n",
       "      <td>native_country_Peru</td>\n",
       "      <td>81</td>\n",
       "    </tr>\n",
       "    <tr>\n",
       "      <th>77</th>\n",
       "      <td>native_country_Laos</td>\n",
       "      <td>82</td>\n",
       "    </tr>\n",
       "    <tr>\n",
       "      <th>80</th>\n",
       "      <td>native_country_Outlying-US(Guam-USVI-etc)</td>\n",
       "      <td>83</td>\n",
       "    </tr>\n",
       "    <tr>\n",
       "      <th>89</th>\n",
       "      <td>native_country_Thailand</td>\n",
       "      <td>84</td>\n",
       "    </tr>\n",
       "    <tr>\n",
       "      <th>30</th>\n",
       "      <td>occupation_Armed-Forces</td>\n",
       "      <td>85</td>\n",
       "    </tr>\n",
       "    <tr>\n",
       "      <th>2</th>\n",
       "      <td>workclass_Never-worked</td>\n",
       "      <td>86</td>\n",
       "    </tr>\n",
       "    <tr>\n",
       "      <th>68</th>\n",
       "      <td>native_country_Honduras</td>\n",
       "      <td>87</td>\n",
       "    </tr>\n",
       "    <tr>\n",
       "      <th>67</th>\n",
       "      <td>native_country_Holand-Netherlands</td>\n",
       "      <td>88</td>\n",
       "    </tr>\n",
       "  </tbody>\n",
       "</table>\n",
       "</div>"
      ],
      "text/plain": [
       "                                  column_name  rank_survived_until\n",
       "7                       workclass_Without-pay                   79\n",
       "59                     native_country_Ecuador                   80\n",
       "81                        native_country_Peru                   81\n",
       "77                        native_country_Laos                   82\n",
       "80  native_country_Outlying-US(Guam-USVI-etc)                   83\n",
       "89                    native_country_Thailand                   84\n",
       "30                    occupation_Armed-Forces                   85\n",
       "2                      workclass_Never-worked                   86\n",
       "68                    native_country_Honduras                   87\n",
       "67          native_country_Holand-Netherlands                   88"
      ]
     },
     "execution_count": 152,
     "metadata": {},
     "output_type": "execute_result"
    }
   ],
   "source": [
    "ranks.iloc[-10:]"
   ]
  },
  {
   "cell_type": "markdown",
   "metadata": {},
   "source": [
    "Let's retain these particularly bad ones and drop them out of our data:"
   ]
  },
  {
   "cell_type": "code",
   "execution_count": 153,
   "metadata": {},
   "outputs": [],
   "source": [
    "crummy_features = ranks.iloc[-10:].column_name"
   ]
  },
  {
   "cell_type": "code",
   "execution_count": 154,
   "metadata": {},
   "outputs": [],
   "source": [
    "X = X.drop(crummy_features, axis=1)"
   ]
  },
  {
   "cell_type": "markdown",
   "metadata": {},
   "source": [
    "# 3. Machine Learning\n",
    "\n",
    "Let's build a model, and let's evaluate it (at least somewhat) properly."
   ]
  },
  {
   "cell_type": "markdown",
   "metadata": {},
   "source": [
    "### Class imblanace\n",
    "\n",
    "One thing I cannot stress enough is the need to keep in mind the balance of the classes in the data you have. For example, let's say I start with the following model, which will simply return `0` (i.e. `False`) for each row in the inputted `X`:"
   ]
  },
  {
   "cell_type": "code",
   "execution_count": 155,
   "metadata": {},
   "outputs": [],
   "source": [
    "def crummy_model(X):\n",
    "    return np.zeros((len(X),))"
   ]
  },
  {
   "cell_type": "code",
   "execution_count": 156,
   "metadata": {},
   "outputs": [],
   "source": [
    "y_pred = crummy_model(X)"
   ]
  },
  {
   "cell_type": "code",
   "execution_count": 157,
   "metadata": {
    "scrolled": true
   },
   "outputs": [
    {
     "data": {
      "text/plain": [
       "0.7590752313629068"
      ]
     },
     "execution_count": 157,
     "metadata": {},
     "output_type": "execute_result"
    }
   ],
   "source": [
    "accuracy_score(y, y_pred)"
   ]
  },
  {
   "cell_type": "markdown",
   "metadata": {},
   "source": [
    "What?! All we did we literally return 0 for every value! How is our accuracy so good?"
   ]
  },
  {
   "cell_type": "code",
   "execution_count": 158,
   "metadata": {
    "scrolled": true
   },
   "outputs": [
    {
     "data": {
      "text/plain": [
       "False    0.759075\n",
       "True     0.240925\n",
       "Name: over_fifty_k_bool, dtype: float64"
      ]
     },
     "execution_count": 158,
     "metadata": {},
     "output_type": "execute_result"
    }
   ],
   "source": [
    "y.value_counts(normalize=True)"
   ]
  },
  {
   "cell_type": "markdown",
   "metadata": {},
   "source": [
    "Wait a second ... that's a perfect match for the natural distribution of classes in the data. And now you've seen the danger of class imblanace - when you have more of one class than the other, if you just always pick the _majority_ class, you'll have a model that looks decent (at least if you are using \"accuracy\" to evaluate it).\n",
    "\n",
    "This is what the `class_weights` argument to our model is for - it tells the forest to build each tree based off a _class-balanced_ subset of the data."
   ]
  },
  {
   "cell_type": "markdown",
   "metadata": {},
   "source": [
    "### Scores\n",
    "\n",
    "So, how do protect ourselves, aside from setting the right model parameters, against falling into that sort of trap?\n",
    "\n",
    "The above example showed that accuracy, though a nice thumb-in-the-air sort of metric, and also a metric that lots of managers will enjoy discussing, can be pretty dangerous to use. There are better scores, for sure, but one thing you can always do with your prediction results is *look* at them, rather than just rolling them up into a score.\n",
    "\n",
    "Enter the [confusion matrix](https://scikit-learn.org/stable/modules/generated/sklearn.metrics.confusion_matrix.html), whose rows represent the actual class value and whose columns represent the predicted class value. `sklearn` implements this for us, and we will wrap their function to better format the results:"
   ]
  },
  {
   "cell_type": "code",
   "execution_count": 159,
   "metadata": {},
   "outputs": [],
   "source": [
    "def get_confusion(y, y_pred):\n",
    "    # with score functions, especially in sklearn, we always pass y or y_true and then y_pred\n",
    "    matrix = confusion_matrix(y, y_pred)\n",
    "    \n",
    "    df = pd.DataFrame(matrix,\n",
    "                     index=[\"negative_actual\", \"positive_actual\"],\n",
    "                     columns=[\"negative_predicted\", \"positive_predicted\"])\n",
    "    \n",
    "    return df"
   ]
  },
  {
   "cell_type": "code",
   "execution_count": 160,
   "metadata": {
    "scrolled": false
   },
   "outputs": [
    {
     "data": {
      "text/html": [
       "<div>\n",
       "<style scoped>\n",
       "    .dataframe tbody tr th:only-of-type {\n",
       "        vertical-align: middle;\n",
       "    }\n",
       "\n",
       "    .dataframe tbody tr th {\n",
       "        vertical-align: top;\n",
       "    }\n",
       "\n",
       "    .dataframe thead th {\n",
       "        text-align: right;\n",
       "    }\n",
       "</style>\n",
       "<table border=\"1\" class=\"dataframe\">\n",
       "  <thead>\n",
       "    <tr style=\"text-align: right;\">\n",
       "      <th></th>\n",
       "      <th>negative_predicted</th>\n",
       "      <th>positive_predicted</th>\n",
       "    </tr>\n",
       "  </thead>\n",
       "  <tbody>\n",
       "    <tr>\n",
       "      <th>negative_actual</th>\n",
       "      <td>22228</td>\n",
       "      <td>0</td>\n",
       "    </tr>\n",
       "    <tr>\n",
       "      <th>positive_actual</th>\n",
       "      <td>7055</td>\n",
       "      <td>0</td>\n",
       "    </tr>\n",
       "  </tbody>\n",
       "</table>\n",
       "</div>"
      ],
      "text/plain": [
       "                 negative_predicted  positive_predicted\n",
       "negative_actual               22228                   0\n",
       "positive_actual                7055                   0"
      ]
     },
     "execution_count": 160,
     "metadata": {},
     "output_type": "execute_result"
    }
   ],
   "source": [
    "get_confusion(y, y_pred)"
   ]
  },
  {
   "cell_type": "markdown",
   "metadata": {},
   "source": [
    "Looking at the above, we can see clearly that all our model did was predict `negative`.\n",
    "\n",
    "A little bit more on the confusion matrix: the diagonal (i.e. positions `(0,0)` and `(1, 1)`) hold the correct predictions. Points falsely predicted as positive are known as *false positives* (FP), and points correctly predicted as positive are known as *true positives* (TP) - the same nomenclature holds on the negative side.\n",
    "\n",
    "We can get *accuracy* score from the above through taking the following ratio:\n",
    "\n",
    "$$ accuracy = \\frac {TP + TN}{TP + TN + FP + FN}$$\n",
    "\n",
    "i.e. we take the number of correct predictions (or predictions on the diagonal) and divide that by the total number of predictions. But we can get some more nuanced measures here, too. If the above is our overall accuracy, what if we broke that down into two, let's say this colloquially, components? For instance:\n",
    "1. a model's carefulness\n",
    "2. a model's thoroughness\n",
    "\n",
    "How might we calculate these scores? Maybe for \"carefulness,\" we could do:\n",
    "\n",
    "$$ precision = \\frac{TP}{TP + FP}$$\n",
    "\n",
    "The above is the ratio of correct, positive predictions to the number of total positive predictions - i.e. of all the times the model predicted *positive*, what proportion of those predictions were correct? Maybe for \"thoroughness,\" we could do:\n",
    "\n",
    "$$ recall = \\frac{TP}{TP + FN} $$\n",
    "\n",
    "The above is the ratio of correct, positive predictions to the number of total actual positive values - i.e. out of all the actual positive values in the data, what proportion did the model correctly identify?\n",
    "\n",
    "Which you might use depends on what you trying to solve for, and what the consequences of different types of mistakes are. It's almost like different styles of poker players - some bet carefully, preserving their bankroll, while some bet aggressively, not wanting to miss an opptortunity to make money. Or, for another example, it could be like talking to people at a cocktail party - do you want to speak only to people who you think have a good chance of responding to you, or do you want to speak to as many people as possible?\n",
    "\n",
    "And, interestingly, there's a [tradeoff](https://scikit-learn.org/stable/auto_examples/model_selection/plot_precision_recall.html) between precision and recall - lower your decision threshold and you'll identify more positives (higher recall) less precisely (i.e. with more false positives). Often times you want to account for both precision *and* recall, and there a number of other scores one can look to in evaluating a predictive model. For instance, the [f1 score](https://scikit-learn.org/stable/modules/generated/sklearn.metrics.f1_score.html) is the harmonic mean of precision and recall.\n",
    "\n",
    "For now, the 3 scores we've covered, along with the confusion matrix, should provide a great starting point."
   ]
  },
  {
   "cell_type": "markdown",
   "metadata": {},
   "source": [
    "### Cross-validation\n",
    "\n",
    "So how do we actually evaulate our models? We generally:\n",
    "- pick some kind of scoring metric\n",
    "- run several trials using different samples of the data\n",
    "- take the aggregate (usually the *mean*) score across these trials as our meeasure of model performance\n",
    "\n",
    "There are some mechanics to how we achieve this. The standard, applicable to many problems, is [cross-validation](https://en.wikipedia.org/wiki/Cross-validation_(statistics)). In cross-validation, we break the data into chunks or \"folds\" - for the sake of example, let's say 5. We take 4 of those folds and use them to train a model, and test that model on the other fold (or \"hold-out\" or \"test\" fold). Then, we repeat that process, inserting the previous test fold back into the train set, and taking a different train fold out as the test set. We do this until we've tested on all 5 folds and then typically report the average (and maybe standard deviation) performance across these folds.\n",
    "\n",
    "Some additional details:\n",
    "- cross validation (CV) is often referred to as *k-fold cross validation*, where `k` represents the number of folds used (in the above example, 5)\n",
    "- the data is typically sampled randomly into the k folds\n",
    "- in classification, [stratified](https://en.wikipedia.org/wiki/Stratified_sampling) random sampling is used, such that the given class distributions are preserved within each fold\n",
    "\n",
    "So, this whole process is kind of like what we did above, with our \"hold-out\" set that we're using for our final, reported performance estimates, except that we are repeating the process several times. Why?\n",
    "- we can evaluate the model's performance across every provided data point (as we test on every fold)\n",
    "- we avoid ever evaluating the model's results on the data that it was trained it on\n",
    "\n",
    "Finally, why the exterior or initial 90 / 10 breakdown, in addition to CV? That's because we use CV for making decisions like:\n",
    "- which features to use\n",
    "- which model to use\n",
    "- how to tune that model\n",
    "\n",
    "and we want to have fresh data to report our final estimates on that was not used as part of the feature or model selection processes. Let's try this out! We'll use the implementation from [sklearn](https://scikit-learn.org/stable/modules/generated/sklearn.model_selection.cross_val_score.html):"
   ]
  },
  {
   "cell_type": "code",
   "execution_count": 161,
   "metadata": {},
   "outputs": [],
   "source": [
    "rf = RandomForestClassifier(n_estimators=10, class_weight=\"balanced\")"
   ]
  },
  {
   "cell_type": "markdown",
   "metadata": {},
   "source": [
    "Accuracy:"
   ]
  },
  {
   "cell_type": "code",
   "execution_count": 162,
   "metadata": {},
   "outputs": [],
   "source": [
    "accs = cross_val_score(rf, X, y, scoring=make_scorer(accuracy_score), cv=5)"
   ]
  },
  {
   "cell_type": "code",
   "execution_count": 163,
   "metadata": {},
   "outputs": [
    {
     "data": {
      "text/plain": [
       "(0.8393267921901867, 0.00481228812150118)"
      ]
     },
     "execution_count": 163,
     "metadata": {},
     "output_type": "execute_result"
    }
   ],
   "source": [
    "np.mean(accs), np.std(accs)"
   ]
  },
  {
   "cell_type": "markdown",
   "metadata": {},
   "source": [
    "Precision:"
   ]
  },
  {
   "cell_type": "code",
   "execution_count": 164,
   "metadata": {},
   "outputs": [],
   "source": [
    "precs = cross_val_score(rf, X, y, scoring=make_scorer(precision_score), cv=5)"
   ]
  },
  {
   "cell_type": "code",
   "execution_count": 165,
   "metadata": {
    "scrolled": true
   },
   "outputs": [
    {
     "data": {
      "text/plain": [
       "(0.6954928049750633, 0.012904388774531662)"
      ]
     },
     "execution_count": 165,
     "metadata": {},
     "output_type": "execute_result"
    }
   ],
   "source": [
    "np.mean(precs), np.std(precs)"
   ]
  },
  {
   "cell_type": "markdown",
   "metadata": {},
   "source": [
    "Recall:"
   ]
  },
  {
   "cell_type": "code",
   "execution_count": 166,
   "metadata": {},
   "outputs": [],
   "source": [
    "recs = cross_val_score(rf, X, y, scoring=make_scorer(recall_score), cv=5)"
   ]
  },
  {
   "cell_type": "code",
   "execution_count": 167,
   "metadata": {
    "scrolled": false
   },
   "outputs": [
    {
     "data": {
      "text/plain": [
       "(0.6063784549964564, 0.009567420003223918)"
      ]
     },
     "execution_count": 167,
     "metadata": {},
     "output_type": "execute_result"
    }
   ],
   "source": [
    "np.mean(recs), np.std(recs)"
   ]
  },
  {
   "cell_type": "markdown",
   "metadata": {},
   "source": [
    "So our accuracy is way higher than our precision, which is also a good bit higher than our recall - this large disparity amongst scores can be a good indicator that a model is not fitting to the data well."
   ]
  },
  {
   "cell_type": "markdown",
   "metadata": {},
   "source": [
    "### Hyper-parameter tuning\n",
    "\n",
    "An obvious goal when selecting the model is to avoid *underfitting* - i.e. we want our model to fit the data well. But, as mentioned before, we also want to avoid *overfitting*, or building a model that is too tightly coupled to the data it's trained on.\n",
    "\n",
    "There's actually a great concept that encapsulates this relationship, and that's the [bias-variance tradeoff](https://en.wikipedia.org/wiki/Bias%E2%80%93variance_tradeoff). The idea is that, generally speaking, there's a tradeoff between a model being correct and a model being consistent. A model that will, at least on some data, predict certain data with high accuracy may offer much worse performance on other data (i.e. there's \"variance\" in its performance). On the other hand, a model that is restricted from building a tight fit to any particular data may produce predictions that are wrong (or \"biased\").\n",
    "\n",
    "We evaluate fit by comparing our train scores to the test scores. In other words, in addition to retaining performance on each of our hold out sets, we also retain performance when predicting the data the model is trained on. We must **never** report train scores, but they can prove useful when compared to test scores. If there's a large disparity - let's say, greater than 5% - then the model is likely overfitting.\n",
    "\n",
    "How do we handle that? Most models have some *hyper-parameters* - parameters you pass to the model creation process, as opposed to the data that you pass to the model fitting proces - that will restict a model from establishing too tight of a fit. With *logistic regression*, you can control [regularization](https://en.wikipedia.org/wiki/Regularization_(mathematics)) in order to force the model's coefficients to stay near 0. With a random forest, you can control the [depth of a tree](https://en.wikipedia.org/wiki/Decision_tree_pruning)."
   ]
  },
  {
   "cell_type": "code",
   "execution_count": 168,
   "metadata": {},
   "outputs": [],
   "source": [
    "results = cross_validate(rf, X, y, scoring=make_scorer(recall_score), cv=5, return_train_score=True)"
   ]
  },
  {
   "cell_type": "code",
   "execution_count": 169,
   "metadata": {},
   "outputs": [],
   "source": [
    "results_train = pd.Series(results[\"train_score\"], name=\"train\")"
   ]
  },
  {
   "cell_type": "code",
   "execution_count": 170,
   "metadata": {},
   "outputs": [],
   "source": [
    "results_test= pd.Series(results[\"test_score\"], name=\"test\")"
   ]
  },
  {
   "cell_type": "code",
   "execution_count": 171,
   "metadata": {},
   "outputs": [
    {
     "data": {
      "text/html": [
       "<div>\n",
       "<style scoped>\n",
       "    .dataframe tbody tr th:only-of-type {\n",
       "        vertical-align: middle;\n",
       "    }\n",
       "\n",
       "    .dataframe tbody tr th {\n",
       "        vertical-align: top;\n",
       "    }\n",
       "\n",
       "    .dataframe thead th {\n",
       "        text-align: right;\n",
       "    }\n",
       "</style>\n",
       "<table border=\"1\" class=\"dataframe\">\n",
       "  <thead>\n",
       "    <tr style=\"text-align: right;\">\n",
       "      <th></th>\n",
       "      <th>train</th>\n",
       "      <th>test</th>\n",
       "    </tr>\n",
       "  </thead>\n",
       "  <tbody>\n",
       "    <tr>\n",
       "      <th>0</th>\n",
       "      <td>0.939050</td>\n",
       "      <td>0.614458</td>\n",
       "    </tr>\n",
       "    <tr>\n",
       "      <th>1</th>\n",
       "      <td>0.940291</td>\n",
       "      <td>0.606662</td>\n",
       "    </tr>\n",
       "    <tr>\n",
       "      <th>2</th>\n",
       "      <td>0.942948</td>\n",
       "      <td>0.587527</td>\n",
       "    </tr>\n",
       "    <tr>\n",
       "      <th>3</th>\n",
       "      <td>0.935684</td>\n",
       "      <td>0.621545</td>\n",
       "    </tr>\n",
       "    <tr>\n",
       "      <th>4</th>\n",
       "      <td>0.937633</td>\n",
       "      <td>0.598157</td>\n",
       "    </tr>\n",
       "  </tbody>\n",
       "</table>\n",
       "</div>"
      ],
      "text/plain": [
       "      train      test\n",
       "0  0.939050  0.614458\n",
       "1  0.940291  0.606662\n",
       "2  0.942948  0.587527\n",
       "3  0.935684  0.621545\n",
       "4  0.937633  0.598157"
      ]
     },
     "execution_count": 171,
     "metadata": {},
     "output_type": "execute_result"
    }
   ],
   "source": [
    "results_train.to_frame().join(results_test)"
   ]
  },
  {
   "cell_type": "markdown",
   "metadata": {},
   "source": [
    "We can see quite a disparity here! I wonder what will happen if we limit tree depth?"
   ]
  },
  {
   "cell_type": "code",
   "execution_count": 172,
   "metadata": {},
   "outputs": [],
   "source": [
    "rf_depth = RandomForestClassifier(n_estimators=10, class_weight=\"balanced\", max_depth=16)"
   ]
  },
  {
   "cell_type": "code",
   "execution_count": 173,
   "metadata": {},
   "outputs": [],
   "source": [
    "results = cross_validate(rf_depth, X, y, scoring=make_scorer(recall_score), cv=5, return_train_score=True)"
   ]
  },
  {
   "cell_type": "code",
   "execution_count": 174,
   "metadata": {},
   "outputs": [],
   "source": [
    "results_train = pd.Series(results[\"train_score\"], name=\"train\")"
   ]
  },
  {
   "cell_type": "code",
   "execution_count": 175,
   "metadata": {},
   "outputs": [],
   "source": [
    "results_test= pd.Series(results[\"test_score\"], name=\"test\")"
   ]
  },
  {
   "cell_type": "code",
   "execution_count": 176,
   "metadata": {},
   "outputs": [
    {
     "data": {
      "text/html": [
       "<div>\n",
       "<style scoped>\n",
       "    .dataframe tbody tr th:only-of-type {\n",
       "        vertical-align: middle;\n",
       "    }\n",
       "\n",
       "    .dataframe tbody tr th {\n",
       "        vertical-align: top;\n",
       "    }\n",
       "\n",
       "    .dataframe thead th {\n",
       "        text-align: right;\n",
       "    }\n",
       "</style>\n",
       "<table border=\"1\" class=\"dataframe\">\n",
       "  <thead>\n",
       "    <tr style=\"text-align: right;\">\n",
       "      <th></th>\n",
       "      <th>train</th>\n",
       "      <th>test</th>\n",
       "    </tr>\n",
       "  </thead>\n",
       "  <tbody>\n",
       "    <tr>\n",
       "      <th>0</th>\n",
       "      <td>0.921687</td>\n",
       "      <td>0.840539</td>\n",
       "    </tr>\n",
       "    <tr>\n",
       "      <th>1</th>\n",
       "      <td>0.924876</td>\n",
       "      <td>0.851878</td>\n",
       "    </tr>\n",
       "    <tr>\n",
       "      <th>2</th>\n",
       "      <td>0.924699</td>\n",
       "      <td>0.833451</td>\n",
       "    </tr>\n",
       "    <tr>\n",
       "      <th>3</th>\n",
       "      <td>0.919029</td>\n",
       "      <td>0.841247</td>\n",
       "    </tr>\n",
       "    <tr>\n",
       "      <th>4</th>\n",
       "      <td>0.920801</td>\n",
       "      <td>0.851878</td>\n",
       "    </tr>\n",
       "  </tbody>\n",
       "</table>\n",
       "</div>"
      ],
      "text/plain": [
       "      train      test\n",
       "0  0.921687  0.840539\n",
       "1  0.924876  0.851878\n",
       "2  0.924699  0.833451\n",
       "3  0.919029  0.841247\n",
       "4  0.920801  0.851878"
      ]
     },
     "execution_count": 176,
     "metadata": {},
     "output_type": "execute_result"
    }
   ],
   "source": [
    "results_train.to_frame().join(results_test)"
   ]
  },
  {
   "cell_type": "markdown",
   "metadata": {},
   "source": [
    "Wow - a big difference! By the way, if we wanted to evaluate based on limiting the size of the leaves in the trees, as opposed to explicitly limiting the depth of the tree, you could tweak the `min_samples_leaf` hyper-parameter. These methods are probably pretty comparable in practice but maybe offer different interpretations, each of which might fit certain datasets or problems better.\n",
    "\n",
    "A good tecnhique is to evaluate a model's performance over different hyper-parameter values. `sklearn` has [implemented](https://scikit-learn.org/stable/modules/generated/sklearn.model_selection.GridSearchCV.html) something called `GridSearchCV`, which will perform an exhaustive search over the different parameter values you pass. This is a great tool, and makes setting up automated build pipelines much easier.\n",
    "\n",
    "However, in the analysis stage, it can be worthwhile to actually *look* at results. `indoorplants` offers `matplotlib` wrappers for some of the `sklearn` functionality to allow for visualizing CV over different hyper-parameter values."
   ]
  },
  {
   "cell_type": "code",
   "execution_count": 177,
   "metadata": {},
   "outputs": [
    {
     "data": {
      "image/png": "[encoded data removed]",
      "text/plain": [
       "<Figure size 792x576 with 1 Axes>"
      ]
     },
     "metadata": {
      "needs_background": "light"
     },
     "output_type": "display_data"
    }
   ],
   "source": [
    "curves.validation_curve(X, y,\n",
    "                        score=recall_score,\n",
    "                        model_type=RandomForestClassifier,\n",
    "                        param_name=\"max_depth\",\n",
    "                        param_range=[2*n for n in range(1, 11)],\n",
    "                        other_params={\"n_estimators\": 10, \"class_weight\": \"balanced\"})"
   ]
  },
  {
   "cell_type": "markdown",
   "metadata": {},
   "source": [
    "Here we can see the overfitting quite clearly - look how the train and test scores separate as tree depth increases! It looks like `max_depth=12` might offer a good balance. Now, we can also consider precision, and a good way to compare precision to recall is through looking at a *precision-recall curve*:"
   ]
  },
  {
   "cell_type": "code",
   "execution_count": 178,
   "metadata": {},
   "outputs": [
    {
     "data": {
      "image/png": "[encoded data removed]",
      "text/plain": [
       "<Figure size 792x576 with 1 Axes>"
      ]
     },
     "metadata": {
      "needs_background": "light"
     },
     "output_type": "display_data"
    }
   ],
   "source": [
    "curves.precision_recall_curve(\n",
    "                        X, y,\n",
    "                        model_type=RandomForestClassifier,\n",
    "                        model_params={\"max_depth\": 12, \"n_estimators\": 10, \"class_weight\": \"balanced\"}\n",
    "                )"
   ]
  },
  {
   "cell_type": "markdown",
   "metadata": {},
   "source": [
    "The numbers above the line represent the [decision threshold](https://machinelearningmastery.com/threshold-moving-for-imbalanced-classification/), or the score at which our model will make a positive classification. See, the way most classifiers work is they actually produce some kind of \"score\" that is then rolled up into the prediction of a \"label\" or class.\n",
    "\n",
    "For some models these scores can be considered sound probability estimates, as with logistic regression classifiers. Random forests do a pretty good job with scores (i.e. they tend to be pretty well [calibrated](https://www.svds.com/classifiers2/).\n",
    "\n",
    "You can see that, as we lower our decision threshold, we increase our recall at the expense of our precision. Based on what we're seeing I might set our decision threshold at 65% or .65 - the default is typically 50%. This step is not always necessary but can prove helpful when classes are imbalanced (as ours are, although the 3:1 class ratios we have are not that severe). This is generally a step you'd take in a pretty imblanced problem after you had put some effort into model tuning."
   ]
  },
  {
   "cell_type": "markdown",
   "metadata": {},
   "source": [
    "### Model Selection, Additional Details\n",
    "\n",
    "There are many models to choose from, with each providing its own strengths and weaknesses.\n",
    "\n",
    "Simpler models lead to reduced odds of overfitting, quicker build times, and easier debugging when problems occur. For example, [logistic regression](https://en.wikipedia.org/wiki/Logistic_regression#:~:text=Logistic%20regression%20is%20a%20statistical,a%20form%20of%20binary%20regression), which basically entails wrapping a linear regression model with the *logit* function (squashing output to be between 0 and 1 so that it can be interpreted as a probability), is considered a very simple model. As an added bonus, if you need to go beyond class labels and into class probabilities, logistic regession naturally does a great job there.\n",
    "\n",
    "Complex models, while sometimes useful or even necessary, can bring the burdens of potential overfitting, more hyperparameters to tune, longer train times, and more complicated debugging procedures. They can sometimes deliver much stronger results (see: the world of [neural networks](https://en.wikipedia.org/wiki/Artificial_neural_network)). Often it comes down to bias & variance: would you rather have your model be wrong, but conistent, or sometimes very right and sometimes very wrong? Generally, it's somewhere in between.\n",
    "\n",
    "Now, data preparation plays a part, too. With any model that involves taking a linear combination of features (e.g. logistic regression, or the internals of a [multilayer perceptron](https://en.wikipedia.org/wiki/Multilayer_perceptron)), pre-treating continuous data so that its values are [normalized](https://en.wikipedia.org/wiki/Feature_scaling) (to be between 0 and 1) is very important. So is reducing skewness. Additionally, you must worry about outliers. And of course, missing data.\n",
    "\n",
    "With a random forest, you do not need to worry about feature scaling or skewness. You also don't really need to worry about outliers (since the tree works through splitting, and not multiplying and adding). Ditto for missing data, as long as you encode it correctly. That's not to say that you shouldn't have an understanding of the source of your data quality issues, just that you don't have to worry about coding around them.\n",
    "\n",
    "So, RF models take some of the fun out of creative data prep, but they take some of the work out, too!"
   ]
  },
  {
   "cell_type": "markdown",
   "metadata": {},
   "source": [
    "### --"
   ]
  },
  {
   "cell_type": "markdown",
   "metadata": {},
   "source": [
    "### Problem\n",
    "\n",
    "Your turn - find the \"best\" model you can. This means you need to:\n",
    "- pick a score function to use\n",
    "- pick a subset of the feature space to use\n",
    "- pick the model hyper-parameters to use\n",
    "\n",
    "Try out different combinations of features to see if you get anything that's noticeably better. For those of you who have done this before, please feel free to try additional models."
   ]
  },
  {
   "cell_type": "markdown",
   "metadata": {},
   "source": [
    "### --"
   ]
  },
  {
   "cell_type": "markdown",
   "metadata": {},
   "source": [
    "### Final performance estimation\n",
    "\n",
    "Once we've done _everything_ we'd like to do for our model evaulation, we can use our selected model to predict the _hold-out_ set that we saved earlier. We'll build our `X` and `y` as we did before."
   ]
  },
  {
   "cell_type": "code",
   "execution_count": 179,
   "metadata": {},
   "outputs": [],
   "source": [
    "def is_y_col(c):\n",
    "    return c != \"over_fifty_k\""
   ]
  },
  {
   "cell_type": "code",
   "execution_count": 180,
   "metadata": {},
   "outputs": [
    {
     "data": {
      "text/plain": [
       "['age',\n",
       " 'workclass',\n",
       " 'fnlwgt',\n",
       " 'education',\n",
       " 'marital_status',\n",
       " 'occupation',\n",
       " 'relationship',\n",
       " 'race',\n",
       " 'sex',\n",
       " 'capital_gain',\n",
       " 'capital_loss',\n",
       " 'hours_per_week',\n",
       " 'native_country',\n",
       " 'over_fifty_k_bool',\n",
       " 'age_log',\n",
       " 'capital_gain_net']"
      ]
     },
     "execution_count": 180,
     "metadata": {},
     "output_type": "execute_result"
    }
   ],
   "source": [
    "[c for c in table.columns if is_y_col(c)]"
   ]
  },
  {
   "cell_type": "code",
   "execution_count": 181,
   "metadata": {},
   "outputs": [],
   "source": [
    "table_test = table.loc[test_inds, [c for c in table.columns if c != \"over_fifty_k\"]]"
   ]
  },
  {
   "cell_type": "code",
   "execution_count": 182,
   "metadata": {},
   "outputs": [],
   "source": [
    "fifty_k_test = table.loc[test_inds, \"over_fifty_k_bool\"]"
   ]
  },
  {
   "cell_type": "code",
   "execution_count": 183,
   "metadata": {},
   "outputs": [],
   "source": [
    "table_test = table_test.drop([\"capital_gain\", \"capital_loss\", \"age_log\", \"fnlwgt\"], axis=1)"
   ]
  },
  {
   "cell_type": "code",
   "execution_count": 184,
   "metadata": {},
   "outputs": [],
   "source": [
    "_one_hots = [\n",
    "                pd.get_dummies(\n",
    "                        table_test[col], drop_first=True, prefix=col\n",
    "                    )\n",
    "             for col in table_test.select_dtypes(include=object).columns\n",
    "        ]"
   ]
  },
  {
   "cell_type": "code",
   "execution_count": 185,
   "metadata": {},
   "outputs": [],
   "source": [
    "one_hot_df_test = _one_hots[0].join(_one_hots[1:])"
   ]
  },
  {
   "cell_type": "code",
   "execution_count": 186,
   "metadata": {},
   "outputs": [
    {
     "data": {
      "text/plain": [
       "(3254, 89)"
      ]
     },
     "execution_count": 186,
     "metadata": {},
     "output_type": "execute_result"
    }
   ],
   "source": [
    "one_hot_df_test.shape"
   ]
  },
  {
   "cell_type": "code",
   "execution_count": 187,
   "metadata": {},
   "outputs": [],
   "source": [
    "X_test = one_hot_df_test.join(table_test.select_dtypes(include=[int, float]))"
   ]
  },
  {
   "cell_type": "code",
   "execution_count": 188,
   "metadata": {},
   "outputs": [
    {
     "data": {
      "text/plain": [
       "(3254, 92)"
      ]
     },
     "execution_count": 188,
     "metadata": {},
     "output_type": "execute_result"
    }
   ],
   "source": [
    "X_test.shape"
   ]
  },
  {
   "cell_type": "markdown",
   "metadata": {},
   "source": [
    "Now, we must make sure that the columns of `X_test` line up with those of the `X` that we trained on."
   ]
  },
  {
   "cell_type": "code",
   "execution_count": 189,
   "metadata": {},
   "outputs": [
    {
     "data": {
      "text/plain": [
       "{'native_country_Ecuador',\n",
       " 'native_country_Honduras',\n",
       " 'native_country_Laos',\n",
       " 'native_country_Outlying-US(Guam-USVI-etc)',\n",
       " 'native_country_Peru',\n",
       " 'native_country_Thailand',\n",
       " 'occupation_Armed-Forces'}"
      ]
     },
     "execution_count": 189,
     "metadata": {},
     "output_type": "execute_result"
    }
   ],
   "source": [
    "set(X_test.columns) - set(X.columns)"
   ]
  },
  {
   "cell_type": "markdown",
   "metadata": {},
   "source": [
    "So, `X_test` has some columns that `X` doesn't (remember that we dropped some columns during feature selection)."
   ]
  },
  {
   "cell_type": "code",
   "execution_count": 190,
   "metadata": {},
   "outputs": [
    {
     "data": {
      "text/plain": [
       "{'native_country_Hungary', 'native_country_Yugoslavia'}"
      ]
     },
     "execution_count": 190,
     "metadata": {},
     "output_type": "execute_result"
    }
   ],
   "source": [
    "set(X.columns) - set(X_test.columns)"
   ]
  },
  {
   "cell_type": "markdown",
   "metadata": {},
   "source": [
    "Whoa, why does `X` have columns `X_test` doesn't? Because our one-hot features in each table were created on subsets of the data (train and test), we probably have some categorical values that were present in `test` but not `train`. \n",
    "\n",
    "So, we'll drop anything in `X_test` that's not in `X`, and we'll also add `0` columns for anything `X_test` is missing (i.e. we'll create new, one-hot columns but since we know the values were missing, we can just set them to `0` or `False`)."
   ]
  },
  {
   "cell_type": "code",
   "execution_count": 191,
   "metadata": {},
   "outputs": [],
   "source": [
    "X_test = X_test.drop(list(set(X_test.columns) - set(X.columns)), axis=1)"
   ]
  },
  {
   "cell_type": "code",
   "execution_count": 192,
   "metadata": {},
   "outputs": [],
   "source": [
    "for c in set(X.columns) - set(X_test.columns):\n",
    "    X_test[c] = 0"
   ]
  },
  {
   "cell_type": "code",
   "execution_count": 193,
   "metadata": {
    "scrolled": true
   },
   "outputs": [
    {
     "data": {
      "text/plain": [
       "(3254, 87)"
      ]
     },
     "execution_count": 193,
     "metadata": {},
     "output_type": "execute_result"
    }
   ],
   "source": [
    "X_test.shape"
   ]
  },
  {
   "cell_type": "code",
   "execution_count": 194,
   "metadata": {},
   "outputs": [],
   "source": [
    "y_test = fifty_k_test"
   ]
  },
  {
   "cell_type": "code",
   "execution_count": 195,
   "metadata": {},
   "outputs": [
    {
     "data": {
      "text/plain": [
       "False    0.759066\n",
       "True     0.240934\n",
       "Name: over_fifty_k_bool, dtype: float64"
      ]
     },
     "execution_count": 195,
     "metadata": {},
     "output_type": "execute_result"
    }
   ],
   "source": [
    "y_test.value_counts(normalize=True)"
   ]
  },
  {
   "cell_type": "markdown",
   "metadata": {},
   "source": [
    "Now, we can train our model:"
   ]
  },
  {
   "cell_type": "code",
   "execution_count": 196,
   "metadata": {},
   "outputs": [],
   "source": [
    "rf = RandomForestClassifier(max_depth=12, class_weight=\"balanced\", n_estimators=10)"
   ]
  },
  {
   "cell_type": "code",
   "execution_count": 197,
   "metadata": {},
   "outputs": [],
   "source": [
    "rf = rf.fit(X, y)"
   ]
  },
  {
   "cell_type": "markdown",
   "metadata": {},
   "source": [
    "Let's predict our hold-out data:"
   ]
  },
  {
   "cell_type": "code",
   "execution_count": 198,
   "metadata": {},
   "outputs": [],
   "source": [
    "y_pred = rf.predict(X_test)"
   ]
  },
  {
   "cell_type": "markdown",
   "metadata": {},
   "source": [
    "And finally, let's evaluate:"
   ]
  },
  {
   "cell_type": "code",
   "execution_count": 199,
   "metadata": {},
   "outputs": [
    {
     "name": "stdout",
     "output_type": "stream",
     "text": [
      "accuracy_score:  0.7768899815611555\n",
      "precision_score:  0.6883116883116883\n",
      "recall_score:  0.13520408163265307\n"
     ]
    }
   ],
   "source": [
    "for score in (accuracy_score, precision_score, recall_score):\n",
    "    print(f\"{score.__name__}: \", score(y_test, y_pred))"
   ]
  },
  {
   "cell_type": "code",
   "execution_count": 200,
   "metadata": {},
   "outputs": [
    {
     "data": {
      "text/html": [
       "<div>\n",
       "<style scoped>\n",
       "    .dataframe tbody tr th:only-of-type {\n",
       "        vertical-align: middle;\n",
       "    }\n",
       "\n",
       "    .dataframe tbody tr th {\n",
       "        vertical-align: top;\n",
       "    }\n",
       "\n",
       "    .dataframe thead th {\n",
       "        text-align: right;\n",
       "    }\n",
       "</style>\n",
       "<table border=\"1\" class=\"dataframe\">\n",
       "  <thead>\n",
       "    <tr style=\"text-align: right;\">\n",
       "      <th></th>\n",
       "      <th>negative_predicted</th>\n",
       "      <th>positive_predicted</th>\n",
       "    </tr>\n",
       "  </thead>\n",
       "  <tbody>\n",
       "    <tr>\n",
       "      <th>negative_actual</th>\n",
       "      <td>2422</td>\n",
       "      <td>48</td>\n",
       "    </tr>\n",
       "    <tr>\n",
       "      <th>positive_actual</th>\n",
       "      <td>678</td>\n",
       "      <td>106</td>\n",
       "    </tr>\n",
       "  </tbody>\n",
       "</table>\n",
       "</div>"
      ],
      "text/plain": [
       "                 negative_predicted  positive_predicted\n",
       "negative_actual                2422                  48\n",
       "positive_actual                 678                 106"
      ]
     },
     "execution_count": 200,
     "metadata": {},
     "output_type": "execute_result"
    }
   ],
   "source": [
    "get_confusion(y_test, y_pred)"
   ]
  },
  {
   "cell_type": "markdown",
   "metadata": {},
   "source": [
    "So, how'd we do? Our model looks okay but is proving to be overly cautious in making positive predictions. I.e., our recall is too low / we have too many false negatives. This is a pretty common occurence in imblanaced problems - we simply have less positive instances to learn from, so our model doesn't predict as many of them as it should.\n",
    "\n",
    "Some potential [improvements](https://www.svds.com/learning-imbalanced-classes/):\n",
    "- change `class_weight` from `\"balanced\"` to something that explicitly favors the positive class\n",
    "- contrary to what's been discussed above, make the decision threshold *lower* - this will help with recall\n",
    "- resample the data to artificially create class balance (through removing negative instances or duplicating positive instances)\n",
    "\n",
    "Of course, this is our reporting run, so we don't want to use this for tuning, selection, etc. If you end up in this type of situation, take it as a nudge to go back to validation and really work things out (in this case, validating over different `class_weight` values is the easiest step) and then, once you've made a final decision, generate reporting estimates and call it a day!"
   ]
  },
  {
   "cell_type": "code",
   "execution_count": null,
   "metadata": {},
   "outputs": [],
   "source": []
  }
 ],
 "metadata": {
  "kernelspec": {
   "display_name": "Python 3",
   "language": "python",
   "name": "python3"
  },
  "language_info": {
   "codemirror_mode": {
    "name": "ipython",
    "version": 3
   },
   "file_extension": ".py",
   "mimetype": "text/x-python",
   "name": "python",
   "nbconvert_exporter": "python",
   "pygments_lexer": "ipython3",
   "version": "3.7.6"
  }
 },
 "nbformat": 4,
 "nbformat_minor": 2
}
